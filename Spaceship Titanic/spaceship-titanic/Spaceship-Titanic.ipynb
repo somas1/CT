{
  "nbformat": 4,
  "nbformat_minor": 0,
  "metadata": {
    "colab": {
      "provenance": [],
      "authorship_tag": "ABX9TyPV6XYH2DnwJsD1cUu4sTEY",
      "include_colab_link": true
    },
    "kernelspec": {
      "name": "python3",
      "display_name": "Python 3"
    },
    "language_info": {
      "name": "python"
    }
  },
  "cells": [
    {
      "cell_type": "markdown",
      "metadata": {
        "id": "view-in-github",
        "colab_type": "text"
      },
      "source": [
        "<a href=\"https://colab.research.google.com/github/somas1/CT/blob/main/Spaceship%20Titanic/spaceship-titanic/Spaceship-Titanic.ipynb\" target=\"_parent\"><img src=\"https://colab.research.google.com/assets/colab-badge.svg\" alt=\"Open In Colab\"/></a>"
      ]
    },
    {
      "cell_type": "markdown",
      "source": [
        "This notebook will present observations and analysis on a Kaggle dataset that focuses on the [Spaceship Titanic](https://www.kaggle.com/competitions/spaceship-titanic/overview)"
      ],
      "metadata": {
        "id": "3CxjFAgDL4X0"
      }
    },
    {
      "cell_type": "code",
      "execution_count": 2,
      "metadata": {
        "id": "mPpO6_WAKAFq"
      },
      "outputs": [],
      "source": [
        "# Import libraries necessary for analysis.\n",
        "import pandas as pd\n",
        "import numpy as np\n",
        "import seaborn as sns\n",
        "import matplotlib.pyplot as plt\n",
        "\n",
        "!wget -q https://github.com/somas1/CT/blob/HEAD/Spaceship%20Titanic/spaceship-titanic/train.csv"
      ]
    }
  ]
}