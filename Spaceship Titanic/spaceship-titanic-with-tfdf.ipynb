{
  "metadata": {
    "kernelspec": {
      "language": "python",
      "display_name": "Python 3",
      "name": "python3"
    },
    "language_info": {
      "pygments_lexer": "ipython3",
      "nbconvert_exporter": "python",
      "version": "3.6.4",
      "file_extension": ".py",
      "codemirror_mode": {
        "name": "ipython",
        "version": 3
      },
      "name": "python",
      "mimetype": "text/x-python"
    },
    "colab": {
      "provenance": [],
      "include_colab_link": true
    }
  },
  "nbformat_minor": 0,
  "nbformat": 4,
  "cells": [
    {
      "cell_type": "markdown",
      "metadata": {
        "id": "view-in-github",
        "colab_type": "text"
      },
      "source": [
        "<a href=\"https://colab.research.google.com/github/somas1/CT/blob/main/Spaceship%20Titanic/spaceship-titanic-with-tfdf.ipynb\" target=\"_parent\"><img src=\"https://colab.research.google.com/assets/colab-badge.svg\" alt=\"Open In Colab\"/></a>"
      ]
    },
    {
      "cell_type": "markdown",
      "source": [
        "# Spaceship Titanic Dataset with TensorFlow Decision Forests"
      ],
      "metadata": {
        "id": "Ck00s7mTmnjA"
      }
    },
    {
      "cell_type": "markdown",
      "source": [
        "This notebook walks you through how to train a baseline Random Forest model using TensorFlow Decision Forests on the Spaceship Titanic dataset made available for this competition.\n",
        "\n",
        "Roughly, the code will look as follows:\n",
        "\n",
        "```\n",
        "import tensorflow_decision_forests as tfdf\n",
        "import pandas as pd\n",
        "\n",
        "dataset = pd.read_csv(\"project/dataset.csv\")\n",
        "tf_dataset = tfdf.keras.pd_dataframe_to_tf_dataset(dataset, label=\"my_label\")\n",
        "\n",
        "model = tfdf.keras.RandomForestModel()\n",
        "model.fit(tf_dataset)\n",
        "\n",
        "print(model.summary())\n",
        "```\n",
        "\n",
        "Decision Forests are a family of tree-based models including Random Forests and Gradient Boosted Trees. They are the best place to start when working with tabular data, and will often outperform (or provide a strong baseline) before you begin experimenting with neural networks."
      ],
      "metadata": {
        "id": "62leGXylmnjF"
      }
    },
    {
      "cell_type": "markdown",
      "source": [
        "# Import the library"
      ],
      "metadata": {
        "id": "UPNzfVOEmnjH"
      }
    },
    {
      "cell_type": "code",
      "source": [
        "#import tensorflow as tf\n",
        "#import tensorflow_decision_forests as tfdf\n",
        "import pandas as pd\n",
        "import numpy as np\n",
        "import seaborn as sns\n",
        "import matplotlib.pyplot as plt"
      ],
      "metadata": {
        "id": "mmwBzpblmnjH",
        "execution": {
          "iopub.status.busy": "2023-03-17T11:37:48.407982Z",
          "iopub.execute_input": "2023-03-17T11:37:48.408367Z",
          "iopub.status.idle": "2023-03-17T11:38:00.236292Z",
          "shell.execute_reply.started": "2023-03-17T11:37:48.408331Z",
          "shell.execute_reply": "2023-03-17T11:38:00.234875Z"
        },
        "trusted": true
      },
      "execution_count": 1,
      "outputs": []
    },
    {
      "cell_type": "markdown",
      "source": [
        "# Load the Dataset"
      ],
      "metadata": {
        "id": "6sHFpppPmnjJ"
      }
    },
    {
      "cell_type": "code",
      "source": [
        "# Load a dataset into a Pandas Dataframe\n",
        "dataset_df = pd.read_csv('train.csv')\n",
        "print(\"Full train dataset shape is {}\".format(dataset_df.shape))"
      ],
      "metadata": {
        "id": "c1P3Y3a7mnjL",
        "execution": {
          "iopub.status.busy": "2023-03-17T11:38:00.248430Z",
          "iopub.execute_input": "2023-03-17T11:38:00.248845Z",
          "iopub.status.idle": "2023-03-17T11:38:00.331706Z",
          "shell.execute_reply.started": "2023-03-17T11:38:00.248794Z",
          "shell.execute_reply": "2023-03-17T11:38:00.330322Z"
        },
        "trusted": true,
        "colab": {
          "base_uri": "https://localhost:8080/"
        },
        "outputId": "42f89b23-62c5-42e9-e228-eb182e658b17"
      },
      "execution_count": 2,
      "outputs": [
        {
          "output_type": "stream",
          "name": "stdout",
          "text": [
            "Full train dataset shape is (8693, 14)\n"
          ]
        }
      ]
    },
    {
      "cell_type": "markdown",
      "source": [
        "The data is composed of 14 columns and 8693 entries. We can see all 14 dimensions of our dataset by printing out the first 5 entries using the following code:"
      ],
      "metadata": {
        "id": "cEd92zhJmnjL"
      }
    },
    {
      "cell_type": "code",
      "source": [
        "# Display the first 5 examples\n",
        "dataset_df.head(5)"
      ],
      "metadata": {
        "id": "nCx3PE1xmnjM",
        "execution": {
          "iopub.status.busy": "2023-03-17T11:38:00.334527Z",
          "iopub.execute_input": "2023-03-17T11:38:00.334921Z",
          "iopub.status.idle": "2023-03-17T11:38:00.375222Z",
          "shell.execute_reply.started": "2023-03-17T11:38:00.334887Z",
          "shell.execute_reply": "2023-03-17T11:38:00.373944Z"
        },
        "trusted": true,
        "colab": {
          "base_uri": "https://localhost:8080/",
          "height": 238
        },
        "outputId": "ec61a9cb-e2e7-41ca-c54f-4bfdc9b58eb1"
      },
      "execution_count": 3,
      "outputs": [
        {
          "output_type": "execute_result",
          "data": {
            "text/plain": [
              "  PassengerId HomePlanet CryoSleep  Cabin  Destination   Age    VIP  \\\n",
              "0     0001_01     Europa     False  B/0/P  TRAPPIST-1e  39.0  False   \n",
              "1     0002_01      Earth     False  F/0/S  TRAPPIST-1e  24.0  False   \n",
              "2     0003_01     Europa     False  A/0/S  TRAPPIST-1e  58.0   True   \n",
              "3     0003_02     Europa     False  A/0/S  TRAPPIST-1e  33.0  False   \n",
              "4     0004_01      Earth     False  F/1/S  TRAPPIST-1e  16.0  False   \n",
              "\n",
              "   RoomService  FoodCourt  ShoppingMall     Spa  VRDeck               Name  \\\n",
              "0          0.0        0.0           0.0     0.0     0.0    Maham Ofracculy   \n",
              "1        109.0        9.0          25.0   549.0    44.0       Juanna Vines   \n",
              "2         43.0     3576.0           0.0  6715.0    49.0      Altark Susent   \n",
              "3          0.0     1283.0         371.0  3329.0   193.0       Solam Susent   \n",
              "4        303.0       70.0         151.0   565.0     2.0  Willy Santantines   \n",
              "\n",
              "   Transported  \n",
              "0        False  \n",
              "1         True  \n",
              "2        False  \n",
              "3        False  \n",
              "4         True  "
            ],
            "text/html": [
              "\n",
              "  <div id=\"df-1c84e79e-f137-4986-8306-42430e6e5441\" class=\"colab-df-container\">\n",
              "    <div>\n",
              "<style scoped>\n",
              "    .dataframe tbody tr th:only-of-type {\n",
              "        vertical-align: middle;\n",
              "    }\n",
              "\n",
              "    .dataframe tbody tr th {\n",
              "        vertical-align: top;\n",
              "    }\n",
              "\n",
              "    .dataframe thead th {\n",
              "        text-align: right;\n",
              "    }\n",
              "</style>\n",
              "<table border=\"1\" class=\"dataframe\">\n",
              "  <thead>\n",
              "    <tr style=\"text-align: right;\">\n",
              "      <th></th>\n",
              "      <th>PassengerId</th>\n",
              "      <th>HomePlanet</th>\n",
              "      <th>CryoSleep</th>\n",
              "      <th>Cabin</th>\n",
              "      <th>Destination</th>\n",
              "      <th>Age</th>\n",
              "      <th>VIP</th>\n",
              "      <th>RoomService</th>\n",
              "      <th>FoodCourt</th>\n",
              "      <th>ShoppingMall</th>\n",
              "      <th>Spa</th>\n",
              "      <th>VRDeck</th>\n",
              "      <th>Name</th>\n",
              "      <th>Transported</th>\n",
              "    </tr>\n",
              "  </thead>\n",
              "  <tbody>\n",
              "    <tr>\n",
              "      <th>0</th>\n",
              "      <td>0001_01</td>\n",
              "      <td>Europa</td>\n",
              "      <td>False</td>\n",
              "      <td>B/0/P</td>\n",
              "      <td>TRAPPIST-1e</td>\n",
              "      <td>39.0</td>\n",
              "      <td>False</td>\n",
              "      <td>0.0</td>\n",
              "      <td>0.0</td>\n",
              "      <td>0.0</td>\n",
              "      <td>0.0</td>\n",
              "      <td>0.0</td>\n",
              "      <td>Maham Ofracculy</td>\n",
              "      <td>False</td>\n",
              "    </tr>\n",
              "    <tr>\n",
              "      <th>1</th>\n",
              "      <td>0002_01</td>\n",
              "      <td>Earth</td>\n",
              "      <td>False</td>\n",
              "      <td>F/0/S</td>\n",
              "      <td>TRAPPIST-1e</td>\n",
              "      <td>24.0</td>\n",
              "      <td>False</td>\n",
              "      <td>109.0</td>\n",
              "      <td>9.0</td>\n",
              "      <td>25.0</td>\n",
              "      <td>549.0</td>\n",
              "      <td>44.0</td>\n",
              "      <td>Juanna Vines</td>\n",
              "      <td>True</td>\n",
              "    </tr>\n",
              "    <tr>\n",
              "      <th>2</th>\n",
              "      <td>0003_01</td>\n",
              "      <td>Europa</td>\n",
              "      <td>False</td>\n",
              "      <td>A/0/S</td>\n",
              "      <td>TRAPPIST-1e</td>\n",
              "      <td>58.0</td>\n",
              "      <td>True</td>\n",
              "      <td>43.0</td>\n",
              "      <td>3576.0</td>\n",
              "      <td>0.0</td>\n",
              "      <td>6715.0</td>\n",
              "      <td>49.0</td>\n",
              "      <td>Altark Susent</td>\n",
              "      <td>False</td>\n",
              "    </tr>\n",
              "    <tr>\n",
              "      <th>3</th>\n",
              "      <td>0003_02</td>\n",
              "      <td>Europa</td>\n",
              "      <td>False</td>\n",
              "      <td>A/0/S</td>\n",
              "      <td>TRAPPIST-1e</td>\n",
              "      <td>33.0</td>\n",
              "      <td>False</td>\n",
              "      <td>0.0</td>\n",
              "      <td>1283.0</td>\n",
              "      <td>371.0</td>\n",
              "      <td>3329.0</td>\n",
              "      <td>193.0</td>\n",
              "      <td>Solam Susent</td>\n",
              "      <td>False</td>\n",
              "    </tr>\n",
              "    <tr>\n",
              "      <th>4</th>\n",
              "      <td>0004_01</td>\n",
              "      <td>Earth</td>\n",
              "      <td>False</td>\n",
              "      <td>F/1/S</td>\n",
              "      <td>TRAPPIST-1e</td>\n",
              "      <td>16.0</td>\n",
              "      <td>False</td>\n",
              "      <td>303.0</td>\n",
              "      <td>70.0</td>\n",
              "      <td>151.0</td>\n",
              "      <td>565.0</td>\n",
              "      <td>2.0</td>\n",
              "      <td>Willy Santantines</td>\n",
              "      <td>True</td>\n",
              "    </tr>\n",
              "  </tbody>\n",
              "</table>\n",
              "</div>\n",
              "    <div class=\"colab-df-buttons\">\n",
              "\n",
              "  <div class=\"colab-df-container\">\n",
              "    <button class=\"colab-df-convert\" onclick=\"convertToInteractive('df-1c84e79e-f137-4986-8306-42430e6e5441')\"\n",
              "            title=\"Convert this dataframe to an interactive table.\"\n",
              "            style=\"display:none;\">\n",
              "\n",
              "  <svg xmlns=\"http://www.w3.org/2000/svg\" height=\"24px\" viewBox=\"0 -960 960 960\">\n",
              "    <path d=\"M120-120v-720h720v720H120Zm60-500h600v-160H180v160Zm220 220h160v-160H400v160Zm0 220h160v-160H400v160ZM180-400h160v-160H180v160Zm440 0h160v-160H620v160ZM180-180h160v-160H180v160Zm440 0h160v-160H620v160Z\"/>\n",
              "  </svg>\n",
              "    </button>\n",
              "\n",
              "  <style>\n",
              "    .colab-df-container {\n",
              "      display:flex;\n",
              "      gap: 12px;\n",
              "    }\n",
              "\n",
              "    .colab-df-convert {\n",
              "      background-color: #E8F0FE;\n",
              "      border: none;\n",
              "      border-radius: 50%;\n",
              "      cursor: pointer;\n",
              "      display: none;\n",
              "      fill: #1967D2;\n",
              "      height: 32px;\n",
              "      padding: 0 0 0 0;\n",
              "      width: 32px;\n",
              "    }\n",
              "\n",
              "    .colab-df-convert:hover {\n",
              "      background-color: #E2EBFA;\n",
              "      box-shadow: 0px 1px 2px rgba(60, 64, 67, 0.3), 0px 1px 3px 1px rgba(60, 64, 67, 0.15);\n",
              "      fill: #174EA6;\n",
              "    }\n",
              "\n",
              "    .colab-df-buttons div {\n",
              "      margin-bottom: 4px;\n",
              "    }\n",
              "\n",
              "    [theme=dark] .colab-df-convert {\n",
              "      background-color: #3B4455;\n",
              "      fill: #D2E3FC;\n",
              "    }\n",
              "\n",
              "    [theme=dark] .colab-df-convert:hover {\n",
              "      background-color: #434B5C;\n",
              "      box-shadow: 0px 1px 3px 1px rgba(0, 0, 0, 0.15);\n",
              "      filter: drop-shadow(0px 1px 2px rgba(0, 0, 0, 0.3));\n",
              "      fill: #FFFFFF;\n",
              "    }\n",
              "  </style>\n",
              "\n",
              "    <script>\n",
              "      const buttonEl =\n",
              "        document.querySelector('#df-1c84e79e-f137-4986-8306-42430e6e5441 button.colab-df-convert');\n",
              "      buttonEl.style.display =\n",
              "        google.colab.kernel.accessAllowed ? 'block' : 'none';\n",
              "\n",
              "      async function convertToInteractive(key) {\n",
              "        const element = document.querySelector('#df-1c84e79e-f137-4986-8306-42430e6e5441');\n",
              "        const dataTable =\n",
              "          await google.colab.kernel.invokeFunction('convertToInteractive',\n",
              "                                                    [key], {});\n",
              "        if (!dataTable) return;\n",
              "\n",
              "        const docLinkHtml = 'Like what you see? Visit the ' +\n",
              "          '<a target=\"_blank\" href=https://colab.research.google.com/notebooks/data_table.ipynb>data table notebook</a>'\n",
              "          + ' to learn more about interactive tables.';\n",
              "        element.innerHTML = '';\n",
              "        dataTable['output_type'] = 'display_data';\n",
              "        await google.colab.output.renderOutput(dataTable, element);\n",
              "        const docLink = document.createElement('div');\n",
              "        docLink.innerHTML = docLinkHtml;\n",
              "        element.appendChild(docLink);\n",
              "      }\n",
              "    </script>\n",
              "  </div>\n",
              "\n",
              "\n",
              "<div id=\"df-43aff231-a97c-4d8e-967a-4f1d309328b0\">\n",
              "  <button class=\"colab-df-quickchart\" onclick=\"quickchart('df-43aff231-a97c-4d8e-967a-4f1d309328b0')\"\n",
              "            title=\"Suggest charts\"\n",
              "            style=\"display:none;\">\n",
              "\n",
              "<svg xmlns=\"http://www.w3.org/2000/svg\" height=\"24px\"viewBox=\"0 0 24 24\"\n",
              "     width=\"24px\">\n",
              "    <g>\n",
              "        <path d=\"M19 3H5c-1.1 0-2 .9-2 2v14c0 1.1.9 2 2 2h14c1.1 0 2-.9 2-2V5c0-1.1-.9-2-2-2zM9 17H7v-7h2v7zm4 0h-2V7h2v10zm4 0h-2v-4h2v4z\"/>\n",
              "    </g>\n",
              "</svg>\n",
              "  </button>\n",
              "\n",
              "<style>\n",
              "  .colab-df-quickchart {\n",
              "      --bg-color: #E8F0FE;\n",
              "      --fill-color: #1967D2;\n",
              "      --hover-bg-color: #E2EBFA;\n",
              "      --hover-fill-color: #174EA6;\n",
              "      --disabled-fill-color: #AAA;\n",
              "      --disabled-bg-color: #DDD;\n",
              "  }\n",
              "\n",
              "  [theme=dark] .colab-df-quickchart {\n",
              "      --bg-color: #3B4455;\n",
              "      --fill-color: #D2E3FC;\n",
              "      --hover-bg-color: #434B5C;\n",
              "      --hover-fill-color: #FFFFFF;\n",
              "      --disabled-bg-color: #3B4455;\n",
              "      --disabled-fill-color: #666;\n",
              "  }\n",
              "\n",
              "  .colab-df-quickchart {\n",
              "    background-color: var(--bg-color);\n",
              "    border: none;\n",
              "    border-radius: 50%;\n",
              "    cursor: pointer;\n",
              "    display: none;\n",
              "    fill: var(--fill-color);\n",
              "    height: 32px;\n",
              "    padding: 0;\n",
              "    width: 32px;\n",
              "  }\n",
              "\n",
              "  .colab-df-quickchart:hover {\n",
              "    background-color: var(--hover-bg-color);\n",
              "    box-shadow: 0 1px 2px rgba(60, 64, 67, 0.3), 0 1px 3px 1px rgba(60, 64, 67, 0.15);\n",
              "    fill: var(--button-hover-fill-color);\n",
              "  }\n",
              "\n",
              "  .colab-df-quickchart-complete:disabled,\n",
              "  .colab-df-quickchart-complete:disabled:hover {\n",
              "    background-color: var(--disabled-bg-color);\n",
              "    fill: var(--disabled-fill-color);\n",
              "    box-shadow: none;\n",
              "  }\n",
              "\n",
              "  .colab-df-spinner {\n",
              "    border: 2px solid var(--fill-color);\n",
              "    border-color: transparent;\n",
              "    border-bottom-color: var(--fill-color);\n",
              "    animation:\n",
              "      spin 1s steps(1) infinite;\n",
              "  }\n",
              "\n",
              "  @keyframes spin {\n",
              "    0% {\n",
              "      border-color: transparent;\n",
              "      border-bottom-color: var(--fill-color);\n",
              "      border-left-color: var(--fill-color);\n",
              "    }\n",
              "    20% {\n",
              "      border-color: transparent;\n",
              "      border-left-color: var(--fill-color);\n",
              "      border-top-color: var(--fill-color);\n",
              "    }\n",
              "    30% {\n",
              "      border-color: transparent;\n",
              "      border-left-color: var(--fill-color);\n",
              "      border-top-color: var(--fill-color);\n",
              "      border-right-color: var(--fill-color);\n",
              "    }\n",
              "    40% {\n",
              "      border-color: transparent;\n",
              "      border-right-color: var(--fill-color);\n",
              "      border-top-color: var(--fill-color);\n",
              "    }\n",
              "    60% {\n",
              "      border-color: transparent;\n",
              "      border-right-color: var(--fill-color);\n",
              "    }\n",
              "    80% {\n",
              "      border-color: transparent;\n",
              "      border-right-color: var(--fill-color);\n",
              "      border-bottom-color: var(--fill-color);\n",
              "    }\n",
              "    90% {\n",
              "      border-color: transparent;\n",
              "      border-bottom-color: var(--fill-color);\n",
              "    }\n",
              "  }\n",
              "</style>\n",
              "\n",
              "  <script>\n",
              "    async function quickchart(key) {\n",
              "      const quickchartButtonEl =\n",
              "        document.querySelector('#' + key + ' button');\n",
              "      quickchartButtonEl.disabled = true;  // To prevent multiple clicks.\n",
              "      quickchartButtonEl.classList.add('colab-df-spinner');\n",
              "      try {\n",
              "        const charts = await google.colab.kernel.invokeFunction(\n",
              "            'suggestCharts', [key], {});\n",
              "      } catch (error) {\n",
              "        console.error('Error during call to suggestCharts:', error);\n",
              "      }\n",
              "      quickchartButtonEl.classList.remove('colab-df-spinner');\n",
              "      quickchartButtonEl.classList.add('colab-df-quickchart-complete');\n",
              "    }\n",
              "    (() => {\n",
              "      let quickchartButtonEl =\n",
              "        document.querySelector('#df-43aff231-a97c-4d8e-967a-4f1d309328b0 button');\n",
              "      quickchartButtonEl.style.display =\n",
              "        google.colab.kernel.accessAllowed ? 'block' : 'none';\n",
              "    })();\n",
              "  </script>\n",
              "</div>\n",
              "\n",
              "    </div>\n",
              "  </div>\n"
            ]
          },
          "metadata": {},
          "execution_count": 3
        }
      ]
    },
    {
      "cell_type": "markdown",
      "source": [
        "There are 12 feature columns. Using these features your model has to predict whether the passenger is rescued or not indicated by the column `Transported`."
      ],
      "metadata": {
        "id": "0-Euaq6dmnjN"
      }
    },
    {
      "cell_type": "markdown",
      "source": [
        "# Let us quickly do a basic exploration of the dataset"
      ],
      "metadata": {
        "id": "1-Ewr6XDmnjN"
      }
    },
    {
      "cell_type": "code",
      "source": [
        "dataset_df.describe()"
      ],
      "metadata": {
        "id": "XjwG5wjfmnjO",
        "execution": {
          "iopub.status.busy": "2023-03-17T11:38:00.377568Z",
          "iopub.execute_input": "2023-03-17T11:38:00.378197Z",
          "iopub.status.idle": "2023-03-17T11:38:00.424386Z",
          "shell.execute_reply.started": "2023-03-17T11:38:00.378158Z",
          "shell.execute_reply": "2023-03-17T11:38:00.422951Z"
        },
        "trusted": true
      },
      "execution_count": null,
      "outputs": []
    },
    {
      "cell_type": "code",
      "source": [
        "dataset_df.info()"
      ],
      "metadata": {
        "id": "UmWpnVxQmnjO",
        "execution": {
          "iopub.status.busy": "2023-03-17T11:38:00.426217Z",
          "iopub.execute_input": "2023-03-17T11:38:00.426812Z",
          "iopub.status.idle": "2023-03-17T11:38:00.453019Z",
          "shell.execute_reply.started": "2023-03-17T11:38:00.426758Z",
          "shell.execute_reply": "2023-03-17T11:38:00.451960Z"
        },
        "trusted": true
      },
      "execution_count": null,
      "outputs": []
    },
    {
      "cell_type": "markdown",
      "source": [
        "# Bar chart for label column: Transported\n",
        "\n"
      ],
      "metadata": {
        "id": "PYbIPVaCmnjO"
      }
    },
    {
      "cell_type": "code",
      "source": [
        "plot_df = dataset_df.Transported.value_counts()\n",
        "plot_df.plot(kind=\"bar\")"
      ],
      "metadata": {
        "id": "DcaGweARmnjP",
        "execution": {
          "iopub.status.busy": "2023-03-17T11:38:00.455165Z",
          "iopub.execute_input": "2023-03-17T11:38:00.455536Z",
          "iopub.status.idle": "2023-03-17T11:38:00.942523Z",
          "shell.execute_reply.started": "2023-03-17T11:38:00.455487Z",
          "shell.execute_reply": "2023-03-17T11:38:00.941488Z"
        },
        "trusted": true
      },
      "execution_count": null,
      "outputs": []
    },
    {
      "cell_type": "markdown",
      "source": [
        "# Numerical data distribution\n",
        "\n",
        "Let us plot all the numerical columns and their value counts:"
      ],
      "metadata": {
        "id": "LRO2hJlNmnjP"
      }
    },
    {
      "cell_type": "code",
      "source": [
        "fig, ax = plt.subplots(5,1,  figsize=(10, 10))\n",
        "plt.subplots_adjust(top = 2)\n",
        "\n",
        "sns.histplot(dataset_df['Age'], color='b', bins=50, ax=ax[0]);\n",
        "sns.histplot(dataset_df['FoodCourt'], color='b', bins=50, ax=ax[1]);\n",
        "sns.histplot(dataset_df['ShoppingMall'], color='b', bins=50, ax=ax[2]);\n",
        "sns.histplot(dataset_df['Spa'], color='b', bins=50, ax=ax[3]);\n",
        "sns.histplot(dataset_df['VRDeck'], color='b', bins=50, ax=ax[4]);"
      ],
      "metadata": {
        "id": "lafxj4fkmnjQ",
        "execution": {
          "iopub.status.busy": "2023-03-17T11:38:00.943650Z",
          "iopub.execute_input": "2023-03-17T11:38:00.944560Z",
          "iopub.status.idle": "2023-03-17T11:38:02.402936Z",
          "shell.execute_reply.started": "2023-03-17T11:38:00.944520Z",
          "shell.execute_reply": "2023-03-17T11:38:02.401861Z"
        },
        "trusted": true
      },
      "execution_count": null,
      "outputs": []
    },
    {
      "cell_type": "markdown",
      "source": [
        "# Prepare the dataset"
      ],
      "metadata": {
        "id": "Trlsxv1emnjQ"
      }
    },
    {
      "cell_type": "markdown",
      "source": [
        "We will drop both `PassengerId` and `Name` columns as they are not necessary for model training."
      ],
      "metadata": {
        "id": "c-BLN1jcmnjQ"
      }
    },
    {
      "cell_type": "code",
      "source": [
        "dataset_df = dataset_df.drop(['PassengerId', 'Name'], axis=1)\n",
        "dataset_df.head(5)"
      ],
      "metadata": {
        "id": "nftfBG67mnjR",
        "execution": {
          "iopub.status.busy": "2023-03-17T11:38:02.404126Z",
          "iopub.execute_input": "2023-03-17T11:38:02.404916Z",
          "iopub.status.idle": "2023-03-17T11:38:02.427789Z",
          "shell.execute_reply.started": "2023-03-17T11:38:02.404878Z",
          "shell.execute_reply": "2023-03-17T11:38:02.426792Z"
        },
        "trusted": true
      },
      "execution_count": null,
      "outputs": []
    },
    {
      "cell_type": "markdown",
      "source": [
        "We will check for the missing values using the following code:"
      ],
      "metadata": {
        "id": "pXhbIKCemnjR"
      }
    },
    {
      "cell_type": "code",
      "source": [
        "dataset_df.isnull().sum().sort_values(ascending=False)"
      ],
      "metadata": {
        "id": "3_VMZ9a1mnjR",
        "execution": {
          "iopub.status.busy": "2023-03-17T11:38:02.431608Z",
          "iopub.execute_input": "2023-03-17T11:38:02.432564Z",
          "iopub.status.idle": "2023-03-17T11:38:02.451371Z",
          "shell.execute_reply.started": "2023-03-17T11:38:02.432521Z",
          "shell.execute_reply": "2023-03-17T11:38:02.449797Z"
        },
        "trusted": true
      },
      "execution_count": null,
      "outputs": []
    },
    {
      "cell_type": "markdown",
      "source": [
        "This dataset contains a mix of numeric, categorical and missing features. TF-DF supports all these feature types natively, and no preprocessing is required.\n",
        "\n",
        "But this datatset also has boolean fields with missing values. TF-DF doesn't support boolean fields yet. So we need to convert those fields into int. To account for the missing values in the boolean fields, we will replace them with zero.\n",
        "\n",
        "In this notebook, we will replace null value entries with zero for numerical columns as well and only let TF-DF handle the missing values in categorical columns.\n",
        "\n",
        "Note: You can choose to let TF-DF handle missing values in numerical columns if need be."
      ],
      "metadata": {
        "id": "vlWOQl4fmnjS"
      }
    },
    {
      "cell_type": "code",
      "source": [
        "dataset_df[['VIP', 'CryoSleep', 'FoodCourt', 'ShoppingMall', 'Spa', 'VRDeck']] = dataset_df[['VIP', 'CryoSleep', 'FoodCourt', 'ShoppingMall', 'Spa', 'VRDeck']].fillna(value=0)\n",
        "dataset_df.isnull().sum().sort_values(ascending=False)"
      ],
      "metadata": {
        "id": "ASQ5Bh2JmnjS",
        "execution": {
          "iopub.status.busy": "2023-03-17T11:38:02.452817Z",
          "iopub.execute_input": "2023-03-17T11:38:02.453226Z",
          "iopub.status.idle": "2023-03-17T11:38:02.474601Z",
          "shell.execute_reply.started": "2023-03-17T11:38:02.453184Z",
          "shell.execute_reply": "2023-03-17T11:38:02.473150Z"
        },
        "trusted": true
      },
      "execution_count": null,
      "outputs": []
    },
    {
      "cell_type": "markdown",
      "source": [
        "Since, TF-DF cannot handle boolean columns, we will have to adjust the labels in column `Transported` to convert them into the integer format that TF-DF expects."
      ],
      "metadata": {
        "id": "tFbE6D0BmnjT"
      }
    },
    {
      "cell_type": "code",
      "source": [
        "label = \"Transported\"\n",
        "dataset_df[label] = dataset_df[label].astype(int)"
      ],
      "metadata": {
        "id": "-T6a_RTxmnjT",
        "execution": {
          "iopub.status.busy": "2023-03-17T11:38:02.476304Z",
          "iopub.execute_input": "2023-03-17T11:38:02.476771Z",
          "iopub.status.idle": "2023-03-17T11:38:02.483629Z",
          "shell.execute_reply.started": "2023-03-17T11:38:02.476723Z",
          "shell.execute_reply": "2023-03-17T11:38:02.482480Z"
        },
        "trusted": true
      },
      "execution_count": null,
      "outputs": []
    },
    {
      "cell_type": "markdown",
      "source": [
        "We will also convert the boolean fields `CryoSleep` and `VIP` to int."
      ],
      "metadata": {
        "id": "F6-GATuzmnjU"
      }
    },
    {
      "cell_type": "code",
      "source": [
        "dataset_df['VIP'] = dataset_df['VIP'].astype(int)\n",
        "dataset_df['CryoSleep'] = dataset_df['CryoSleep'].astype(int)"
      ],
      "metadata": {
        "id": "Wq6PbMnnmnjU",
        "execution": {
          "iopub.status.busy": "2023-03-17T11:38:02.485280Z",
          "iopub.execute_input": "2023-03-17T11:38:02.486082Z",
          "iopub.status.idle": "2023-03-17T11:38:02.500728Z",
          "shell.execute_reply.started": "2023-03-17T11:38:02.486027Z",
          "shell.execute_reply": "2023-03-17T11:38:02.499677Z"
        },
        "trusted": true
      },
      "execution_count": null,
      "outputs": []
    },
    {
      "cell_type": "markdown",
      "source": [
        "The value of column `Cabin` is a string with the format `Deck/Cabin_num/Side`. Here we will split the `Cabin` column and create 3 new columns `Deck`, `Cabin_num` and `Side`, since it will be easier to train the model on those individual data.\n",
        "\n",
        "Run the following command to split the column `Cabin` into columns `Deck`, `Cabin_num` and `Side`"
      ],
      "metadata": {
        "id": "enjp51h_mnjV"
      }
    },
    {
      "cell_type": "code",
      "source": [
        "dataset_df[[\"Deck\", \"Cabin_num\", \"Side\"]] = dataset_df[\"Cabin\"].str.split(\"/\", expand=True)"
      ],
      "metadata": {
        "id": "JeAuUvb_mnjV",
        "execution": {
          "iopub.status.busy": "2023-03-17T11:38:02.502051Z",
          "iopub.execute_input": "2023-03-17T11:38:02.502591Z",
          "iopub.status.idle": "2023-03-17T11:38:02.532257Z",
          "shell.execute_reply.started": "2023-03-17T11:38:02.502556Z",
          "shell.execute_reply": "2023-03-17T11:38:02.530824Z"
        },
        "trusted": true
      },
      "execution_count": null,
      "outputs": []
    },
    {
      "cell_type": "markdown",
      "source": [
        "Remove original `Cabin` column from the dataset since it's not needed anymore."
      ],
      "metadata": {
        "id": "vNYEd1AkmnjV"
      }
    },
    {
      "cell_type": "code",
      "source": [
        "try:\n",
        "    dataset_df = dataset_df.drop('Cabin', axis=1)\n",
        "except KeyError:\n",
        "    print(\"Field does not exist\")"
      ],
      "metadata": {
        "id": "dOcny3s4mnjV",
        "execution": {
          "iopub.status.busy": "2023-03-17T11:38:02.534001Z",
          "iopub.execute_input": "2023-03-17T11:38:02.534808Z",
          "iopub.status.idle": "2023-03-17T11:38:02.545112Z",
          "shell.execute_reply.started": "2023-03-17T11:38:02.534733Z",
          "shell.execute_reply": "2023-03-17T11:38:02.543488Z"
        },
        "trusted": true
      },
      "execution_count": null,
      "outputs": []
    },
    {
      "cell_type": "markdown",
      "source": [
        "Let us display the first 5 examples from the prepared dataset."
      ],
      "metadata": {
        "id": "Y7byxj5FmnjW"
      }
    },
    {
      "cell_type": "code",
      "source": [
        "dataset_df.head(5)"
      ],
      "metadata": {
        "id": "g0U1OKAYmnjW",
        "execution": {
          "iopub.status.busy": "2023-03-17T11:38:02.546894Z",
          "iopub.execute_input": "2023-03-17T11:38:02.547460Z",
          "iopub.status.idle": "2023-03-17T11:38:02.570683Z",
          "shell.execute_reply.started": "2023-03-17T11:38:02.547424Z",
          "shell.execute_reply": "2023-03-17T11:38:02.569490Z"
        },
        "trusted": true
      },
      "execution_count": null,
      "outputs": []
    },
    {
      "cell_type": "markdown",
      "source": [
        "Now let us split the dataset into training and testing datasets:"
      ],
      "metadata": {
        "id": "l6EmJsSfmnjW"
      }
    },
    {
      "cell_type": "code",
      "source": [
        "def split_dataset(dataset, test_ratio=0.20):\n",
        "  test_indices = np.random.rand(len(dataset)) < test_ratio\n",
        "  return dataset[~test_indices], dataset[test_indices]\n",
        "\n",
        "train_ds_pd, valid_ds_pd = split_dataset(dataset_df)\n",
        "print(\"{} examples in training, {} examples in testing.\".format(\n",
        "    len(train_ds_pd), len(valid_ds_pd)))"
      ],
      "metadata": {
        "id": "_drMgwAAmnjX",
        "execution": {
          "iopub.status.busy": "2023-03-17T11:38:02.572901Z",
          "iopub.execute_input": "2023-03-17T11:38:02.573420Z",
          "iopub.status.idle": "2023-03-17T11:38:02.589814Z",
          "shell.execute_reply.started": "2023-03-17T11:38:02.573367Z",
          "shell.execute_reply": "2023-03-17T11:38:02.588363Z"
        },
        "trusted": true
      },
      "execution_count": null,
      "outputs": []
    },
    {
      "cell_type": "markdown",
      "source": [
        "There's one more step required before we can train the model. We need to convert the datatset from Pandas format (`pd.DataFrame`) into TensorFlow Datasets format (`tf.data.Dataset`).\n",
        "\n",
        "[TensorFlow Datasets](https://www.tensorflow.org/datasets/overview) is a high performance data loading library which is helpful when training neural networks with accelerators like GPUs and TPUs."
      ],
      "metadata": {
        "id": "_gg4nfB1mnjX"
      }
    },
    {
      "cell_type": "code",
      "source": [
        "train_ds = tfdf.keras.pd_dataframe_to_tf_dataset(train_ds_pd, label=label)\n",
        "valid_ds = tfdf.keras.pd_dataframe_to_tf_dataset(valid_ds_pd, label=label)"
      ],
      "metadata": {
        "id": "LZADOplXmnjX",
        "execution": {
          "iopub.status.busy": "2023-03-17T11:38:02.591068Z",
          "iopub.execute_input": "2023-03-17T11:38:02.591679Z",
          "iopub.status.idle": "2023-03-17T11:38:02.784788Z",
          "shell.execute_reply.started": "2023-03-17T11:38:02.591640Z",
          "shell.execute_reply": "2023-03-17T11:38:02.781648Z"
        },
        "trusted": true
      },
      "execution_count": null,
      "outputs": []
    },
    {
      "cell_type": "markdown",
      "source": [
        "# Select a Model\n",
        "\n",
        "There are several tree-based models for you to choose from.\n",
        "\n",
        "* RandomForestModel\n",
        "* GradientBoostedTreesModel\n",
        "* CartModel\n",
        "* DistributedGradientBoostedTreesModel\n",
        "\n",
        "To start, we'll work with a Random Forest. This is the most well-known of the Decision Forest training algorithms.\n",
        "\n",
        "A Random Forest is a collection of decision trees, each trained independently on a random subset of the training dataset (sampled with replacement). The algorithm is unique in that it is robust to overfitting, and easy to use.\n",
        "\n",
        "We can list the all the available models in TensorFlow Decision Forests using the following code:"
      ],
      "metadata": {
        "id": "0-xUiOTwmnjY"
      }
    },
    {
      "cell_type": "code",
      "source": [
        "tfdf.keras.get_all_models()"
      ],
      "metadata": {
        "id": "PdQw1cWbmnjY",
        "execution": {
          "iopub.status.busy": "2023-03-17T11:38:02.786719Z",
          "iopub.execute_input": "2023-03-17T11:38:02.787233Z",
          "iopub.status.idle": "2023-03-17T11:38:02.801533Z",
          "shell.execute_reply.started": "2023-03-17T11:38:02.787177Z",
          "shell.execute_reply": "2023-03-17T11:38:02.798320Z"
        },
        "trusted": true
      },
      "execution_count": null,
      "outputs": []
    },
    {
      "cell_type": "markdown",
      "source": [
        "# Configure the model\n",
        "\n",
        "TensorFlow Decision Forests provides good defaults for you (e.g. the top ranking hyperparameters on our benchmarks, slightly modified to run in reasonable time). If you would like to configure the learning algorithm, you will find many options you can explore to get the highest possible accuracy.\n",
        "\n",
        "You can select a template and/or set parameters as follows:\n",
        "\n",
        "```rf = tfdf.keras.RandomForestModel(hyperparameter_template=\"benchmark_rank1\")```\n",
        "\n",
        "Read more [here](https://www.tensorflow.org/decision_forests/api_docs/python/tfdf/keras/RandomForestModel)."
      ],
      "metadata": {
        "id": "sy81fpfxmnjY"
      }
    },
    {
      "cell_type": "markdown",
      "source": [
        "# Create a Random Forest\n",
        "\n",
        "Today, we will use the defaults to create the Random Forest Model. By default the model is set to train for a classification task."
      ],
      "metadata": {
        "id": "AfJMCA6lmnjZ"
      }
    },
    {
      "cell_type": "markdown",
      "source": [],
      "metadata": {
        "id": "PxPI8AgQM8y9"
      }
    },
    {
      "cell_type": "code",
      "source": [
        "rf = tfdf.keras.RandomForestModel()\n",
        "rf.compile(metrics=[\"accuracy\"]) # Optional, you can use this to include a list of eval metrics"
      ],
      "metadata": {
        "id": "j7-gFVDNmnjZ",
        "execution": {
          "iopub.status.busy": "2023-03-17T11:38:02.803664Z",
          "iopub.execute_input": "2023-03-17T11:38:02.805636Z",
          "iopub.status.idle": "2023-03-17T11:38:02.880529Z",
          "shell.execute_reply.started": "2023-03-17T11:38:02.805571Z",
          "shell.execute_reply": "2023-03-17T11:38:02.879000Z"
        },
        "trusted": true
      },
      "execution_count": null,
      "outputs": []
    },
    {
      "cell_type": "markdown",
      "source": [
        "# Train the model\n",
        "\n",
        "We will train the model using a one-liner.\n",
        "\n",
        "Note: you may see a warning about Autograph. You can safely ignore this, it will be fixed in the next release."
      ],
      "metadata": {
        "id": "wEQXtv4MmnjZ"
      }
    },
    {
      "cell_type": "code",
      "source": [
        "rf.fit(x=train_ds)"
      ],
      "metadata": {
        "id": "QcL5KRyLmnja",
        "execution": {
          "iopub.status.busy": "2023-03-17T11:38:02.882110Z",
          "iopub.execute_input": "2023-03-17T11:38:02.883042Z",
          "iopub.status.idle": "2023-03-17T11:39:06.645138Z",
          "shell.execute_reply.started": "2023-03-17T11:38:02.882994Z",
          "shell.execute_reply": "2023-03-17T11:39:06.644102Z"
        },
        "trusted": true
      },
      "execution_count": null,
      "outputs": []
    },
    {
      "cell_type": "markdown",
      "source": [
        "# Visualize the model\n",
        "One benefit of tree-based models is that we can easily visualize them. The default number of trees used in the Random Forests is 300. We can select a tree to display below."
      ],
      "metadata": {
        "id": "HQaPDLBjmnja"
      }
    },
    {
      "cell_type": "code",
      "source": [
        "tfdf.model_plotter.plot_model_in_colab(rf, tree_idx=0, max_depth=3)"
      ],
      "metadata": {
        "id": "hSao4Qstmnja",
        "execution": {
          "iopub.status.busy": "2023-03-17T11:39:06.646833Z",
          "iopub.execute_input": "2023-03-17T11:39:06.647203Z",
          "iopub.status.idle": "2023-03-17T11:39:07.196444Z",
          "shell.execute_reply.started": "2023-03-17T11:39:06.647167Z",
          "shell.execute_reply": "2023-03-17T11:39:07.195239Z"
        },
        "trusted": true
      },
      "execution_count": null,
      "outputs": []
    },
    {
      "cell_type": "markdown",
      "source": [
        "# Evaluate the model on the Out of bag (OOB) data and the validation dataset\n",
        "\n",
        "Before training the dataset we have manually seperated 20% of the dataset for validation named as `valid_ds`.\n",
        "\n",
        "We can also use Out of bag (OOB) score to validate our RandomForestModel.\n",
        "To train a Random Forest Model, a set of random samples from training set are choosen by the algorithm and the rest of the samples are used to finetune the model.The subset of data that is not chosen is known as Out of bag data (OOB).\n",
        "OOB score is computed on the OOB data.\n",
        "\n",
        "Read more about OOB data [here](https://developers.google.com/machine-learning/decision-forests/out-of-bag).\n",
        "\n",
        "The training logs show the accuracy evaluated on the out-of-bag dataset according to the number of trees in the model. Let us plot this.\n",
        "\n",
        "Note: Larger values are better for this hyperparameter."
      ],
      "metadata": {
        "id": "1q5zxzuLmnjb"
      }
    },
    {
      "cell_type": "code",
      "source": [
        "import matplotlib.pyplot as plt\n",
        "logs = rf.make_inspector().training_logs()\n",
        "plt.plot([log.num_trees for log in logs], [log.evaluation.accuracy for log in logs])\n",
        "plt.xlabel(\"Number of trees\")\n",
        "plt.ylabel(\"Accuracy (out-of-bag)\")\n",
        "plt.show()"
      ],
      "metadata": {
        "id": "z7u4IuAQmnjb",
        "execution": {
          "iopub.status.busy": "2023-03-17T11:39:07.197804Z",
          "iopub.execute_input": "2023-03-17T11:39:07.198663Z",
          "iopub.status.idle": "2023-03-17T11:39:07.422948Z",
          "shell.execute_reply.started": "2023-03-17T11:39:07.198625Z",
          "shell.execute_reply": "2023-03-17T11:39:07.421611Z"
        },
        "trusted": true
      },
      "execution_count": null,
      "outputs": []
    },
    {
      "cell_type": "markdown",
      "source": [
        "We can also see some general stats on the OOB dataset:"
      ],
      "metadata": {
        "id": "N24V7vhAmnjb"
      }
    },
    {
      "cell_type": "code",
      "source": [
        "inspector = rf.make_inspector()\n",
        "inspector.evaluation()"
      ],
      "metadata": {
        "id": "QTD92zMGmnjc",
        "execution": {
          "iopub.status.busy": "2023-03-17T11:39:07.424578Z",
          "iopub.execute_input": "2023-03-17T11:39:07.425140Z",
          "iopub.status.idle": "2023-03-17T11:39:07.434692Z",
          "shell.execute_reply.started": "2023-03-17T11:39:07.425104Z",
          "shell.execute_reply": "2023-03-17T11:39:07.433349Z"
        },
        "trusted": true
      },
      "execution_count": null,
      "outputs": []
    },
    {
      "cell_type": "markdown",
      "source": [
        "Now, let us run an evaluation using the validation dataset."
      ],
      "metadata": {
        "id": "SuVS0BGXmnjd"
      }
    },
    {
      "cell_type": "code",
      "source": [
        "evaluation = rf.evaluate(x=valid_ds,return_dict=True)\n",
        "\n",
        "for name, value in evaluation.items():\n",
        "  print(f\"{name}: {value:.4f}\")"
      ],
      "metadata": {
        "id": "C0SfSxc0mnjd",
        "execution": {
          "iopub.status.busy": "2023-03-17T11:39:07.436280Z",
          "iopub.execute_input": "2023-03-17T11:39:07.436700Z",
          "iopub.status.idle": "2023-03-17T11:39:08.066244Z",
          "shell.execute_reply.started": "2023-03-17T11:39:07.436667Z",
          "shell.execute_reply": "2023-03-17T11:39:08.065264Z"
        },
        "trusted": true
      },
      "execution_count": null,
      "outputs": []
    },
    {
      "cell_type": "markdown",
      "source": [
        "# Variable importances\n",
        "\n",
        "Variable importances generally indicate how much a feature contributes to the model predictions or quality. There are several ways to identify important features using TensorFlow Decision Forests.\n",
        "Let us list the available `Variable Importances` for Decision Trees:"
      ],
      "metadata": {
        "id": "cgAI1XrVmnje"
      }
    },
    {
      "cell_type": "code",
      "source": [
        "print(f\"Available variable importances:\")\n",
        "for importance in inspector.variable_importances().keys():\n",
        "  print(\"\\t\", importance)"
      ],
      "metadata": {
        "id": "BdPN_fV1mnje",
        "execution": {
          "iopub.status.busy": "2023-03-17T11:39:08.067559Z",
          "iopub.execute_input": "2023-03-17T11:39:08.068122Z",
          "iopub.status.idle": "2023-03-17T11:39:08.073989Z",
          "shell.execute_reply.started": "2023-03-17T11:39:08.068087Z",
          "shell.execute_reply": "2023-03-17T11:39:08.072841Z"
        },
        "trusted": true
      },
      "execution_count": null,
      "outputs": []
    },
    {
      "cell_type": "markdown",
      "source": [
        "As an example, let us display the important features for the Variable Importance `NUM_AS_ROOT`.\n",
        "\n",
        "The larger the importance score for `NUM_AS_ROOT`, the more impact it has on the outcome of the model.\n",
        "\n",
        "By default, the list is sorted from the most important to the least. From the output you can infer that the feature at the top of the list is used as the root node in most number of trees in the random forest than any other feature."
      ],
      "metadata": {
        "id": "dr-nVQwCmnje"
      }
    },
    {
      "cell_type": "code",
      "source": [
        "# Each line is: (feature name, (index of the feature), importance score)\n",
        "inspector.variable_importances()[\"NUM_AS_ROOT\"]"
      ],
      "metadata": {
        "id": "etYOifhfmnje",
        "execution": {
          "iopub.status.busy": "2023-03-17T11:39:08.075488Z",
          "iopub.execute_input": "2023-03-17T11:39:08.076101Z",
          "iopub.status.idle": "2023-03-17T11:39:08.091160Z",
          "shell.execute_reply.started": "2023-03-17T11:39:08.076064Z",
          "shell.execute_reply": "2023-03-17T11:39:08.089811Z"
        },
        "trusted": true
      },
      "execution_count": null,
      "outputs": []
    },
    {
      "cell_type": "markdown",
      "source": [
        "# Submission"
      ],
      "metadata": {
        "id": "DAtAR0vkmnje"
      }
    },
    {
      "cell_type": "code",
      "source": [
        "# Load the test dataset\n",
        "test_df = pd.read_csv('/kaggle/input/spaceship-titanic/test.csv')\n",
        "submission_id = test_df.PassengerId\n",
        "\n",
        "# Replace NaN values with zero\n",
        "test_df[['VIP', 'CryoSleep']] = test_df[['VIP', 'CryoSleep']].fillna(value=0)\n",
        "\n",
        "# Creating New Features - Deck, Cabin_num and Side from the column Cabin and remove Cabin\n",
        "test_df[[\"Deck\", \"Cabin_num\", \"Side\"]] = test_df[\"Cabin\"].str.split(\"/\", expand=True)\n",
        "test_df = test_df.drop('Cabin', axis=1)\n",
        "\n",
        "# Convert boolean to 1's and 0's\n",
        "test_df['VIP'] = test_df['VIP'].astype(int)\n",
        "test_df['CryoSleep'] = test_df['CryoSleep'].astype(int)\n",
        "\n",
        "# Convert pd dataframe to tf dataset\n",
        "test_ds = tfdf.keras.pd_dataframe_to_tf_dataset(test_df)\n",
        "\n",
        "# Get the predictions for testdata\n",
        "predictions = rf.predict(test_ds)\n",
        "n_predictions = (predictions > 0.5).astype(bool)\n",
        "output = pd.DataFrame({'PassengerId': submission_id,\n",
        "                       'Transported': n_predictions.squeeze()})\n",
        "\n",
        "output.head()"
      ],
      "metadata": {
        "id": "KHBRzBD9mnjf",
        "execution": {
          "iopub.status.busy": "2023-03-17T11:39:08.096864Z",
          "iopub.execute_input": "2023-03-17T11:39:08.097594Z",
          "iopub.status.idle": "2023-03-17T11:39:08.764205Z",
          "shell.execute_reply.started": "2023-03-17T11:39:08.097552Z",
          "shell.execute_reply": "2023-03-17T11:39:08.762812Z"
        },
        "trusted": true
      },
      "execution_count": null,
      "outputs": []
    },
    {
      "cell_type": "code",
      "source": [
        "sample_submission_df = pd.read_csv('/kaggle/input/spaceship-titanic/sample_submission.csv')\n",
        "sample_submission_df['Transported'] = n_predictions\n",
        "sample_submission_df.to_csv('/kaggle/working/submission.csv', index=False)\n",
        "sample_submission_df.head()"
      ],
      "metadata": {
        "id": "OZuB6CdUmnjf",
        "execution": {
          "iopub.status.busy": "2023-03-17T11:39:08.766214Z",
          "iopub.execute_input": "2023-03-17T11:39:08.767001Z",
          "iopub.status.idle": "2023-03-17T11:39:08.809562Z",
          "shell.execute_reply.started": "2023-03-17T11:39:08.766942Z",
          "shell.execute_reply": "2023-03-17T11:39:08.807867Z"
        },
        "trusted": true
      },
      "execution_count": null,
      "outputs": []
    }
  ]
}