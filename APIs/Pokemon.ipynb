{
  "nbformat": 4,
  "nbformat_minor": 0,
  "metadata": {
    "colab": {
      "provenance": [],
      "authorship_tag": "ABX9TyNu55bUb+gSKjLZI9XItd6s",
      "include_colab_link": true
    },
    "kernelspec": {
      "name": "python3",
      "display_name": "Python 3"
    },
    "language_info": {
      "name": "python"
    }
  },
  "cells": [
    {
      "cell_type": "markdown",
      "metadata": {
        "id": "view-in-github",
        "colab_type": "text"
      },
      "source": [
        "<a href=\"https://colab.research.google.com/github/somas1/CT/blob/main/APIs/Pokemon.ipynb\" target=\"_parent\"><img src=\"https://colab.research.google.com/assets/colab-badge.svg\" alt=\"Open In Colab\"/></a>"
      ]
    },
    {
      "cell_type": "code",
      "execution_count": 2,
      "metadata": {
        "id": "DtxAgWe57JyY"
      },
      "outputs": [],
      "source": [
        "import requests\n",
        "import json\n",
        "import random"
      ]
    },
    {
      "cell_type": "code",
      "source": [
        "base_url = 'https://pokeapi.co/api/v2'"
      ],
      "metadata": {
        "id": "BldzZCRl_mGt"
      },
      "execution_count": 3,
      "outputs": []
    },
    {
      "cell_type": "markdown",
      "source": [
        "Retrieve a list of Pokemon's name, abilities, types, and weight from the PokeAPI\n",
        " https://pokeapi.co/\n",
        "\n",
        "Make 20 Pokemon"
      ],
      "metadata": {
        "id": "eojeV6cI8ICB"
      }
    },
    {
      "cell_type": "code",
      "source": [
        "def get_pokemon(type):\n",
        "  '''\n",
        "  This returns a single pokemon of a specified type. If the specified type doesn't\n",
        "  have any listed pokemon, a fire type pokemon will be returned.\n",
        "  '''\n",
        "  response = requests.get(base_url + '/type/' + type)\n",
        "  pokemon = response.json()['pokemon']\n",
        "  length = len(pokemon)\n",
        "  if length:\n",
        "    return pokemon[random.randrange(length)]['pokemon']['name']\n",
        "  else:\n",
        "    # Current type doesn't have any valid pokemon so we'll substitute a Fire type instead\"\n",
        "    return get_pokemon('fire')\n"
      ],
      "metadata": {
        "id": "Svkr2_TK7rWT"
      },
      "execution_count": 9,
      "outputs": []
    },
    {
      "cell_type": "code",
      "source": [
        "def get_weight(name):\n",
        "  response = requests.get(base_url + f'/pokemon/{name}')\n",
        "  return response.json()['weight']\n"
      ],
      "metadata": {
        "id": "6j8QMwFev7hl"
      },
      "execution_count": 5,
      "outputs": []
    },
    {
      "cell_type": "code",
      "source": [
        "def get_types():\n",
        "  '''\n",
        "  This returns a list of all currently available pokemon types\n",
        "  '''\n",
        "  response = requests.get(base_url + '/type/')\n",
        "  types = response.json()['results']\n",
        "  typed = [type['name'] for type in types]\n",
        "  return typed\n",
        "\n",
        "#get_types()"
      ],
      "metadata": {
        "id": "qmpYE-8IVeYc"
      },
      "execution_count": 7,
      "outputs": []
    },
    {
      "cell_type": "code",
      "source": [
        "def roster():\n",
        "  '''\n",
        "  This builds a roster of 20 pokemon.\n",
        "  '''\n",
        "  team_types = random.sample(get_types(), 20)\n",
        "  team = []\n",
        "  #print('Building a team with the following types: ')\n",
        "  for value in team_types:\n",
        "    #print(value)\n",
        "    team.append(get_pokemon(value))\n",
        "  return team\n",
        "\n",
        "\n",
        "for value in roster():\n",
        "  print(f'{value.title()} type, weighing {get_weight(value)} hectograms')"
      ],
      "metadata": {
        "colab": {
          "base_uri": "https://localhost:8080/"
        },
        "id": "Xrjuo0GtZbiK",
        "outputId": "7c2b4040-a9fb-4850-b809-f4ca3bfc43f9"
      },
      "execution_count": 10,
      "outputs": [
        {
          "output_type": "stream",
          "name": "stdout",
          "text": [
            "Coalossal-Gmax type, weighing 10000 hectograms\n",
            "Scizor type, weighing 1180 hectograms\n",
            "Muk-Alola type, weighing 520 hectograms\n",
            "Minior-Indigo-Meteor type, weighing 400 hectograms\n",
            "Mr-Mime-Galar type, weighing 568 hectograms\n",
            "Doduo type, weighing 392 hectograms\n",
            "Crocalor type, weighing 307 hectograms\n",
            "Great-Tusk type, weighing 3200 hectograms\n",
            "Ivysaur type, weighing 130 hectograms\n",
            "Duraludon type, weighing 400 hectograms\n",
            "Krookodile type, weighing 963 hectograms\n",
            "Marill type, weighing 85 hectograms\n",
            "Houndour type, weighing 108 hectograms\n",
            "Kyurem-Black type, weighing 3250 hectograms\n",
            "Castform-Rainy type, weighing 8 hectograms\n",
            "Dudunsparce type, weighing 392 hectograms\n",
            "Dracozolt type, weighing 1900 hectograms\n",
            "Bramblin type, weighing 6 hectograms\n",
            "Lurantis-Totem type, weighing 580 hectograms\n",
            "Eiscue-Ice type, weighing 890 hectograms\n"
          ]
        }
      ]
    }
  ]
}