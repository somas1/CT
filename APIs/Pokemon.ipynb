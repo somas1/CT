{
  "nbformat": 4,
  "nbformat_minor": 0,
  "metadata": {
    "colab": {
      "provenance": [],
      "authorship_tag": "ABX9TyOrJa5JEnNaizNfhap+y3Qp",
      "include_colab_link": true
    },
    "kernelspec": {
      "name": "python3",
      "display_name": "Python 3"
    },
    "language_info": {
      "name": "python"
    }
  },
  "cells": [
    {
      "cell_type": "markdown",
      "metadata": {
        "id": "view-in-github",
        "colab_type": "text"
      },
      "source": [
        "<a href=\"https://colab.research.google.com/github/somas1/CT/blob/main/APIs/Pokemon.ipynb\" target=\"_parent\"><img src=\"https://colab.research.google.com/assets/colab-badge.svg\" alt=\"Open In Colab\"/></a>"
      ]
    },
    {
      "cell_type": "code",
      "execution_count": 2,
      "metadata": {
        "id": "DtxAgWe57JyY"
      },
      "outputs": [],
      "source": [
        "import requests\n",
        "import json\n",
        "import random"
      ]
    },
    {
      "cell_type": "code",
      "source": [
        "base_url = 'https://pokeapi.co/api/v2'"
      ],
      "metadata": {
        "id": "BldzZCRl_mGt"
      },
      "execution_count": 3,
      "outputs": []
    },
    {
      "cell_type": "markdown",
      "source": [
        "Retrieve a list of Pokemon's name, abilities, types, and weight from the PokeAPI\n",
        " https://pokeapi.co/\n",
        "\n",
        "Make 20 Pokemon"
      ],
      "metadata": {
        "id": "eojeV6cI8ICB"
      }
    },
    {
      "cell_type": "code",
      "source": [
        "def get_pokemon(type):\n",
        "  '''\n",
        "  This returns a single pokemon of a specified type. If the specified type doesn't\n",
        "  have any listed pokemon, a fire type pokemon will be returned.\n",
        "  '''\n",
        "  response = requests.get(base_url + '/type/' + type)\n",
        "  pokemon = response.json()['pokemon']\n",
        "  length = len(pokemon)\n",
        "  if length:\n",
        "    return pokemon[random.randrange(length)]['pokemon']['name']\n",
        "  else:\n",
        "    # Current type doesn't have any valid pokemon so we'll substitute a fire type instead\"\n",
        "    return get_pokemon('fire')\n"
      ],
      "metadata": {
        "id": "Svkr2_TK7rWT"
      },
      "execution_count": 9,
      "outputs": []
    },
    {
      "cell_type": "code",
      "source": [
        "def get_weight(name):\n",
        "  response = requests.get(base_url + f'/pokemon/{name}')\n",
        "  return response.json()['weight']\n"
      ],
      "metadata": {
        "id": "6j8QMwFev7hl"
      },
      "execution_count": 5,
      "outputs": []
    },
    {
      "cell_type": "code",
      "source": [
        "def get_types():\n",
        "  '''\n",
        "  This returns a list of all currently available pokemon types\n",
        "  '''\n",
        "  response = requests.get(base_url + '/type/')\n",
        "  types = response.json()['results']\n",
        "  typed = [type['name'] for type in types]\n",
        "  return typed\n",
        "\n",
        "#get_types()"
      ],
      "metadata": {
        "id": "qmpYE-8IVeYc"
      },
      "execution_count": 7,
      "outputs": []
    },
    {
      "cell_type": "code",
      "source": [
        "def get_type_of_pokemon(name):\n",
        "  '''\n",
        "  Returns one of the types of a given named pokemon\n",
        "  '''\n",
        "  response = requests.get(base_url + f'/pokemon/{name}')\n",
        "  #print(response.json()['types'])\n",
        "\n",
        "  poke_types = []\n",
        "\n",
        "  for typ in response.json()['types']:\n",
        "    poke_types.append(typ['type']['name'])\n",
        "  return poke_types\n",
        "get_type_of_pokemon('volcanion')"
      ],
      "metadata": {
        "colab": {
          "base_uri": "https://localhost:8080/"
        },
        "id": "EgvM81K3LLha",
        "outputId": "8ae64ee5-64bd-44f8-eae2-acfcf059f8f9"
      },
      "execution_count": 69,
      "outputs": [
        {
          "output_type": "execute_result",
          "data": {
            "text/plain": [
              "['fire', 'water']"
            ]
          },
          "metadata": {},
          "execution_count": 69
        }
      ]
    },
    {
      "cell_type": "code",
      "source": [
        "def roster():\n",
        "  '''\n",
        "  This builds a roster of 20 pokemon.\n",
        "  '''\n",
        "  team_types = random.sample(get_types(), 20)\n",
        "  team = []\n",
        "  for value in team_types:\n",
        "    team.append(get_pokemon(value))\n",
        "  return team\n",
        "\n",
        "\n",
        "for value in roster():\n",
        "  print(f'{value.title()} type- {get_type_of_pokemon(value)}, weighing {get_weight(value)} hectograms')\n",
        "  print('---------')"
      ],
      "metadata": {
        "colab": {
          "base_uri": "https://localhost:8080/"
        },
        "id": "Xrjuo0GtZbiK",
        "outputId": "b0c12615-8f89-4b20-f585-3b57908872e9"
      },
      "execution_count": 72,
      "outputs": [
        {
          "output_type": "stream",
          "name": "stdout",
          "text": [
            "Blacephalon type- ['fire', 'ghost'], weighing 130 hectograms\n",
            "---------\n",
            "Turtonator type- ['fire', 'dragon'], weighing 2120 hectograms\n",
            "---------\n",
            "Deino type- ['dark', 'dragon'], weighing 173 hectograms\n",
            "---------\n",
            "Aurorus type- ['rock', 'ice'], weighing 2250 hectograms\n",
            "---------\n",
            "Dewott type- ['water'], weighing 245 hectograms\n",
            "---------\n",
            "Bewear type- ['normal', 'fighting'], weighing 1350 hectograms\n",
            "---------\n",
            "Gardevoir type- ['psychic', 'fairy'], weighing 484 hectograms\n",
            "---------\n",
            "Kartana type- ['grass', 'steel'], weighing 1 hectograms\n",
            "---------\n",
            "Pikachu-Phd type- ['electric'], weighing 60 hectograms\n",
            "---------\n",
            "Grimer type- ['poison'], weighing 300 hectograms\n",
            "---------\n",
            "Jigglypuff type- ['normal', 'fairy'], weighing 55 hectograms\n",
            "---------\n",
            "Cinderace-Gmax type- ['fire'], weighing 10000 hectograms\n",
            "---------\n",
            "Shiinotic type- ['grass', 'fairy'], weighing 115 hectograms\n",
            "---------\n",
            "Tinkatink type- ['fairy', 'steel'], weighing 89 hectograms\n",
            "---------\n",
            "Palpitoad type- ['water', 'ground'], weighing 170 hectograms\n",
            "---------\n",
            "Kricketune type- ['bug'], weighing 255 hectograms\n",
            "---------\n",
            "Toucannon type- ['normal', 'flying'], weighing 260 hectograms\n",
            "---------\n",
            "Ninetales-Alola type- ['ice', 'fairy'], weighing 199 hectograms\n",
            "---------\n",
            "Spiritomb type- ['ghost', 'dark'], weighing 1080 hectograms\n",
            "---------\n",
            "Ting-Lu type- ['dark', 'ground'], weighing 6997 hectograms\n",
            "---------\n"
          ]
        }
      ]
    }
  ]
}