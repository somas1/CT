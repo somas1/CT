{
  "nbformat": 4,
  "nbformat_minor": 0,
  "metadata": {
    "colab": {
      "provenance": [],
      "authorship_tag": "ABX9TyPuGXOtXVL/8r1saEHxSrt1",
      "include_colab_link": true
    },
    "kernelspec": {
      "name": "python3",
      "display_name": "Python 3"
    },
    "language_info": {
      "name": "python"
    }
  },
  "cells": [
    {
      "cell_type": "markdown",
      "metadata": {
        "id": "view-in-github",
        "colab_type": "text"
      },
      "source": [
        "<a href=\"https://colab.research.google.com/github/somas1/CT/blob/main/APIs/Pokemon.ipynb\" target=\"_parent\"><img src=\"https://colab.research.google.com/assets/colab-badge.svg\" alt=\"Open In Colab\"/></a>"
      ]
    },
    {
      "cell_type": "code",
      "execution_count": 2,
      "metadata": {
        "id": "DtxAgWe57JyY"
      },
      "outputs": [],
      "source": [
        "import requests\n",
        "import json\n",
        "import random"
      ]
    },
    {
      "cell_type": "code",
      "source": [
        "base_url = 'https://pokeapi.co/api/v2'"
      ],
      "metadata": {
        "id": "BldzZCRl_mGt"
      },
      "execution_count": 3,
      "outputs": []
    },
    {
      "cell_type": "markdown",
      "source": [
        "Retrieve a list of Pokemon's name, abilities, types, and weight from the PokeAPI\n",
        " https://pokeapi.co/\n",
        "\n",
        "Make 20 Pokemon"
      ],
      "metadata": {
        "id": "eojeV6cI8ICB"
      }
    },
    {
      "cell_type": "code",
      "source": [
        "def get_pokemon(type):\n",
        "  '''\n",
        "  This returns a single pokemon of a specified type. If the specified type doesn't\n",
        "  have any listed pokemon, a fire type pokemon will be returned.\n",
        "  '''\n",
        "  response = requests.get(base_url + '/type/' + type)\n",
        "  pokemon = response.json()['pokemon']\n",
        "  length = len(pokemon)\n",
        "  if length:\n",
        "    return pokemon[random.randrange(length)]['pokemon']['name']\n",
        "  else:\n",
        "    # Current type doesn't have any valid pokemon so we'll substitute a fire type instead\"\n",
        "    return get_pokemon('fire')\n"
      ],
      "metadata": {
        "id": "Svkr2_TK7rWT"
      },
      "execution_count": 9,
      "outputs": []
    },
    {
      "cell_type": "code",
      "source": [
        "def get_weight(name):\n",
        "  response = requests.get(base_url + f'/pokemon/{name}')\n",
        "  return response.json()['weight']\n"
      ],
      "metadata": {
        "id": "6j8QMwFev7hl"
      },
      "execution_count": 5,
      "outputs": []
    },
    {
      "cell_type": "code",
      "source": [
        "def get_types():\n",
        "  '''\n",
        "  This returns a list of all currently available pokemon types\n",
        "  '''\n",
        "  response = requests.get(base_url + '/type/')\n",
        "  types = response.json()['results']\n",
        "  typed = [type['name'] for type in types]\n",
        "  return typed\n"
      ],
      "metadata": {
        "id": "qmpYE-8IVeYc"
      },
      "execution_count": 7,
      "outputs": []
    },
    {
      "cell_type": "code",
      "source": [
        "def get_type_of_pokemon(name):\n",
        "  '''\n",
        "  Returns the types of a given named pokemon\n",
        "  '''\n",
        "  response = requests.get(base_url + f'/pokemon/{name}')\n",
        "  poke_types = []\n",
        "\n",
        "  for typ in response.json()['types']:\n",
        "    poke_types.append(typ['type']['name'])\n",
        "  return poke_types\n",
        "\n",
        "get_type_of_pokemon('volcanion')"
      ],
      "metadata": {
        "colab": {
          "base_uri": "https://localhost:8080/"
        },
        "id": "EgvM81K3LLha",
        "outputId": "ab9add5b-4866-49ba-c76c-50e465a0c2e4"
      },
      "execution_count": 91,
      "outputs": [
        {
          "output_type": "execute_result",
          "data": {
            "text/plain": [
              "['fire', 'water']"
            ]
          },
          "metadata": {},
          "execution_count": 91
        }
      ]
    },
    {
      "cell_type": "code",
      "source": [
        "def get_abilities(name):\n",
        "  '''\n",
        "  Returns abilites of named pokemon\n",
        "  '''\n",
        "  response = requests.get(base_url + f'/pokemon/{name}')\n",
        "  poke_abilities = []\n",
        "\n",
        "  for ability in response.json()['abilities']:\n",
        "    poke_abilities.append(ability['ability']['name'])\n",
        "\n",
        "  return poke_abilities\n",
        "\n",
        "get_abilities('pikachu')"
      ],
      "metadata": {
        "colab": {
          "base_uri": "https://localhost:8080/"
        },
        "id": "D7y5_KWkVnDL",
        "outputId": "77ab5e56-d39c-49a3-e5c4-9ee9f5d393e7"
      },
      "execution_count": 88,
      "outputs": [
        {
          "output_type": "execute_result",
          "data": {
            "text/plain": [
              "['static', 'lightning-rod']"
            ]
          },
          "metadata": {},
          "execution_count": 88
        }
      ]
    },
    {
      "cell_type": "code",
      "source": [
        "def roster():\n",
        "  '''\n",
        "  This builds a roster of 20 pokemon.\n",
        "  '''\n",
        "  team_types = random.sample(get_types(), 20)\n",
        "  team = []\n",
        "  for value in team_types:\n",
        "    team.append(get_pokemon(value))\n",
        "  return team\n",
        "\n",
        "\n",
        "for value in roster():\n",
        "  print(f'{value.title()} type - {get_type_of_pokemon(value)}')\n",
        "  print(f'\\n abilities - {get_abilities(value)} ')\n",
        "  print(f'\\n weighing {get_weight(value)} hectograms')\n",
        "  print('---------')"
      ],
      "metadata": {
        "colab": {
          "base_uri": "https://localhost:8080/"
        },
        "id": "Xrjuo0GtZbiK",
        "outputId": "87dfc62e-72e7-4243-8b5a-a20ad635a68a"
      },
      "execution_count": 92,
      "outputs": [
        {
          "output_type": "stream",
          "name": "stdout",
          "text": [
            "Raichu-Alola type - ['electric', 'psychic']\n",
            "\n",
            " abilities - ['surge-surfer'] \n",
            "\n",
            " weighing 210 hectograms\n",
            "---------\n",
            "Mimikyu-Totem-Disguised type - ['ghost', 'fairy']\n",
            "\n",
            " abilities - ['disguise'] \n",
            "\n",
            " weighing 28 hectograms\n",
            "---------\n",
            "Pumpkaboo-Super type - ['ghost', 'grass']\n",
            "\n",
            " abilities - ['pickup', 'frisk', 'insomnia'] \n",
            "\n",
            " weighing 150 hectograms\n",
            "---------\n",
            "Kyurem type - ['dragon', 'ice']\n",
            "\n",
            " abilities - ['pressure'] \n",
            "\n",
            " weighing 3250 hectograms\n",
            "---------\n",
            "Nidoqueen type - ['poison', 'ground']\n",
            "\n",
            " abilities - ['poison-point', 'rivalry', 'sheer-force'] \n",
            "\n",
            " weighing 600 hectograms\n",
            "---------\n",
            "Chikorita type - ['grass']\n",
            "\n",
            " abilities - ['overgrow', 'leaf-guard'] \n",
            "\n",
            " weighing 64 hectograms\n",
            "---------\n",
            "Mesprit type - ['psychic']\n",
            "\n",
            " abilities - ['levitate'] \n",
            "\n",
            " weighing 3 hectograms\n",
            "---------\n",
            "Scovillain type - ['grass', 'fire']\n",
            "\n",
            " abilities - ['chlorophyll', 'insomnia', 'moody'] \n",
            "\n",
            " weighing 150 hectograms\n",
            "---------\n",
            "Machamp-Gmax type - ['fighting']\n",
            "\n",
            " abilities - ['guts', 'no-guard', 'steadfast'] \n",
            "\n",
            " weighing 10000 hectograms\n",
            "---------\n",
            "Victini type - ['psychic', 'fire']\n",
            "\n",
            " abilities - ['victory-star'] \n",
            "\n",
            " weighing 40 hectograms\n",
            "---------\n",
            "Cryogonal type - ['ice']\n",
            "\n",
            " abilities - ['levitate'] \n",
            "\n",
            " weighing 1480 hectograms\n",
            "---------\n",
            "Graveler-Alola type - ['rock', 'electric']\n",
            "\n",
            " abilities - ['magnet-pull', 'sturdy', 'galvanize'] \n",
            "\n",
            " weighing 1100 hectograms\n",
            "---------\n",
            "Rattata type - ['normal']\n",
            "\n",
            " abilities - ['run-away', 'guts', 'hustle'] \n",
            "\n",
            " weighing 35 hectograms\n",
            "---------\n",
            "Aegislash-Shield type - ['steel', 'ghost']\n",
            "\n",
            " abilities - ['stance-change'] \n",
            "\n",
            " weighing 530 hectograms\n",
            "---------\n",
            "Venusaur-Mega type - ['grass', 'poison']\n",
            "\n",
            " abilities - ['thick-fat'] \n",
            "\n",
            " weighing 1555 hectograms\n",
            "---------\n",
            "Ledian type - ['bug', 'flying']\n",
            "\n",
            " abilities - ['swarm', 'early-bird', 'iron-fist'] \n",
            "\n",
            " weighing 356 hectograms\n",
            "---------\n",
            "Stunky type - ['poison', 'dark']\n",
            "\n",
            " abilities - ['stench', 'aftermath', 'keen-eye'] \n",
            "\n",
            " weighing 192 hectograms\n",
            "---------\n",
            "Prinplup type - ['water']\n",
            "\n",
            " abilities - ['torrent', 'competitive'] \n",
            "\n",
            " weighing 230 hectograms\n",
            "---------\n",
            "Braviary-Hisui type - ['psychic', 'flying']\n",
            "\n",
            " abilities - ['keen-eye', 'sheer-force', 'tinted-lens'] \n",
            "\n",
            " weighing 434 hectograms\n",
            "---------\n",
            "Scorbunny type - ['fire']\n",
            "\n",
            " abilities - ['blaze', 'libero'] \n",
            "\n",
            " weighing 45 hectograms\n",
            "---------\n"
          ]
        }
      ]
    }
  ]
}