{
  "nbformat": 4,
  "nbformat_minor": 0,
  "metadata": {
    "colab": {
      "provenance": [],
      "authorship_tag": "ABX9TyOdp4XZ5iqVQdMOxOYEacS1",
      "include_colab_link": true
    },
    "kernelspec": {
      "name": "python3",
      "display_name": "Python 3"
    },
    "language_info": {
      "name": "python"
    }
  },
  "cells": [
    {
      "cell_type": "markdown",
      "metadata": {
        "id": "view-in-github",
        "colab_type": "text"
      },
      "source": [
        "<a href=\"https://colab.research.google.com/github/somas1/CT/blob/main/APIs/Pokemon.ipynb\" target=\"_parent\"><img src=\"https://colab.research.google.com/assets/colab-badge.svg\" alt=\"Open In Colab\"/></a>"
      ]
    },
    {
      "cell_type": "code",
      "execution_count": 57,
      "metadata": {
        "id": "DtxAgWe57JyY"
      },
      "outputs": [],
      "source": [
        "import requests\n",
        "import json\n",
        "import random"
      ]
    },
    {
      "cell_type": "code",
      "source": [
        "base_url = 'https://pokeapi.co/api/v2'"
      ],
      "metadata": {
        "id": "BldzZCRl_mGt"
      },
      "execution_count": 3,
      "outputs": []
    },
    {
      "cell_type": "markdown",
      "source": [
        "Retrieve a list of Pokemon's name, abilities, types, and weight from the PokeAPI\n",
        " https://pokeapi.co/\n",
        "\n",
        "Make 20 Pokemon"
      ],
      "metadata": {
        "id": "eojeV6cI8ICB"
      }
    },
    {
      "cell_type": "code",
      "source": [
        "def get_pokemon_type(type):\n",
        "  response = requests.get(base_url + '/type/' + type)\n",
        "  pokemon = response.json()['pokemon']\n",
        "  length = len(pokemon)\n",
        "  if length:\n",
        "    return pokemon[random.randrange(length)]['pokemon']['name']\n",
        "  else:\n",
        "    # Current type doesn't have any valid pokemon so we'll substitute a Fire type instead\"\n",
        "    return get_pokemon_type('fire')\n"
      ],
      "metadata": {
        "colab": {
          "base_uri": "https://localhost:8080/",
          "height": 36
        },
        "id": "Svkr2_TK7rWT",
        "outputId": "aab07d09-4c1b-4991-babd-2cb31f38ad1c"
      },
      "execution_count": 295,
      "outputs": [
        {
          "output_type": "execute_result",
          "data": {
            "text/plain": [
              "'growlithe-hisui'"
            ],
            "application/vnd.google.colaboratory.intrinsic+json": {
              "type": "string"
            }
          },
          "metadata": {},
          "execution_count": 295
        }
      ]
    },
    {
      "cell_type": "code",
      "source": [
        "def get_weight(name):\n",
        "  response = requests.get(base_url + f'/pokemon/{name}')\n",
        "  return response.json()['weight']\n"
      ],
      "metadata": {
        "colab": {
          "base_uri": "https://localhost:8080/"
        },
        "id": "6j8QMwFev7hl",
        "outputId": "c3a0f2ae-8a6e-42f0-abc9-1519431528a8"
      },
      "execution_count": 314,
      "outputs": [
        {
          "output_type": "execute_result",
          "data": {
            "text/plain": [
              "60"
            ]
          },
          "metadata": {},
          "execution_count": 314
        }
      ]
    },
    {
      "cell_type": "code",
      "source": [
        "def get_types():\n",
        "  response = requests.get(base_url + '/type/')\n",
        "  types = response.json()['results']\n",
        "  typed = [type['name'] for type in types]\n",
        "  return typed\n",
        "\n",
        "#get_types()"
      ],
      "metadata": {
        "id": "qmpYE-8IVeYc"
      },
      "execution_count": 326,
      "outputs": []
    },
    {
      "cell_type": "code",
      "source": [
        "def roster():\n",
        "  team_types = random.sample(get_types(), 4)\n",
        "  team = []\n",
        "  #print('Building a team with the following types: ')\n",
        "  for value in team_types:\n",
        "    #print(value)\n",
        "    team.append((get_pokemon_type(value), value))\n",
        "  return team\n",
        "\n",
        "\n",
        "for value in roster():\n",
        "  print(f'{value[0]}, {value[1]} type, weighing {get_weight(value[0])} hectograms')"
      ],
      "metadata": {
        "colab": {
          "base_uri": "https://localhost:8080/"
        },
        "id": "Xrjuo0GtZbiK",
        "outputId": "ea4f9b9e-a7b7-4a90-e6f6-a8a46f4bff9e"
      },
      "execution_count": 335,
      "outputs": [
        {
          "output_type": "stream",
          "name": "stdout",
          "text": [
            "pikachu-starter, electric type, weighing 60 hectograms\n",
            "reshiram, shadow type, weighing 3300 hectograms\n",
            "xatu, psychic type, weighing 150 hectograms\n",
            "darmanitan-galar-zen, ice type, weighing 1200 hectograms\n"
          ]
        }
      ]
    }
  ]
}