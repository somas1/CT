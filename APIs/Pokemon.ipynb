{
  "nbformat": 4,
  "nbformat_minor": 0,
  "metadata": {
    "colab": {
      "provenance": [],
      "authorship_tag": "ABX9TyNtlCB1yhTsGDIRUpgsU3xr",
      "include_colab_link": true
    },
    "kernelspec": {
      "name": "python3",
      "display_name": "Python 3"
    },
    "language_info": {
      "name": "python"
    }
  },
  "cells": [
    {
      "cell_type": "markdown",
      "metadata": {
        "id": "view-in-github",
        "colab_type": "text"
      },
      "source": [
        "<a href=\"https://colab.research.google.com/github/somas1/CT/blob/main/APIs/Pokemon.ipynb\" target=\"_parent\"><img src=\"https://colab.research.google.com/assets/colab-badge.svg\" alt=\"Open In Colab\"/></a>"
      ]
    },
    {
      "cell_type": "code",
      "execution_count": 2,
      "metadata": {
        "id": "DtxAgWe57JyY"
      },
      "outputs": [],
      "source": [
        "import requests\n",
        "import json\n",
        "import random"
      ]
    },
    {
      "cell_type": "code",
      "source": [
        "base_url = 'https://pokeapi.co/api/v2'"
      ],
      "metadata": {
        "id": "BldzZCRl_mGt"
      },
      "execution_count": 3,
      "outputs": []
    },
    {
      "cell_type": "markdown",
      "source": [
        "Retrieve a list of Pokemon's name, abilities, types, and weight from the PokeAPI\n",
        " https://pokeapi.co/\n",
        "\n",
        "Make 20 Pokemon"
      ],
      "metadata": {
        "id": "eojeV6cI8ICB"
      }
    },
    {
      "cell_type": "code",
      "source": [
        "def get_pokemon(type):\n",
        "  '''\n",
        "  This returns a single pokemon of a specified type. If the specified type doesn't\n",
        "  have any listed pokemon, a fire type pokemon will be returned.\n",
        "  '''\n",
        "  response = requests.get(base_url + '/type/' + type)\n",
        "  pokemon = response.json()['pokemon']\n",
        "  length = len(pokemon)\n",
        "  if length:\n",
        "    return pokemon[random.randrange(length)]['pokemon']['name']\n",
        "  else:\n",
        "    # Current type doesn't have any valid pokemon so we'll substitute a fire type instead\"\n",
        "    return get_pokemon('fire')\n"
      ],
      "metadata": {
        "id": "Svkr2_TK7rWT"
      },
      "execution_count": 9,
      "outputs": []
    },
    {
      "cell_type": "code",
      "source": [
        "def get_weight(name):\n",
        "  response = requests.get(base_url + f'/pokemon/{name}')\n",
        "  return response.json()['weight']\n"
      ],
      "metadata": {
        "id": "6j8QMwFev7hl"
      },
      "execution_count": 5,
      "outputs": []
    },
    {
      "cell_type": "code",
      "source": [
        "def get_types():\n",
        "  '''\n",
        "  This returns a list of all currently available pokemon types\n",
        "  '''\n",
        "  response = requests.get(base_url + '/type/')\n",
        "  types = response.json()['results']\n",
        "  typed = [type['name'] for type in types]\n",
        "  return typed\n",
        "\n",
        "#get_types()"
      ],
      "metadata": {
        "id": "qmpYE-8IVeYc"
      },
      "execution_count": 7,
      "outputs": []
    },
    {
      "cell_type": "code",
      "source": [
        "def get_type_of_pokemon(name):\n",
        "  '''\n",
        "  Returns one of the types of a given named pokemon\n",
        "  '''\n",
        "  response = requests.get(base_url + f'/pokemon/{name}')\n",
        "  print(response.json()['types'])\n",
        "\n",
        "  poke_types = []\n",
        "\n",
        "  for typ in response.json()['types']:\n",
        "    poke_types.append(typ['type']['name'])\n",
        "  return poke_types\n",
        "get_type_of_pokemon('volcanion')"
      ],
      "metadata": {
        "colab": {
          "base_uri": "https://localhost:8080/"
        },
        "id": "EgvM81K3LLha",
        "outputId": "befe0e2c-9bf4-4027-8bd8-9edb9eb74953"
      },
      "execution_count": 66,
      "outputs": [
        {
          "output_type": "stream",
          "name": "stdout",
          "text": [
            "[{'slot': 1, 'type': {'name': 'fire', 'url': 'https://pokeapi.co/api/v2/type/10/'}}, {'slot': 2, 'type': {'name': 'water', 'url': 'https://pokeapi.co/api/v2/type/11/'}}]\n"
          ]
        },
        {
          "output_type": "execute_result",
          "data": {
            "text/plain": [
              "['fire', 'water']"
            ]
          },
          "metadata": {},
          "execution_count": 66
        }
      ]
    },
    {
      "cell_type": "code",
      "source": [
        "def roster():\n",
        "  '''\n",
        "  This builds a roster of 20 pokemon.\n",
        "  '''\n",
        "  team_types = random.sample(get_types(), 20)\n",
        "  team = []\n",
        "  #print('Building a team with the following types: ')\n",
        "  for value in team_types:\n",
        "    #print(value)\n",
        "    team.append(get_pokemon(value))\n",
        "  return team\n",
        "\n",
        "\n",
        "for value in roster():\n",
        "  print(f'{value.title()} type- {get_type_of_pokemon(value)}, weighing {get_weight(value)} hectograms')"
      ],
      "metadata": {
        "colab": {
          "base_uri": "https://localhost:8080/"
        },
        "id": "Xrjuo0GtZbiK",
        "outputId": "236338e1-ef82-44ea-b130-68605b4c9f60"
      },
      "execution_count": 34,
      "outputs": [
        {
          "output_type": "stream",
          "name": "stdout",
          "text": [
            "Miraidon-Drive-Mode type- electric, weighing 2400 hectograms\n",
            "Greninja-Battle-Bond type- water, weighing 400 hectograms\n",
            "Dachsbun type- fairy, weighing 149 hectograms\n",
            "Mankey type- fighting, weighing 280 hectograms\n",
            "Decidueye type- grass, weighing 366 hectograms\n",
            "Dipplin type- grass, weighing 97 hectograms\n",
            "Maushold-Family-Of-Three type- normal, weighing 28 hectograms\n",
            "Marowak-Alola type- fire, weighing 340 hectograms\n",
            "Bulbasaur type- grass, weighing 69 hectograms\n",
            "Houndour type- dark, weighing 108 hectograms\n",
            "Iron-Bundle type- ice, weighing 110 hectograms\n",
            "Orbeetle type- bug, weighing 408 hectograms\n",
            "Togedemaru-Totem type- electric, weighing 130 hectograms\n",
            "Darmanitan-Zen type- fire, weighing 929 hectograms\n",
            "Minior-Violet type- rock, weighing 3 hectograms\n",
            "Salandit type- poison, weighing 48 hectograms\n",
            "Heracross-Mega type- bug, weighing 625 hectograms\n",
            "Swampert type- water, weighing 819 hectograms\n",
            "Exeggutor-Alola type- grass, weighing 4156 hectograms\n",
            "Lileep type- rock, weighing 238 hectograms\n"
          ]
        }
      ]
    }
  ]
}