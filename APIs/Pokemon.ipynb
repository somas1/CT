{
  "nbformat": 4,
  "nbformat_minor": 0,
  "metadata": {
    "colab": {
      "provenance": [],
      "authorship_tag": "ABX9TyPq+zX5PDMGjzqwMbkiDC0r",
      "include_colab_link": true
    },
    "kernelspec": {
      "name": "python3",
      "display_name": "Python 3"
    },
    "language_info": {
      "name": "python"
    }
  },
  "cells": [
    {
      "cell_type": "markdown",
      "metadata": {
        "id": "view-in-github",
        "colab_type": "text"
      },
      "source": [
        "<a href=\"https://colab.research.google.com/github/somas1/CT/blob/main/APIs/Pokemon.ipynb\" target=\"_parent\"><img src=\"https://colab.research.google.com/assets/colab-badge.svg\" alt=\"Open In Colab\"/></a>"
      ]
    },
    {
      "cell_type": "code",
      "execution_count": 57,
      "metadata": {
        "id": "DtxAgWe57JyY"
      },
      "outputs": [],
      "source": [
        "import requests\n",
        "import json\n",
        "import random"
      ]
    },
    {
      "cell_type": "code",
      "source": [
        "base_url = 'https://pokeapi.co/api/v2'"
      ],
      "metadata": {
        "id": "BldzZCRl_mGt"
      },
      "execution_count": 3,
      "outputs": []
    },
    {
      "cell_type": "markdown",
      "source": [
        "Retrieve a list of Pokemon's name, abilities, types, and weight from the PokeAPI\n",
        " https://pokeapi.co/\n",
        "\n",
        "Make 20 Pokemon"
      ],
      "metadata": {
        "id": "eojeV6cI8ICB"
      }
    },
    {
      "cell_type": "code",
      "source": [
        "def get_pokemon(type):\n",
        "  '''\n",
        "  This returns a single pokemon of a specified type. If the specified type doesn't\n",
        "  have any listed pokemon, a fire type pokemon will be returned.\n",
        "  '''\n",
        "  response = requests.get(base_url + '/type/' + type)\n",
        "  pokemon = response.json()['pokemon']\n",
        "  length = len(pokemon)\n",
        "  if length:\n",
        "    return pokemon[random.randrange(length)]['pokemon']['name']\n",
        "  else:\n",
        "    # Current type doesn't have any valid pokemon so we'll substitute a Fire type instead\"\n",
        "    return get_pokemon_type('fire')\n"
      ],
      "metadata": {
        "id": "Svkr2_TK7rWT"
      },
      "execution_count": 337,
      "outputs": []
    },
    {
      "cell_type": "code",
      "source": [
        "def get_weight(name):\n",
        "  response = requests.get(base_url + f'/pokemon/{name}')\n",
        "  return response.json()['weight']\n"
      ],
      "metadata": {
        "colab": {
          "base_uri": "https://localhost:8080/"
        },
        "id": "6j8QMwFev7hl",
        "outputId": "c3a0f2ae-8a6e-42f0-abc9-1519431528a8"
      },
      "execution_count": 314,
      "outputs": [
        {
          "output_type": "execute_result",
          "data": {
            "text/plain": [
              "60"
            ]
          },
          "metadata": {},
          "execution_count": 314
        }
      ]
    },
    {
      "cell_type": "code",
      "source": [
        "def get_types():\n",
        "  '''\n",
        "  This returns a list of all currently available pokemon types\n",
        "  '''\n",
        "  response = requests.get(base_url + '/type/')\n",
        "  types = response.json()['results']\n",
        "  typed = [type['name'] for type in types]\n",
        "  return typed\n",
        "\n",
        "#get_types()"
      ],
      "metadata": {
        "id": "qmpYE-8IVeYc"
      },
      "execution_count": 326,
      "outputs": []
    },
    {
      "cell_type": "code",
      "source": [
        "def roster():\n",
        "  '''\n",
        "  This builds a roster of 20 pokemon.\n",
        "  '''\n",
        "  team_types = random.sample(get_types(), 20)\n",
        "  team = []\n",
        "  #print('Building a team with the following types: ')\n",
        "  for value in team_types:\n",
        "    #print(value)\n",
        "    team.append(get_pokemon(value))\n",
        "  return team\n",
        "\n",
        "\n",
        "for value in roster():\n",
        "  print(f'{value} type, weighing {get_weight(value)} hectograms')"
      ],
      "metadata": {
        "colab": {
          "base_uri": "https://localhost:8080/"
        },
        "id": "Xrjuo0GtZbiK",
        "outputId": "4030dba2-bb4a-4760-b5e9-4a5dd7013885"
      },
      "execution_count": 340,
      "outputs": [
        {
          "output_type": "stream",
          "name": "stdout",
          "text": [
            "iron-bundle type, weighing 110 hectograms\n",
            "torkoal type, weighing 804 hectograms\n",
            "mimikyu-disguised type, weighing 7 hectograms\n",
            "swirlix type, weighing 35 hectograms\n",
            "omanyte type, weighing 75 hectograms\n",
            "volcarona type, weighing 460 hectograms\n",
            "bisharp type, weighing 700 hectograms\n",
            "ferroseed type, weighing 188 hectograms\n",
            "hydreigon type, weighing 1600 hectograms\n",
            "manectric-mega type, weighing 440 hectograms\n",
            "ledian type, weighing 356 hectograms\n",
            "vespiquen type, weighing 385 hectograms\n",
            "aron type, weighing 600 hectograms\n",
            "blaziken type, weighing 520 hectograms\n",
            "scovillain type, weighing 150 hectograms\n",
            "overqwil type, weighing 605 hectograms\n",
            "squawkabilly-white-plumage type, weighing 24 hectograms\n",
            "calyrex-ice type, weighing 8091 hectograms\n",
            "farfetchd-galar type, weighing 420 hectograms\n",
            "gastrodon type, weighing 299 hectograms\n"
          ]
        }
      ]
    }
  ]
}