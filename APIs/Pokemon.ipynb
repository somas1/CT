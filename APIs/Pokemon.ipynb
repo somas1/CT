{
  "nbformat": 4,
  "nbformat_minor": 0,
  "metadata": {
    "colab": {
      "provenance": [],
      "authorship_tag": "ABX9TyPb+OTHyg5hBW9246C/HxeV",
      "include_colab_link": true
    },
    "kernelspec": {
      "name": "python3",
      "display_name": "Python 3"
    },
    "language_info": {
      "name": "python"
    }
  },
  "cells": [
    {
      "cell_type": "markdown",
      "metadata": {
        "id": "view-in-github",
        "colab_type": "text"
      },
      "source": [
        "<a href=\"https://colab.research.google.com/github/somas1/CT/blob/main/APIs/Pokemon.ipynb\" target=\"_parent\"><img src=\"https://colab.research.google.com/assets/colab-badge.svg\" alt=\"Open In Colab\"/></a>"
      ]
    },
    {
      "cell_type": "code",
      "execution_count": 2,
      "metadata": {
        "id": "DtxAgWe57JyY"
      },
      "outputs": [],
      "source": [
        "import requests\n",
        "import json\n",
        "import random"
      ]
    },
    {
      "cell_type": "code",
      "source": [
        "base_url = 'https://pokeapi.co/api/v2'"
      ],
      "metadata": {
        "id": "BldzZCRl_mGt"
      },
      "execution_count": 3,
      "outputs": []
    },
    {
      "cell_type": "markdown",
      "source": [
        "Retrieve a list of Pokemon's name, abilities, types, and weight from the PokeAPI\n",
        " https://pokeapi.co/\n",
        "\n",
        "Make 20 Pokemon"
      ],
      "metadata": {
        "id": "eojeV6cI8ICB"
      }
    },
    {
      "cell_type": "code",
      "source": [
        "def get_pokemon(type):\n",
        "  '''\n",
        "  This returns a single pokemon of a specified type. If the specified type doesn't\n",
        "  have any listed pokemon, a fire type pokemon will be returned.\n",
        "  '''\n",
        "  response = requests.get(base_url + '/type/' + type)\n",
        "  pokemon = response.json()['pokemon']\n",
        "  length = len(pokemon)\n",
        "  if length:\n",
        "    return pokemon[random.randrange(length)]['pokemon']['name']\n",
        "  else:\n",
        "    # Current type doesn't have any valid pokemon so we'll substitute a fire type instead\"\n",
        "    return get_pokemon('fire')\n"
      ],
      "metadata": {
        "id": "Svkr2_TK7rWT"
      },
      "execution_count": 9,
      "outputs": []
    },
    {
      "cell_type": "code",
      "source": [
        "def get_weight(name):\n",
        "  response = requests.get(base_url + f'/pokemon/{name}')\n",
        "  return response.json()['weight']\n"
      ],
      "metadata": {
        "id": "6j8QMwFev7hl"
      },
      "execution_count": 5,
      "outputs": []
    },
    {
      "cell_type": "code",
      "source": [
        "def get_types():\n",
        "  '''\n",
        "  This returns a list of all currently available pokemon types\n",
        "  '''\n",
        "  response = requests.get(base_url + '/type/')\n",
        "  types = response.json()['results']\n",
        "  typed = [type['name'] for type in types]\n",
        "  return typed\n"
      ],
      "metadata": {
        "id": "qmpYE-8IVeYc"
      },
      "execution_count": 7,
      "outputs": []
    },
    {
      "cell_type": "code",
      "source": [
        "def get_type_of_pokemon(name):\n",
        "  '''\n",
        "  Returns one of the types of a given named pokemon\n",
        "  '''\n",
        "  response = requests.get(base_url + f'/pokemon/{name}')\n",
        "  poke_types = []\n",
        "\n",
        "  for typ in response.json()['types']:\n",
        "    poke_types.append(typ['type']['name'])\n",
        "  return poke_types\n",
        "\n",
        "get_type_of_pokemon('volcanion')"
      ],
      "metadata": {
        "colab": {
          "base_uri": "https://localhost:8080/"
        },
        "id": "EgvM81K3LLha",
        "outputId": "081ac621-a71f-4219-f22b-7b0f0705a273"
      },
      "execution_count": 77,
      "outputs": [
        {
          "output_type": "execute_result",
          "data": {
            "text/plain": [
              "['fire', 'water']"
            ]
          },
          "metadata": {},
          "execution_count": 77
        }
      ]
    },
    {
      "cell_type": "code",
      "source": [
        "def get_abilities(name):\n",
        "  '''\n",
        "  Returns abilites of named pokemon\n",
        "  '''\n",
        "  response = requests.get(base_url + f'/pokemon/{name}')\n",
        "  poke_abilities = []\n",
        "\n",
        "  for ability in response.json()['abilities']:\n",
        "    poke_abilities.append(ability['ability']['name'])\n",
        "\n",
        "  return poke_abilities\n",
        "\n",
        "get_abilities('pikachu')"
      ],
      "metadata": {
        "id": "D7y5_KWkVnDL",
        "outputId": "77ab5e56-d39c-49a3-e5c4-9ee9f5d393e7",
        "colab": {
          "base_uri": "https://localhost:8080/"
        }
      },
      "execution_count": 88,
      "outputs": [
        {
          "output_type": "execute_result",
          "data": {
            "text/plain": [
              "['static', 'lightning-rod']"
            ]
          },
          "metadata": {},
          "execution_count": 88
        }
      ]
    },
    {
      "cell_type": "code",
      "source": [
        "def roster():\n",
        "  '''\n",
        "  This builds a roster of 20 pokemon.\n",
        "  '''\n",
        "  team_types = random.sample(get_types(), 20)\n",
        "  team = []\n",
        "  for value in team_types:\n",
        "    team.append(get_pokemon(value))\n",
        "  return team\n",
        "\n",
        "\n",
        "for value in roster():\n",
        "  print(f'{value.title()} type - {get_type_of_pokemon(value)}')\n",
        "  print(f'\\n abilities - {get_abilities(value)} ')\n",
        "  print(f'\\n weighing {get_weight(value)} hectograms')\n",
        "  print('---------')"
      ],
      "metadata": {
        "colab": {
          "base_uri": "https://localhost:8080/"
        },
        "id": "Xrjuo0GtZbiK",
        "outputId": "133aa9c6-80dc-4ba1-d984-819f169640df"
      },
      "execution_count": 90,
      "outputs": [
        {
          "output_type": "stream",
          "name": "stdout",
          "text": [
            "Sneasel type - ['dark', 'ice']\n",
            "\n",
            " abilities - ['inner-focus', 'keen-eye', 'pickpocket'] \n",
            "\n",
            " weighing 280 hectograms\n",
            "---------\n",
            "Morpeko-Full-Belly type - ['electric', 'dark']\n",
            "\n",
            " abilities - ['hunger-switch'] \n",
            "\n",
            " weighing 30 hectograms\n",
            "---------\n",
            "Rockruff-Own-Tempo type - ['rock']\n",
            "\n",
            " abilities - ['own-tempo'] \n",
            "\n",
            " weighing 92 hectograms\n",
            "---------\n",
            "Pyroar type - ['fire', 'normal']\n",
            "\n",
            " abilities - ['rivalry', 'unnerve', 'moxie'] \n",
            "\n",
            " weighing 815 hectograms\n",
            "---------\n",
            "Kommo-O-Totem type - ['dragon', 'fighting']\n",
            "\n",
            " abilities - ['bulletproof', 'soundproof', 'overcoat'] \n",
            "\n",
            " weighing 2075 hectograms\n",
            "---------\n",
            "Gligar type - ['ground', 'flying']\n",
            "\n",
            " abilities - ['hyper-cutter', 'sand-veil', 'immunity'] \n",
            "\n",
            " weighing 648 hectograms\n",
            "---------\n",
            "Eternatus type - ['poison', 'dragon']\n",
            "\n",
            " abilities - ['pressure'] \n",
            "\n",
            " weighing 9500 hectograms\n",
            "---------\n",
            "Cradily type - ['rock', 'grass']\n",
            "\n",
            " abilities - ['suction-cups', 'storm-drain'] \n",
            "\n",
            " weighing 604 hectograms\n",
            "---------\n",
            "Rattata-Alola type - ['dark', 'normal']\n",
            "\n",
            " abilities - ['gluttony', 'hustle', 'thick-fat'] \n",
            "\n",
            " weighing 38 hectograms\n",
            "---------\n",
            "Delphox type - ['fire', 'psychic']\n",
            "\n",
            " abilities - ['blaze', 'magician'] \n",
            "\n",
            " weighing 390 hectograms\n",
            "---------\n",
            "Sewaddle type - ['bug', 'grass']\n",
            "\n",
            " abilities - ['swarm', 'chlorophyll', 'overcoat'] \n",
            "\n",
            " weighing 25 hectograms\n",
            "---------\n",
            "Zacian-Crowned type - ['fairy', 'steel']\n",
            "\n",
            " abilities - ['intrepid-sword'] \n",
            "\n",
            " weighing 3550 hectograms\n",
            "---------\n",
            "Cramorant-Gulping type - ['flying', 'water']\n",
            "\n",
            " abilities - ['gulp-missile'] \n",
            "\n",
            " weighing 180 hectograms\n",
            "---------\n",
            "Salazzle-Totem type - ['poison', 'fire']\n",
            "\n",
            " abilities - ['corrosion', 'oblivious'] \n",
            "\n",
            " weighing 810 hectograms\n",
            "---------\n",
            "Sandile type - ['ground', 'dark']\n",
            "\n",
            " abilities - ['intimidate', 'moxie', 'anger-point'] \n",
            "\n",
            " weighing 152 hectograms\n",
            "---------\n",
            "Necrozma-Dawn type - ['psychic', 'ghost']\n",
            "\n",
            " abilities - ['prism-armor'] \n",
            "\n",
            " weighing 3500 hectograms\n",
            "---------\n",
            "Skeledirge type - ['fire', 'ghost']\n",
            "\n",
            " abilities - ['blaze', 'unaware'] \n",
            "\n",
            " weighing 3265 hectograms\n",
            "---------\n",
            "Aromatisse type - ['fairy']\n",
            "\n",
            " abilities - ['healer', 'aroma-veil'] \n",
            "\n",
            " weighing 155 hectograms\n",
            "---------\n",
            "Wishiwashi-Solo type - ['water']\n",
            "\n",
            " abilities - ['schooling'] \n",
            "\n",
            " weighing 3 hectograms\n",
            "---------\n",
            "Fletchinder type - ['fire', 'flying']\n",
            "\n",
            " abilities - ['flame-body', 'gale-wings'] \n",
            "\n",
            " weighing 160 hectograms\n",
            "---------\n"
          ]
        }
      ]
    }
  ]
}