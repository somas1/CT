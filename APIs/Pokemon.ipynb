{
  "nbformat": 4,
  "nbformat_minor": 0,
  "metadata": {
    "colab": {
      "provenance": [],
      "authorship_tag": "ABX9TyNJg8fqVXsqqqaqLyw4Nt5k",
      "include_colab_link": true
    },
    "kernelspec": {
      "name": "python3",
      "display_name": "Python 3"
    },
    "language_info": {
      "name": "python"
    }
  },
  "cells": [
    {
      "cell_type": "markdown",
      "metadata": {
        "id": "view-in-github",
        "colab_type": "text"
      },
      "source": [
        "<a href=\"https://colab.research.google.com/github/somas1/CT/blob/main/APIs/Pokemon.ipynb\" target=\"_parent\"><img src=\"https://colab.research.google.com/assets/colab-badge.svg\" alt=\"Open In Colab\"/></a>"
      ]
    },
    {
      "cell_type": "code",
      "execution_count": 2,
      "metadata": {
        "id": "DtxAgWe57JyY"
      },
      "outputs": [],
      "source": [
        "import requests\n",
        "import json"
      ]
    },
    {
      "cell_type": "code",
      "source": [
        "base_url = 'https://pokeapi.co/api/v2'"
      ],
      "metadata": {
        "id": "BldzZCRl_mGt"
      },
      "execution_count": 3,
      "outputs": []
    },
    {
      "cell_type": "markdown",
      "source": [
        "Retrieve a list of Pokemon's name, abilities, types, and weight from the PokeAPI\n",
        " https://pokeapi.co/\n",
        "\n",
        "Make 20 Pokemon"
      ],
      "metadata": {
        "id": "eojeV6cI8ICB"
      }
    },
    {
      "cell_type": "code",
      "source": [
        "def get_pokemon_type(type):\n",
        "  response = requests.get(base_url + '/type/' + type)\n",
        "  return response.json()['pokemon']\n"
      ],
      "metadata": {
        "id": "Svkr2_TK7rWT"
      },
      "execution_count": 35,
      "outputs": []
    },
    {
      "cell_type": "code",
      "source": [
        "def get_types():\n",
        "  response = requests.get(base_url + '/type/')\n",
        "  types = response.json()['results']\n",
        "\n",
        "  typed = [type['name'] for type in types]\n",
        "  return typed\n",
        "\n",
        "\n",
        "get_types()"
      ],
      "metadata": {
        "id": "qmpYE-8IVeYc",
        "outputId": "435ea2c1-d99e-4acf-ba02-74db8a93e85f",
        "colab": {
          "base_uri": "https://localhost:8080/"
        }
      },
      "execution_count": 56,
      "outputs": [
        {
          "output_type": "execute_result",
          "data": {
            "text/plain": [
              "['normal',\n",
              " 'fighting',\n",
              " 'flying',\n",
              " 'poison',\n",
              " 'ground',\n",
              " 'rock',\n",
              " 'bug',\n",
              " 'ghost',\n",
              " 'steel',\n",
              " 'fire',\n",
              " 'water',\n",
              " 'grass',\n",
              " 'electric',\n",
              " 'psychic',\n",
              " 'ice',\n",
              " 'dragon',\n",
              " 'dark',\n",
              " 'fairy',\n",
              " 'unknown',\n",
              " 'shadow']"
            ]
          },
          "metadata": {},
          "execution_count": 56
        }
      ]
    }
  ]
}