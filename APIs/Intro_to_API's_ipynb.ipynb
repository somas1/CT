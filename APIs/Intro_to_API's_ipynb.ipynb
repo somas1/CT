{
  "cells": [
    {
      "cell_type": "markdown",
      "metadata": {
        "id": "view-in-github",
        "colab_type": "text"
      },
      "source": [
        "<a href=\"https://colab.research.google.com/github/somas1/CT/blob/main/APIs/Intro_to_API's_ipynb.ipynb\" target=\"_parent\"><img src=\"https://colab.research.google.com/assets/colab-badge.svg\" alt=\"Open In Colab\"/></a>"
      ]
    },
    {
      "cell_type": "markdown",
      "id": "7196054f",
      "metadata": {
        "id": "7196054f"
      },
      "source": [
        "# Working with APIs"
      ]
    },
    {
      "cell_type": "markdown",
      "id": "0547b71e",
      "metadata": {
        "id": "0547b71e"
      },
      "source": [
        "API stands for Application programming interface<br>\n",
        "APIs are a way for applications to talk to eachother<br>\n",
        "In python we use the requests package to handle the connection<br>\n",
        "<small><strong>Note: It is requests with an s not request(this is a different package)</strong></small><br>\n",
        "Most API's communicate with data in the form of JSON<br>\n",
        "JSON stands for JavaScript Object Notation"
      ]
    },
    {
      "cell_type": "code",
      "execution_count": 1,
      "id": "4db9d154",
      "metadata": {
        "id": "4db9d154"
      },
      "outputs": [],
      "source": [
        "#import the packages we need:\n",
        "import requests, json"
      ]
    },
    {
      "cell_type": "markdown",
      "id": "e8c2ce51",
      "metadata": {
        "id": "e8c2ce51"
      },
      "source": [
        "We will be connecting to the Ergast F1 Racer API today:\n",
        "http://ergast.com/mrd/\n",
        "\n",
        "to view JSON data nicely in the Chrome browser install the extension JSONview"
      ]
    },
    {
      "cell_type": "code",
      "execution_count": 2,
      "id": "52c440c6",
      "metadata": {
        "id": "52c440c6"
      },
      "outputs": [],
      "source": [
        "# help(requests)"
      ]
    },
    {
      "cell_type": "code",
      "execution_count": 3,
      "id": "f60c1b4a",
      "metadata": {
        "id": "f60c1b4a"
      },
      "outputs": [],
      "source": [
        "url = 'http://ergast.com/api/f1/2008/5/driverStandings.json'"
      ]
    },
    {
      "cell_type": "code",
      "execution_count": 4,
      "id": "7b63a204",
      "metadata": {
        "id": "7b63a204",
        "outputId": "2dbc7f08-f928-4f0d-8a06-78bff48651c9",
        "colab": {
          "base_uri": "https://localhost:8080/"
        }
      },
      "outputs": [
        {
          "output_type": "stream",
          "name": "stdout",
          "text": [
            "<Response [200]>\n"
          ]
        }
      ],
      "source": [
        "#response object\n",
        "response = requests.get(url)\n",
        "print(response)"
      ]
    },
    {
      "cell_type": "code",
      "execution_count": null,
      "id": "c6d1fdaf",
      "metadata": {
        "id": "c6d1fdaf"
      },
      "outputs": [],
      "source": [
        "#check and make sure we got a successful response from the API\n"
      ]
    },
    {
      "cell_type": "code",
      "execution_count": null,
      "id": "ed4d3256",
      "metadata": {
        "id": "ed4d3256"
      },
      "outputs": [],
      "source": [
        "#view the response as a JSON\n"
      ]
    },
    {
      "cell_type": "code",
      "execution_count": null,
      "id": "92e6cd2c",
      "metadata": {
        "id": "92e6cd2c"
      },
      "outputs": [],
      "source": []
    },
    {
      "cell_type": "code",
      "execution_count": null,
      "id": "f074dfcf",
      "metadata": {
        "id": "f074dfcf"
      },
      "outputs": [],
      "source": [
        "# We only want the Driver Standings\n"
      ]
    },
    {
      "cell_type": "code",
      "execution_count": null,
      "id": "be46a950",
      "metadata": {
        "id": "be46a950"
      },
      "outputs": [],
      "source": []
    },
    {
      "cell_type": "code",
      "execution_count": null,
      "id": "3740c752",
      "metadata": {
        "id": "3740c752"
      },
      "outputs": [],
      "source": []
    },
    {
      "cell_type": "markdown",
      "id": "6d546014",
      "metadata": {
        "id": "6d546014"
      },
      "source": [
        "# <strong>Homework</strong>\n",
        "Retrieve a list of Pokemon's name, abilities, types, and weight from the PokeAPI\n",
        " https://pokeapi.co/\n",
        "\n",
        "Make 20 Pokemon\n",
        "\n",
        "Whenever you need to create a POKEMON, you need to construct your Pokemon through data from the API: https://pokeapi.co/\n",
        "\n",
        "Below is an example of how your Pokemon should be categorized by Type.\n",
        "Create a dictionary\n",
        "{\n",
        "<strong>'Fire'</strong>: {\n",
        "'charizard': {\n",
        "'abilities': [],\n",
        "'weight': ,\n",
        "},\n",
        "'ninetales': {\n",
        "'abilities': [],\n",
        "'weight': ,\n",
        "}\n",
        "},\n",
        "<strong>'Flying'</strong>:,\n",
        "<strong>'Water'</strong>:\n",
        "}\n",
        "\n",
        "Remember, it may be easier to write functions to do your dirty work, and then call them to execute each topic, rather than trying to write a monstrous spaghetti-script that does it all at once; it also might be very good to plan how you'll go about this and what functions you might use before you write 500 lines of code that confuse and befuddle all who lay eyes upon it. Including yourself. An immense portion of good coding is just planning.\n",
        "\n",
        "When you're done, create a GitHub repository for your assignment and save the repository link as the assignment."
      ]
    },
    {
      "cell_type": "code",
      "execution_count": null,
      "id": "5a9081e3",
      "metadata": {
        "id": "5a9081e3"
      },
      "outputs": [],
      "source": []
    }
  ],
  "metadata": {
    "kernelspec": {
      "display_name": "Python 3 (ipykernel)",
      "language": "python",
      "name": "python3"
    },
    "language_info": {
      "codemirror_mode": {
        "name": "ipython",
        "version": 3
      },
      "file_extension": ".py",
      "mimetype": "text/x-python",
      "name": "python",
      "nbconvert_exporter": "python",
      "pygments_lexer": "ipython3",
      "version": "3.9.13"
    },
    "colab": {
      "provenance": [],
      "include_colab_link": true
    }
  },
  "nbformat": 4,
  "nbformat_minor": 5
}