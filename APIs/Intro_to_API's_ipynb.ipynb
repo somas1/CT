{
  "cells": [
    {
      "cell_type": "markdown",
      "metadata": {
        "id": "view-in-github",
        "colab_type": "text"
      },
      "source": [
        "<a href=\"https://colab.research.google.com/github/somas1/CT/blob/main/APIs/Intro_to_API's_ipynb.ipynb\" target=\"_parent\"><img src=\"https://colab.research.google.com/assets/colab-badge.svg\" alt=\"Open In Colab\"/></a>"
      ]
    },
    {
      "cell_type": "markdown",
      "id": "7196054f",
      "metadata": {
        "id": "7196054f"
      },
      "source": [
        "# Working with APIs"
      ]
    },
    {
      "cell_type": "markdown",
      "id": "0547b71e",
      "metadata": {
        "id": "0547b71e"
      },
      "source": [
        "API stands for Application programming interface<br>\n",
        "APIs are a way for applications to talk to eachother<br>\n",
        "In python we use the requests package to handle the connection<br>\n",
        "<small><strong>Note: It is requests with an s not request(this is a different package)</strong></small><br>\n",
        "Most API's communicate with data in the form of JSON<br>\n",
        "JSON stands for JavaScript Object Notation"
      ]
    },
    {
      "cell_type": "code",
      "execution_count": 1,
      "id": "4db9d154",
      "metadata": {
        "id": "4db9d154"
      },
      "outputs": [],
      "source": [
        "#import the packages we need:\n",
        "import requests, json"
      ]
    },
    {
      "cell_type": "markdown",
      "id": "e8c2ce51",
      "metadata": {
        "id": "e8c2ce51"
      },
      "source": [
        "We will be connecting to the Ergast F1 Racer API today:\n",
        "http://ergast.com/mrd/\n",
        "\n",
        "to view JSON data nicely in the Chrome browser install the extension JSONview"
      ]
    },
    {
      "cell_type": "code",
      "execution_count": 2,
      "id": "52c440c6",
      "metadata": {
        "id": "52c440c6"
      },
      "outputs": [],
      "source": [
        "# help(requests)"
      ]
    },
    {
      "cell_type": "code",
      "execution_count": 3,
      "id": "f60c1b4a",
      "metadata": {
        "id": "f60c1b4a"
      },
      "outputs": [],
      "source": [
        "url = 'http://ergast.com/api/f1/2008/5/driverStandings.json'"
      ]
    },
    {
      "cell_type": "code",
      "execution_count": 4,
      "id": "7b63a204",
      "metadata": {
        "id": "7b63a204",
        "colab": {
          "base_uri": "https://localhost:8080/"
        },
        "outputId": "2dbc7f08-f928-4f0d-8a06-78bff48651c9"
      },
      "outputs": [
        {
          "output_type": "stream",
          "name": "stdout",
          "text": [
            "<Response [200]>\n"
          ]
        }
      ],
      "source": [
        "#response object\n",
        "response = requests.get(url)\n",
        "print(response)"
      ]
    },
    {
      "cell_type": "code",
      "execution_count": 5,
      "id": "c6d1fdaf",
      "metadata": {
        "id": "c6d1fdaf",
        "colab": {
          "base_uri": "https://localhost:8080/"
        },
        "outputId": "f81ae715-2029-4b07-d255-d5fd26ad52d6"
      },
      "outputs": [
        {
          "output_type": "execute_result",
          "data": {
            "text/plain": [
              "True"
            ]
          },
          "metadata": {},
          "execution_count": 5
        }
      ],
      "source": [
        "#check and make sure we got a successful response from the API\n",
        "response.ok"
      ]
    },
    {
      "cell_type": "code",
      "execution_count": 6,
      "id": "ed4d3256",
      "metadata": {
        "id": "ed4d3256",
        "colab": {
          "base_uri": "https://localhost:8080/"
        },
        "outputId": "15cf2cd7-567f-499e-abdb-04a164232ce3"
      },
      "outputs": [
        {
          "output_type": "execute_result",
          "data": {
            "text/plain": [
              "{'MRData': {'xmlns': 'http://ergast.com/mrd/1.5',\n",
              "  'series': 'f1',\n",
              "  'url': 'http://ergast.com/api/f1/2008/5/driverstandings.json',\n",
              "  'limit': '30',\n",
              "  'offset': '0',\n",
              "  'total': '22',\n",
              "  'StandingsTable': {'season': '2008',\n",
              "   'round': '5',\n",
              "   'StandingsLists': [{'season': '2008',\n",
              "     'round': '5',\n",
              "     'DriverStandings': [{'position': '1',\n",
              "       'positionText': '1',\n",
              "       'points': '35',\n",
              "       'wins': '2',\n",
              "       'Driver': {'driverId': 'raikkonen',\n",
              "        'permanentNumber': '7',\n",
              "        'code': 'RAI',\n",
              "        'url': 'http://en.wikipedia.org/wiki/Kimi_R%C3%A4ikk%C3%B6nen',\n",
              "        'givenName': 'Kimi',\n",
              "        'familyName': 'Räikkönen',\n",
              "        'dateOfBirth': '1979-10-17',\n",
              "        'nationality': 'Finnish'},\n",
              "       'Constructors': [{'constructorId': 'ferrari',\n",
              "         'url': 'http://en.wikipedia.org/wiki/Scuderia_Ferrari',\n",
              "         'name': 'Ferrari',\n",
              "         'nationality': 'Italian'}]},\n",
              "      {'position': '2',\n",
              "       'positionText': '2',\n",
              "       'points': '28',\n",
              "       'wins': '2',\n",
              "       'Driver': {'driverId': 'massa',\n",
              "        'permanentNumber': '19',\n",
              "        'code': 'MAS',\n",
              "        'url': 'http://en.wikipedia.org/wiki/Felipe_Massa',\n",
              "        'givenName': 'Felipe',\n",
              "        'familyName': 'Massa',\n",
              "        'dateOfBirth': '1981-04-25',\n",
              "        'nationality': 'Brazilian'},\n",
              "       'Constructors': [{'constructorId': 'ferrari',\n",
              "         'url': 'http://en.wikipedia.org/wiki/Scuderia_Ferrari',\n",
              "         'name': 'Ferrari',\n",
              "         'nationality': 'Italian'}]},\n",
              "      {'position': '3',\n",
              "       'positionText': '3',\n",
              "       'points': '28',\n",
              "       'wins': '1',\n",
              "       'Driver': {'driverId': 'hamilton',\n",
              "        'permanentNumber': '44',\n",
              "        'code': 'HAM',\n",
              "        'url': 'http://en.wikipedia.org/wiki/Lewis_Hamilton',\n",
              "        'givenName': 'Lewis',\n",
              "        'familyName': 'Hamilton',\n",
              "        'dateOfBirth': '1985-01-07',\n",
              "        'nationality': 'British'},\n",
              "       'Constructors': [{'constructorId': 'mclaren',\n",
              "         'url': 'http://en.wikipedia.org/wiki/McLaren',\n",
              "         'name': 'McLaren',\n",
              "         'nationality': 'British'}]},\n",
              "      {'position': '4',\n",
              "       'positionText': '4',\n",
              "       'points': '24',\n",
              "       'wins': '0',\n",
              "       'Driver': {'driverId': 'kubica',\n",
              "        'permanentNumber': '88',\n",
              "        'code': 'KUB',\n",
              "        'url': 'http://en.wikipedia.org/wiki/Robert_Kubica',\n",
              "        'givenName': 'Robert',\n",
              "        'familyName': 'Kubica',\n",
              "        'dateOfBirth': '1984-12-07',\n",
              "        'nationality': 'Polish'},\n",
              "       'Constructors': [{'constructorId': 'bmw_sauber',\n",
              "         'url': 'http://en.wikipedia.org/wiki/BMW_Sauber',\n",
              "         'name': 'BMW Sauber',\n",
              "         'nationality': 'German'}]},\n",
              "      {'position': '5',\n",
              "       'positionText': '5',\n",
              "       'points': '20',\n",
              "       'wins': '0',\n",
              "       'Driver': {'driverId': 'heidfeld',\n",
              "        'code': 'HEI',\n",
              "        'url': 'http://en.wikipedia.org/wiki/Nick_Heidfeld',\n",
              "        'givenName': 'Nick',\n",
              "        'familyName': 'Heidfeld',\n",
              "        'dateOfBirth': '1977-05-10',\n",
              "        'nationality': 'German'},\n",
              "       'Constructors': [{'constructorId': 'bmw_sauber',\n",
              "         'url': 'http://en.wikipedia.org/wiki/BMW_Sauber',\n",
              "         'name': 'BMW Sauber',\n",
              "         'nationality': 'German'}]},\n",
              "      {'position': '6',\n",
              "       'positionText': '6',\n",
              "       'points': '14',\n",
              "       'wins': '0',\n",
              "       'Driver': {'driverId': 'kovalainen',\n",
              "        'code': 'KOV',\n",
              "        'url': 'http://en.wikipedia.org/wiki/Heikki_Kovalainen',\n",
              "        'givenName': 'Heikki',\n",
              "        'familyName': 'Kovalainen',\n",
              "        'dateOfBirth': '1981-10-19',\n",
              "        'nationality': 'Finnish'},\n",
              "       'Constructors': [{'constructorId': 'mclaren',\n",
              "         'url': 'http://en.wikipedia.org/wiki/McLaren',\n",
              "         'name': 'McLaren',\n",
              "         'nationality': 'British'}]},\n",
              "      {'position': '7',\n",
              "       'positionText': '7',\n",
              "       'points': '10',\n",
              "       'wins': '0',\n",
              "       'Driver': {'driverId': 'webber',\n",
              "        'code': 'WEB',\n",
              "        'url': 'http://en.wikipedia.org/wiki/Mark_Webber_(racing_driver)',\n",
              "        'givenName': 'Mark',\n",
              "        'familyName': 'Webber',\n",
              "        'dateOfBirth': '1976-08-27',\n",
              "        'nationality': 'Australian'},\n",
              "       'Constructors': [{'constructorId': 'red_bull',\n",
              "         'url': 'http://en.wikipedia.org/wiki/Red_Bull_Racing',\n",
              "         'name': 'Red Bull',\n",
              "         'nationality': 'Austrian'}]},\n",
              "      {'position': '8',\n",
              "       'positionText': '8',\n",
              "       'points': '9',\n",
              "       'wins': '0',\n",
              "       'Driver': {'driverId': 'alonso',\n",
              "        'permanentNumber': '14',\n",
              "        'code': 'ALO',\n",
              "        'url': 'http://en.wikipedia.org/wiki/Fernando_Alonso',\n",
              "        'givenName': 'Fernando',\n",
              "        'familyName': 'Alonso',\n",
              "        'dateOfBirth': '1981-07-29',\n",
              "        'nationality': 'Spanish'},\n",
              "       'Constructors': [{'constructorId': 'renault',\n",
              "         'url': 'http://en.wikipedia.org/wiki/Renault_in_Formula_One',\n",
              "         'name': 'Renault',\n",
              "         'nationality': 'French'}]},\n",
              "      {'position': '9',\n",
              "       'positionText': '9',\n",
              "       'points': '9',\n",
              "       'wins': '0',\n",
              "       'Driver': {'driverId': 'trulli',\n",
              "        'code': 'TRU',\n",
              "        'url': 'http://en.wikipedia.org/wiki/Jarno_Trulli',\n",
              "        'givenName': 'Jarno',\n",
              "        'familyName': 'Trulli',\n",
              "        'dateOfBirth': '1974-07-13',\n",
              "        'nationality': 'Italian'},\n",
              "       'Constructors': [{'constructorId': 'toyota',\n",
              "         'url': 'http://en.wikipedia.org/wiki/Toyota_Racing',\n",
              "         'name': 'Toyota',\n",
              "         'nationality': 'Japanese'}]},\n",
              "      {'position': '10',\n",
              "       'positionText': '10',\n",
              "       'points': '8',\n",
              "       'wins': '0',\n",
              "       'Driver': {'driverId': 'rosberg',\n",
              "        'permanentNumber': '6',\n",
              "        'code': 'ROS',\n",
              "        'url': 'http://en.wikipedia.org/wiki/Nico_Rosberg',\n",
              "        'givenName': 'Nico',\n",
              "        'familyName': 'Rosberg',\n",
              "        'dateOfBirth': '1985-06-27',\n",
              "        'nationality': 'German'},\n",
              "       'Constructors': [{'constructorId': 'williams',\n",
              "         'url': 'http://en.wikipedia.org/wiki/Williams_Grand_Prix_Engineering',\n",
              "         'name': 'Williams',\n",
              "         'nationality': 'British'}]},\n",
              "      {'position': '11',\n",
              "       'positionText': '11',\n",
              "       'points': '5',\n",
              "       'wins': '0',\n",
              "       'Driver': {'driverId': 'nakajima',\n",
              "        'code': 'NAK',\n",
              "        'url': 'http://en.wikipedia.org/wiki/Kazuki_Nakajima',\n",
              "        'givenName': 'Kazuki',\n",
              "        'familyName': 'Nakajima',\n",
              "        'dateOfBirth': '1985-01-11',\n",
              "        'nationality': 'Japanese'},\n",
              "       'Constructors': [{'constructorId': 'williams',\n",
              "         'url': 'http://en.wikipedia.org/wiki/Williams_Grand_Prix_Engineering',\n",
              "         'name': 'Williams',\n",
              "         'nationality': 'British'}]},\n",
              "      {'position': '12',\n",
              "       'positionText': '12',\n",
              "       'points': '3',\n",
              "       'wins': '0',\n",
              "       'Driver': {'driverId': 'button',\n",
              "        'permanentNumber': '22',\n",
              "        'code': 'BUT',\n",
              "        'url': 'http://en.wikipedia.org/wiki/Jenson_Button',\n",
              "        'givenName': 'Jenson',\n",
              "        'familyName': 'Button',\n",
              "        'dateOfBirth': '1980-01-19',\n",
              "        'nationality': 'British'},\n",
              "       'Constructors': [{'constructorId': 'honda',\n",
              "         'url': 'http://en.wikipedia.org/wiki/Honda_Racing_F1',\n",
              "         'name': 'Honda',\n",
              "         'nationality': 'Japanese'}]},\n",
              "      {'position': '13',\n",
              "       'positionText': '13',\n",
              "       'points': '2',\n",
              "       'wins': '0',\n",
              "       'Driver': {'driverId': 'bourdais',\n",
              "        'code': 'BOU',\n",
              "        'url': 'http://en.wikipedia.org/wiki/S%C3%A9bastien_Bourdais',\n",
              "        'givenName': 'Sébastien',\n",
              "        'familyName': 'Bourdais',\n",
              "        'dateOfBirth': '1979-02-28',\n",
              "        'nationality': 'French'},\n",
              "       'Constructors': [{'constructorId': 'toro_rosso',\n",
              "         'url': 'http://en.wikipedia.org/wiki/Scuderia_Toro_Rosso',\n",
              "         'name': 'Toro Rosso',\n",
              "         'nationality': 'Italian'}]},\n",
              "      {'position': '14',\n",
              "       'positionText': '14',\n",
              "       'points': '0',\n",
              "       'wins': '0',\n",
              "       'Driver': {'driverId': 'coulthard',\n",
              "        'code': 'COU',\n",
              "        'url': 'http://en.wikipedia.org/wiki/David_Coulthard',\n",
              "        'givenName': 'David',\n",
              "        'familyName': 'Coulthard',\n",
              "        'dateOfBirth': '1971-03-27',\n",
              "        'nationality': 'British'},\n",
              "       'Constructors': [{'constructorId': 'red_bull',\n",
              "         'url': 'http://en.wikipedia.org/wiki/Red_Bull_Racing',\n",
              "         'name': 'Red Bull',\n",
              "         'nationality': 'Austrian'}]},\n",
              "      {'position': '15',\n",
              "       'positionText': '15',\n",
              "       'points': '0',\n",
              "       'wins': '0',\n",
              "       'Driver': {'driverId': 'glock',\n",
              "        'code': 'GLO',\n",
              "        'url': 'http://en.wikipedia.org/wiki/Timo_Glock',\n",
              "        'givenName': 'Timo',\n",
              "        'familyName': 'Glock',\n",
              "        'dateOfBirth': '1982-03-18',\n",
              "        'nationality': 'German'},\n",
              "       'Constructors': [{'constructorId': 'toyota',\n",
              "         'url': 'http://en.wikipedia.org/wiki/Toyota_Racing',\n",
              "         'name': 'Toyota',\n",
              "         'nationality': 'Japanese'}]},\n",
              "      {'position': '16',\n",
              "       'positionText': '16',\n",
              "       'points': '0',\n",
              "       'wins': '0',\n",
              "       'Driver': {'driverId': 'fisichella',\n",
              "        'code': 'FIS',\n",
              "        'url': 'http://en.wikipedia.org/wiki/Giancarlo_Fisichella',\n",
              "        'givenName': 'Giancarlo',\n",
              "        'familyName': 'Fisichella',\n",
              "        'dateOfBirth': '1973-01-14',\n",
              "        'nationality': 'Italian'},\n",
              "       'Constructors': [{'constructorId': 'force_india',\n",
              "         'url': 'http://en.wikipedia.org/wiki/Racing_Point_Force_India',\n",
              "         'name': 'Force India',\n",
              "         'nationality': 'Indian'}]},\n",
              "      {'position': '17',\n",
              "       'positionText': '17',\n",
              "       'points': '0',\n",
              "       'wins': '0',\n",
              "       'Driver': {'driverId': 'barrichello',\n",
              "        'code': 'BAR',\n",
              "        'url': 'http://en.wikipedia.org/wiki/Rubens_Barrichello',\n",
              "        'givenName': 'Rubens',\n",
              "        'familyName': 'Barrichello',\n",
              "        'dateOfBirth': '1972-05-23',\n",
              "        'nationality': 'Brazilian'},\n",
              "       'Constructors': [{'constructorId': 'honda',\n",
              "         'url': 'http://en.wikipedia.org/wiki/Honda_Racing_F1',\n",
              "         'name': 'Honda',\n",
              "         'nationality': 'Japanese'}]},\n",
              "      {'position': '18',\n",
              "       'positionText': '18',\n",
              "       'points': '0',\n",
              "       'wins': '0',\n",
              "       'Driver': {'driverId': 'piquet_jr',\n",
              "        'code': 'PIQ',\n",
              "        'url': 'http://en.wikipedia.org/wiki/Nelson_Piquet,_Jr.',\n",
              "        'givenName': 'Nelson',\n",
              "        'familyName': 'Piquet Jr.',\n",
              "        'dateOfBirth': '1985-07-25',\n",
              "        'nationality': 'Brazilian'},\n",
              "       'Constructors': [{'constructorId': 'renault',\n",
              "         'url': 'http://en.wikipedia.org/wiki/Renault_in_Formula_One',\n",
              "         'name': 'Renault',\n",
              "         'nationality': 'French'}]},\n",
              "      {'position': '19',\n",
              "       'positionText': '19',\n",
              "       'points': '0',\n",
              "       'wins': '0',\n",
              "       'Driver': {'driverId': 'sato',\n",
              "        'code': 'SAT',\n",
              "        'url': 'http://en.wikipedia.org/wiki/Takuma_Sato',\n",
              "        'givenName': 'Takuma',\n",
              "        'familyName': 'Sato',\n",
              "        'dateOfBirth': '1977-01-28',\n",
              "        'nationality': 'Japanese'},\n",
              "       'Constructors': [{'constructorId': 'super_aguri',\n",
              "         'url': 'http://en.wikipedia.org/wiki/Super_Aguri_F1',\n",
              "         'name': 'Super Aguri',\n",
              "         'nationality': 'Japanese'}]},\n",
              "      {'position': '20',\n",
              "       'positionText': '20',\n",
              "       'points': '0',\n",
              "       'wins': '0',\n",
              "       'Driver': {'driverId': 'davidson',\n",
              "        'code': 'DAV',\n",
              "        'url': 'http://en.wikipedia.org/wiki/Anthony_Davidson',\n",
              "        'givenName': 'Anthony',\n",
              "        'familyName': 'Davidson',\n",
              "        'dateOfBirth': '1979-04-18',\n",
              "        'nationality': 'British'},\n",
              "       'Constructors': [{'constructorId': 'super_aguri',\n",
              "         'url': 'http://en.wikipedia.org/wiki/Super_Aguri_F1',\n",
              "         'name': 'Super Aguri',\n",
              "         'nationality': 'Japanese'}]},\n",
              "      {'position': '21',\n",
              "       'positionText': '21',\n",
              "       'points': '0',\n",
              "       'wins': '0',\n",
              "       'Driver': {'driverId': 'sutil',\n",
              "        'permanentNumber': '99',\n",
              "        'code': 'SUT',\n",
              "        'url': 'http://en.wikipedia.org/wiki/Adrian_Sutil',\n",
              "        'givenName': 'Adrian',\n",
              "        'familyName': 'Sutil',\n",
              "        'dateOfBirth': '1983-01-11',\n",
              "        'nationality': 'German'},\n",
              "       'Constructors': [{'constructorId': 'force_india',\n",
              "         'url': 'http://en.wikipedia.org/wiki/Racing_Point_Force_India',\n",
              "         'name': 'Force India',\n",
              "         'nationality': 'Indian'}]},\n",
              "      {'position': '22',\n",
              "       'positionText': '22',\n",
              "       'points': '0',\n",
              "       'wins': '0',\n",
              "       'Driver': {'driverId': 'vettel',\n",
              "        'permanentNumber': '5',\n",
              "        'code': 'VET',\n",
              "        'url': 'http://en.wikipedia.org/wiki/Sebastian_Vettel',\n",
              "        'givenName': 'Sebastian',\n",
              "        'familyName': 'Vettel',\n",
              "        'dateOfBirth': '1987-07-03',\n",
              "        'nationality': 'German'},\n",
              "       'Constructors': [{'constructorId': 'toro_rosso',\n",
              "         'url': 'http://en.wikipedia.org/wiki/Scuderia_Toro_Rosso',\n",
              "         'name': 'Toro Rosso',\n",
              "         'nationality': 'Italian'}]}]}]}}}"
            ]
          },
          "metadata": {},
          "execution_count": 6
        }
      ],
      "source": [
        "#view the response as a JSON\n",
        "response.json()"
      ]
    },
    {
      "cell_type": "code",
      "execution_count": 7,
      "id": "92e6cd2c",
      "metadata": {
        "id": "92e6cd2c",
        "colab": {
          "base_uri": "https://localhost:8080/"
        },
        "outputId": "38db23c5-e5b0-4cf9-80d6-f8caade9aa02"
      },
      "outputs": [
        {
          "output_type": "execute_result",
          "data": {
            "text/plain": [
              "dict"
            ]
          },
          "metadata": {},
          "execution_count": 7
        }
      ],
      "source": [
        "type(response.json())"
      ]
    },
    {
      "cell_type": "code",
      "execution_count": null,
      "id": "f074dfcf",
      "metadata": {
        "id": "f074dfcf"
      },
      "outputs": [],
      "source": [
        "# We only want the Driver Standings\n"
      ]
    },
    {
      "cell_type": "code",
      "execution_count": null,
      "id": "be46a950",
      "metadata": {
        "id": "be46a950"
      },
      "outputs": [],
      "source": []
    },
    {
      "cell_type": "code",
      "execution_count": null,
      "id": "3740c752",
      "metadata": {
        "id": "3740c752"
      },
      "outputs": [],
      "source": []
    },
    {
      "cell_type": "markdown",
      "id": "6d546014",
      "metadata": {
        "id": "6d546014"
      },
      "source": [
        "# <strong>Homework</strong>\n",
        "Retrieve a list of Pokemon's name, abilities, types, and weight from the PokeAPI\n",
        " https://pokeapi.co/\n",
        "\n",
        "Make 20 Pokemon\n",
        "\n",
        "Whenever you need to create a POKEMON, you need to construct your Pokemon through data from the API: https://pokeapi.co/\n",
        "\n",
        "Below is an example of how your Pokemon should be categorized by Type.\n",
        "Create a dictionary\n",
        "{\n",
        "<strong>'Fire'</strong>: {\n",
        "'charizard': {\n",
        "'abilities': [],\n",
        "'weight': ,\n",
        "},\n",
        "'ninetales': {\n",
        "'abilities': [],\n",
        "'weight': ,\n",
        "}\n",
        "},\n",
        "<strong>'Flying'</strong>:,\n",
        "<strong>'Water'</strong>:\n",
        "}\n",
        "\n",
        "Remember, it may be easier to write functions to do your dirty work, and then call them to execute each topic, rather than trying to write a monstrous spaghetti-script that does it all at once; it also might be very good to plan how you'll go about this and what functions you might use before you write 500 lines of code that confuse and befuddle all who lay eyes upon it. Including yourself. An immense portion of good coding is just planning.\n",
        "\n",
        "When you're done, create a GitHub repository for your assignment and save the repository link as the assignment."
      ]
    },
    {
      "cell_type": "code",
      "execution_count": null,
      "id": "5a9081e3",
      "metadata": {
        "id": "5a9081e3"
      },
      "outputs": [],
      "source": []
    }
  ],
  "metadata": {
    "kernelspec": {
      "display_name": "Python 3 (ipykernel)",
      "language": "python",
      "name": "python3"
    },
    "language_info": {
      "codemirror_mode": {
        "name": "ipython",
        "version": 3
      },
      "file_extension": ".py",
      "mimetype": "text/x-python",
      "name": "python",
      "nbconvert_exporter": "python",
      "pygments_lexer": "ipython3",
      "version": "3.9.13"
    },
    "colab": {
      "provenance": [],
      "include_colab_link": true
    }
  },
  "nbformat": 4,
  "nbformat_minor": 5
}