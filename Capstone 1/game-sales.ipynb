{
  "nbformat": 4,
  "nbformat_minor": 0,
  "metadata": {
    "colab": {
      "provenance": [],
      "authorship_tag": "ABX9TyPF8f8jJYOtNhWBuO9IZLre",
      "include_colab_link": true
    },
    "kernelspec": {
      "name": "python3",
      "display_name": "Python 3"
    },
    "language_info": {
      "name": "python"
    }
  },
  "cells": [
    {
      "cell_type": "markdown",
      "metadata": {
        "id": "view-in-github",
        "colab_type": "text"
      },
      "source": [
        "<a href=\"https://colab.research.google.com/github/somas1/CT/blob/main/Capstone%201/game-sales.ipynb\" target=\"_parent\"><img src=\"https://colab.research.google.com/assets/colab-badge.svg\" alt=\"Open In Colab\"/></a>"
      ]
    },
    {
      "cell_type": "code",
      "execution_count": null,
      "metadata": {
        "id": "JMbswV5-6i7V",
        "colab": {
          "base_uri": "https://localhost:8080/"
        },
        "outputId": "32e93aba-be18-4ff4-8f3b-4c7f9aa0faea"
      },
      "outputs": [
        {
          "output_type": "stream",
          "name": "stdout",
          "text": [
            "--2024-02-05 15:48:51--  https://github.com/somas1/CT/blob/main/Capstone%201/vgsales.csv\n",
            "Resolving github.com (github.com)... 140.82.114.4\n",
            "Connecting to github.com (github.com)|140.82.114.4|:443... connected.\n",
            "HTTP request sent, awaiting response... 200 OK\n",
            "Length: 6669 (6.5K) [text/plain]\n",
            "Saving to: ‘vgsales.csv’\n",
            "\n",
            "\rvgsales.csv           0%[                    ]       0  --.-KB/s               \rvgsales.csv         100%[===================>]   6.51K  --.-KB/s    in 0s      \n",
            "\n",
            "2024-02-05 15:48:51 (86.6 MB/s) - ‘vgsales.csv’ saved [6669/6669]\n",
            "\n"
          ]
        }
      ],
      "source": [
        "import pandas as pd\n",
        "import nuhttps://raw.githubusercontent.com/somas1/CT/main/Capstone%201/vgsales.csvmpy as np\n",
        "!wget"
      ]
    },
    {
      "cell_type": "code",
      "source": [
        "game_df = pd.read_csv('vgsales.csv')\n",
        "game_df.head()"
      ],
      "metadata": {
        "id": "srEVOeyi7nzd",
        "outputId": "f5685553-e2f1-4e51-8eb3-e1f56d851053",
        "colab": {
          "base_uri": "https://localhost:8080/",
          "height": 132
        }
      },
      "execution_count": 9,
      "outputs": [
        {
          "output_type": "execute_result",
          "data": {
            "text/plain": [
              "Empty DataFrame\n",
              "Columns: [{\"payload\":{\"allShortcutsEnabled\":false, fileTree:{\"Capstone 1\":{\"items\":[{\"name\":\".gitkeep\", path:\"Capstone 1/.gitkeep\", contentType:\"file\"}, {\"name\":\"IHME_GBD_2010_MORTALITY_AGE_SPECIFIC_BY_COUNTRY_1970_2010.csv\", path:\"Capstone 1/IHME_GBD_2010_MORTALITY_AGE_SPECIFIC_BY_COUNTRY_1970_2010.csv\", contentType:\"file\"}.1, {\"name\":\"game-sales.ipynb\", path:\"Capstone 1/game-sales.ipynb\", contentType:\"file\"}.2, {\"name\":\"vgsales.csv\", path:\"Capstone 1/vgsales.csv\", contentType:\"file\"}.3, {\"name\":\"vgsales.csv.zip\", path:\"Capstone 1/vgsales.csv.zip\", contentType:\"file\"}], totalCount:5}, :{\"items\":[{\"name\":\".ipynb_checkpoints 2\", path:\".ipynb_checkpoints 2\", contentType:\"directory\"}, {\"name\":\".ipynb_checkpoints\", path:\".ipynb_checkpoints\", contentType:\"directory\"}.1, {\"name\":\"APIs\", path:\"APIs\", contentType:\"directory\"}.2, {\"name\":\"Capstone 1\", path:\"Capstone 1\", contentType:\"directory\"}.3, {\"name\":\"Excel-Homework\", path:\"Excel-Homework\", contentType:\"directory\"}.4, {\"name\":\"Lambda\", path:\"Lambda\", contentType:\"directory\"}.5, {\"name\":\"Matplotlib\", path:\"Matplotlib\", contentType:\"directory\"}.6, {\"name\":\"NBA_PANDAS\", path:\"NBA_PANDAS\", contentType:\"directory\"}.7, {\"name\":\"Numpy\", path:\"Numpy\", contentType:\"directory\"}.8, {\"name\":\"OOP\", path:\"OOP\", contentType:\"directory\"}.9, {\"name\":\"Pandas\", path:\"Pandas\", contentType:\"directory\"}.10, {\"name\":\"Prework Homework\", path:\"Prework Homework\", contentType:\"directory\"}.11, {\"name\":\"R\", path:\"R\", contentType:\"directory\"}.12, {\"name\":\"RegEx\", path:\"RegEx\", contentType:\"directory\"}.13, {\"name\":\"SQL-Car-Dealership\", path:\"SQL-Car-Dealership\", contentType:\"directory\"}.14, {\"name\":\"SQL-Homework-3\", path:\"SQL-Homework-3\", contentType:\"directory\"}.15, {\"name\":\"SQL-Homework\", path:\"SQL-Homework\", contentType:\"directory\"}.16, {\"name\":\"Shell-Scripting\", path:\"Shell-Scripting\", contentType:\"directory\"}.17, {\"name\":\"Spaceship Titanic\", path:\"Spaceship Titanic\", contentType:\"directory\"}.18, {\"name\":\"Tableau\", path:\"Tableau\", contentType:\"directory\"}.19, {\"name\":\"Week\", path:\"Week\", contentType:\"directory\"}.20, {\"name\":\"Week2\", path:\"Week2\", contentType:\"directory\"}.21, {\"name\":\"Cheat Sheet.xlsx\", path:\"Cheat Sheet.xlsx\", contentType:\"file\"}.4, {\"name\":\"Monday_Lesson_Inclass_Lecture_Updated_Lecture_(1).ipynb\", path:\"Monday_Lesson_Inclass_Lecture_Updated_Lecture_(1).ipynb\", contentType:\"file\"}.5, {\"name\":\"Parking_Garage_Project.ipynb\", path:\"Parking_Garage_Project.ipynb\", contentType:\"file\"}.6, {\"name\":\"SQL-1.sql\", path:\"SQL-1.sql\", contentType:\"file\"}.7, {\"name\":\"Tuesday_Lesson_Inclass_Updated_Lecture_Updated2021_(1).ipynb\", path:\"Tuesday_Lesson_Inclass_Updated_Lecture_Updated2021_(1).ipynb\", contentType:\"file\"}.8, {\"name\":\"Wednesday_Lesson_Inclass_Updated_Lecture_Updated2021_(1).ipynb\", path:\"Wednesday_Lesson_Inclass_Updated_Lecture_Updated2021_(1).ipynb\", ...]\n",
              "Index: []\n",
              "\n",
              "[0 rows x 209 columns]"
            ],
            "text/html": [
              "\n",
              "  <div id=\"df-e28c816b-9527-442b-869f-9bbdc5a1019b\" class=\"colab-df-container\">\n",
              "    <div>\n",
              "<style scoped>\n",
              "    .dataframe tbody tr th:only-of-type {\n",
              "        vertical-align: middle;\n",
              "    }\n",
              "\n",
              "    .dataframe tbody tr th {\n",
              "        vertical-align: top;\n",
              "    }\n",
              "\n",
              "    .dataframe thead th {\n",
              "        text-align: right;\n",
              "    }\n",
              "</style>\n",
              "<table border=\"1\" class=\"dataframe\">\n",
              "  <thead>\n",
              "    <tr style=\"text-align: right;\">\n",
              "      <th></th>\n",
              "      <th>{\"payload\":{\"allShortcutsEnabled\":false</th>\n",
              "      <th>fileTree:{\"Capstone 1\":{\"items\":[{\"name\":\".gitkeep\"</th>\n",
              "      <th>path:\"Capstone 1/.gitkeep\"</th>\n",
              "      <th>contentType:\"file\"}</th>\n",
              "      <th>{\"name\":\"IHME_GBD_2010_MORTALITY_AGE_SPECIFIC_BY_COUNTRY_1970_2010.csv\"</th>\n",
              "      <th>path:\"Capstone 1/IHME_GBD_2010_MORTALITY_AGE_SPECIFIC_BY_COUNTRY_1970_2010.csv\"</th>\n",
              "      <th>contentType:\"file\"}.1</th>\n",
              "      <th>{\"name\":\"game-sales.ipynb\"</th>\n",
              "      <th>path:\"Capstone 1/game-sales.ipynb\"</th>\n",
              "      <th>contentType:\"file\"}.2</th>\n",
              "      <th>...</th>\n",
              "      <th>not_analyzed:true</th>\n",
              "      <th>symbols:[]</th>\n",
              "      <th>error:{\"code\":\"invalid_argument\"</th>\n",
              "      <th>msg:\"content required\"</th>\n",
              "      <th>meta:{}}}}</th>\n",
              "      <th>copilotInfo:null</th>\n",
              "      <th>copilotAccessAllowed:false</th>\n",
              "      <th>csrf_tokens:{\"/somas1/CT/branches\":{\"post\":\"m20xVlCWqHuACPWmiQyJCkw82CBWQojOP5ONrZDA1zcoRtvcvw66akKQW9zXGtueHVJ_OT2ib-0nFbj9Ve7DHg\"}</th>\n",
              "      <th>/repos/preferences:{\"post\":\"IhUTk2L_Ny8OMNAeCKO5jYUuiOOLeLsFo_pBl5yFMUSvAwsIH6ZrEi-nuIf_L7uALToNBBDwvimUaaEb1ZHEMg\"}}}</th>\n",
              "      <th>title:\"CT/Capstone 1/vgsales.csv at main · somas1/CT\"}</th>\n",
              "    </tr>\n",
              "  </thead>\n",
              "  <tbody>\n",
              "  </tbody>\n",
              "</table>\n",
              "<p>0 rows × 209 columns</p>\n",
              "</div>\n",
              "    <div class=\"colab-df-buttons\">\n",
              "\n",
              "  <div class=\"colab-df-container\">\n",
              "    <button class=\"colab-df-convert\" onclick=\"convertToInteractive('df-e28c816b-9527-442b-869f-9bbdc5a1019b')\"\n",
              "            title=\"Convert this dataframe to an interactive table.\"\n",
              "            style=\"display:none;\">\n",
              "\n",
              "  <svg xmlns=\"http://www.w3.org/2000/svg\" height=\"24px\" viewBox=\"0 -960 960 960\">\n",
              "    <path d=\"M120-120v-720h720v720H120Zm60-500h600v-160H180v160Zm220 220h160v-160H400v160Zm0 220h160v-160H400v160ZM180-400h160v-160H180v160Zm440 0h160v-160H620v160ZM180-180h160v-160H180v160Zm440 0h160v-160H620v160Z\"/>\n",
              "  </svg>\n",
              "    </button>\n",
              "\n",
              "  <style>\n",
              "    .colab-df-container {\n",
              "      display:flex;\n",
              "      gap: 12px;\n",
              "    }\n",
              "\n",
              "    .colab-df-convert {\n",
              "      background-color: #E8F0FE;\n",
              "      border: none;\n",
              "      border-radius: 50%;\n",
              "      cursor: pointer;\n",
              "      display: none;\n",
              "      fill: #1967D2;\n",
              "      height: 32px;\n",
              "      padding: 0 0 0 0;\n",
              "      width: 32px;\n",
              "    }\n",
              "\n",
              "    .colab-df-convert:hover {\n",
              "      background-color: #E2EBFA;\n",
              "      box-shadow: 0px 1px 2px rgba(60, 64, 67, 0.3), 0px 1px 3px 1px rgba(60, 64, 67, 0.15);\n",
              "      fill: #174EA6;\n",
              "    }\n",
              "\n",
              "    .colab-df-buttons div {\n",
              "      margin-bottom: 4px;\n",
              "    }\n",
              "\n",
              "    [theme=dark] .colab-df-convert {\n",
              "      background-color: #3B4455;\n",
              "      fill: #D2E3FC;\n",
              "    }\n",
              "\n",
              "    [theme=dark] .colab-df-convert:hover {\n",
              "      background-color: #434B5C;\n",
              "      box-shadow: 0px 1px 3px 1px rgba(0, 0, 0, 0.15);\n",
              "      filter: drop-shadow(0px 1px 2px rgba(0, 0, 0, 0.3));\n",
              "      fill: #FFFFFF;\n",
              "    }\n",
              "  </style>\n",
              "\n",
              "    <script>\n",
              "      const buttonEl =\n",
              "        document.querySelector('#df-e28c816b-9527-442b-869f-9bbdc5a1019b button.colab-df-convert');\n",
              "      buttonEl.style.display =\n",
              "        google.colab.kernel.accessAllowed ? 'block' : 'none';\n",
              "\n",
              "      async function convertToInteractive(key) {\n",
              "        const element = document.querySelector('#df-e28c816b-9527-442b-869f-9bbdc5a1019b');\n",
              "        const dataTable =\n",
              "          await google.colab.kernel.invokeFunction('convertToInteractive',\n",
              "                                                    [key], {});\n",
              "        if (!dataTable) return;\n",
              "\n",
              "        const docLinkHtml = 'Like what you see? Visit the ' +\n",
              "          '<a target=\"_blank\" href=https://colab.research.google.com/notebooks/data_table.ipynb>data table notebook</a>'\n",
              "          + ' to learn more about interactive tables.';\n",
              "        element.innerHTML = '';\n",
              "        dataTable['output_type'] = 'display_data';\n",
              "        await google.colab.output.renderOutput(dataTable, element);\n",
              "        const docLink = document.createElement('div');\n",
              "        docLink.innerHTML = docLinkHtml;\n",
              "        element.appendChild(docLink);\n",
              "      }\n",
              "    </script>\n",
              "  </div>\n",
              "\n",
              "\n",
              "    </div>\n",
              "  </div>\n"
            ]
          },
          "metadata": {},
          "execution_count": 9
        }
      ]
    }
  ]
}