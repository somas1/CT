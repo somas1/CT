{
  "nbformat": 4,
  "nbformat_minor": 0,
  "metadata": {
    "colab": {
      "provenance": [],
      "authorship_tag": "ABX9TyO5IYMj7hSTWqRikjjMTmob",
      "include_colab_link": true
    },
    "kernelspec": {
      "name": "python3",
      "display_name": "Python 3"
    },
    "language_info": {
      "name": "python"
    }
  },
  "cells": [
    {
      "cell_type": "markdown",
      "metadata": {
        "id": "view-in-github",
        "colab_type": "text"
      },
      "source": [
        "<a href=\"https://colab.research.google.com/github/somas1/CT/blob/main/Capstone%201/game-sales.ipynb\" target=\"_parent\"><img src=\"https://colab.research.google.com/assets/colab-badge.svg\" alt=\"Open In Colab\"/></a>"
      ]
    },
    {
      "cell_type": "code",
      "execution_count": 6,
      "metadata": {
        "id": "JMbswV5-6i7V",
        "colab": {
          "base_uri": "https://localhost:8080/"
        },
        "outputId": "32e93aba-be18-4ff4-8f3b-4c7f9aa0faea"
      },
      "outputs": [
        {
          "output_type": "stream",
          "name": "stdout",
          "text": [
            "--2024-02-05 15:48:51--  https://github.com/somas1/CT/blob/main/Capstone%201/vgsales.csv\n",
            "Resolving github.com (github.com)... 140.82.114.4\n",
            "Connecting to github.com (github.com)|140.82.114.4|:443... connected.\n",
            "HTTP request sent, awaiting response... 200 OK\n",
            "Length: 6669 (6.5K) [text/plain]\n",
            "Saving to: ‘vgsales.csv’\n",
            "\n",
            "\rvgsales.csv           0%[                    ]       0  --.-KB/s               \rvgsales.csv         100%[===================>]   6.51K  --.-KB/s    in 0s      \n",
            "\n",
            "2024-02-05 15:48:51 (86.6 MB/s) - ‘vgsales.csv’ saved [6669/6669]\n",
            "\n"
          ]
        }
      ],
      "source": [
        "import pandas as pd\n",
        "import numpy as np\n",
        "!wget https://github.com/somas1/CT/blob/main/Capstone%201/vgsales.csv"
      ]
    },
    {
      "cell_type": "code",
      "source": [],
      "metadata": {
        "id": "srEVOeyi7nzd"
      },
      "execution_count": null,
      "outputs": []
    }
  ]
}