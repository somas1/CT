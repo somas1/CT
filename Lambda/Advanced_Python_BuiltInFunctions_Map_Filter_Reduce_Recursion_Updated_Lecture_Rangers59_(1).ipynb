{
  "cells": [
    {
      "cell_type": "markdown",
      "metadata": {
        "id": "view-in-github",
        "colab_type": "text"
      },
      "source": [
        "<a href=\"https://colab.research.google.com/github/somas1/CT/blob/main/Lambda/Advanced_Python_BuiltInFunctions_Map_Filter_Reduce_Recursion_Updated_Lecture_Rangers59_(1).ipynb\" target=\"_parent\"><img src=\"https://colab.research.google.com/assets/colab-badge.svg\" alt=\"Open In Colab\"/></a>"
      ]
    },
    {
      "cell_type": "markdown",
      "metadata": {
        "id": "csLZ8a9gcKe9"
      },
      "source": [
        "# Map, Filter, Reduce, Lambda & Recursion"
      ]
    },
    {
      "cell_type": "markdown",
      "metadata": {
        "id": "ZtvmFk_zcKe-"
      },
      "source": [
        "## Tasks Today:\n",
        "\n",
        "1) <b>Lambda Functions</b> <br>\n",
        " &nbsp;&nbsp;&nbsp;&nbsp; a) Syntax <br>\n",
        " &nbsp;&nbsp;&nbsp;&nbsp; b) Saving to a Variable <br>\n",
        " &nbsp;&nbsp;&nbsp;&nbsp; c) Multiple Inputs <br>\n",
        " &nbsp;&nbsp;&nbsp;&nbsp; d) Passing a Lambda into a Function <br>\n",
        " &nbsp;&nbsp;&nbsp;&nbsp; e) Returning a Lambda from a Function <br>\n",
        " &nbsp;&nbsp;&nbsp;&nbsp; f) In-Class Exercise #1 <br>\n",
        "2) <b>Map</b> <br>\n",
        " &nbsp;&nbsp;&nbsp;&nbsp; a) Syntax <br>\n",
        " &nbsp;&nbsp;&nbsp;&nbsp; b) Using Lambda's with Map <br>\n",
        " &nbsp;&nbsp;&nbsp;&nbsp; c) In-Class Exercise #2 <br>\n",
        "3) <b>Filter</b> <br>\n",
        " &nbsp;&nbsp;&nbsp;&nbsp; a) Syntax <br>\n",
        " &nbsp;&nbsp;&nbsp;&nbsp; b) Using Lambda's with Filter <br>\n",
        " &nbsp;&nbsp;&nbsp;&nbsp; c) In-Class Exercise #3 <br>\n",
        "4) <b>Reduce</b> <br>\n",
        " &nbsp;&nbsp;&nbsp;&nbsp; a) Syntax <br>\n",
        " &nbsp;&nbsp;&nbsp;&nbsp; b) Using Lambda's with Reduce <br>\n",
        " &nbsp;&nbsp;&nbsp;&nbsp; c) In-Class Exercise #4 <br>\n",
        "5) <b>Recursion</b> <br>\n",
        " &nbsp;&nbsp;&nbsp;&nbsp; a) Implementing a Base <br>\n",
        " &nbsp;&nbsp;&nbsp;&nbsp; b) Writing a Factorial Function <br>\n",
        " &nbsp;&nbsp;&nbsp;&nbsp; c) In-Class Exercise #5 <br>\n",
        "6) <b>Generators & Iterators</b> <br>\n",
        " &nbsp;&nbsp;&nbsp;&nbsp; a) Yield Keyword <br>\n",
        " &nbsp;&nbsp;&nbsp;&nbsp; b) Inifinite Generator <br>\n",
        " &nbsp;&nbsp;&nbsp;&nbsp; c) In-Class Exercise #6 <br>\n",
        "7) <b>Exercises</b> <br>\n",
        " &nbsp;&nbsp;&nbsp;&nbsp; a) Exercise #1 - Filtering Empty Strings <br>\n",
        " &nbsp;&nbsp;&nbsp;&nbsp; b) Exercise #2 - Sorting with Last Name <br>\n",
        " &nbsp;&nbsp;&nbsp;&nbsp; c) Exercise #3 - Conversion to Farhenheit <br>\n",
        " &nbsp;&nbsp;&nbsp;&nbsp; d) Exercise #4 - Fibonacci Sequence <br>"
      ]
    },
    {
      "cell_type": "markdown",
      "metadata": {
        "id": "KE_WYK91cKe_"
      },
      "source": [
        "## Lambda Functions <br>\n",
        "<p>Lambda functions... or \"Anonymous Functions\" are referring to inline functions with no name. The keyword lambda denotes the no name function, and executes within a single line. Without saving it to a variable; however, it is not able to be used, unless passed in either as a paramater or within list comprehension.<br>Written as \"((keyword lambda) (one or more inputs) (colon) (function to be executed))(value to pass in to the lambda)\"</p>"
      ]
    },
    {
      "cell_type": "markdown",
      "metadata": {
        "id": "ma1FIYjTcKfA"
      },
      "source": [
        "#### Syntax"
      ]
    },
    {
      "cell_type": "code",
      "execution_count": 3,
      "metadata": {
        "id": "TGCI6XdCcKfA",
        "colab": {
          "base_uri": "https://localhost:8080/"
        },
        "outputId": "3beb982f-d796-4b77-8bee-3c7978235660"
      },
      "outputs": [
        {
          "output_type": "stream",
          "name": "stdout",
          "text": [
            "6\n",
            "6\n"
          ]
        }
      ],
      "source": [
        "# Traditional function syntax\n",
        "def addTwo(x):\n",
        "  return x + 2\n",
        "\n",
        "print(addTwo(4))\n",
        "\n",
        "# Lambda function syntax\n",
        "a_var = 4\n",
        "print((lambda x: x +2)(a_var))"
      ]
    },
    {
      "cell_type": "markdown",
      "metadata": {
        "id": "AvGzlN_KcKfB"
      },
      "source": [
        "#### Saving to a Variable"
      ]
    },
    {
      "cell_type": "code",
      "execution_count": 4,
      "metadata": {
        "id": "wjpV-Dr4cKfB",
        "colab": {
          "base_uri": "https://localhost:8080/"
        },
        "outputId": "ac054b6c-36bd-4351-8fb9-9f474dbe3a9f"
      },
      "outputs": [
        {
          "output_type": "execute_result",
          "data": {
            "text/plain": [
              "6"
            ]
          },
          "metadata": {},
          "execution_count": 4
        }
      ],
      "source": [
        "f_test = lambda x: x +2\n",
        "f_test(4)"
      ]
    },
    {
      "cell_type": "markdown",
      "metadata": {
        "id": "tzmC-FDTcKfB"
      },
      "source": [
        "#### Multiple Inputs"
      ]
    },
    {
      "cell_type": "code",
      "execution_count": 6,
      "metadata": {
        "id": "nFLupMvBcKfB",
        "colab": {
          "base_uri": "https://localhost:8080/"
        },
        "outputId": "f1943a38-a0e5-4429-d0b5-70569f322165"
      },
      "outputs": [
        {
          "output_type": "stream",
          "name": "stdout",
          "text": [
            "120\n",
            "120\n"
          ]
        }
      ],
      "source": [
        "# Multiple Inputs with no variable\n",
        "print((lambda x,y,z: x * y * z)(3,5,8))\n",
        "\n",
        "x_test = lambda x,y,z: x * y * z\n",
        "print(x_test(3,5,8))"
      ]
    },
    {
      "cell_type": "markdown",
      "metadata": {
        "id": "SIRauzzrcKfB"
      },
      "source": [
        "#### Passing a Lambda into a Function"
      ]
    },
    {
      "cell_type": "code",
      "execution_count": 8,
      "metadata": {
        "id": "iDMkiXARcKfC",
        "colab": {
          "base_uri": "https://localhost:8080/"
        },
        "outputId": "f9235ebf-a569-48ff-b528-8d245d945e7b"
      },
      "outputs": [
        {
          "output_type": "execute_result",
          "data": {
            "text/plain": [
              "25"
            ]
          },
          "metadata": {},
          "execution_count": 8
        }
      ],
      "source": [
        "def multiply(f, num):\n",
        "  '''\n",
        "  f expects a lambda function\n",
        "  num expects a number\n",
        "  '''\n",
        "  return f(num)\n",
        "multiply(lambda x: x * x, 4)\n",
        "multiply(lambda x: x * x, 5)"
      ]
    },
    {
      "cell_type": "markdown",
      "metadata": {
        "id": "UoN8mrVlcKfC"
      },
      "source": [
        "#### Returning a Lambda from a Function"
      ]
    },
    {
      "cell_type": "code",
      "execution_count": 19,
      "metadata": {
        "id": "dVFwNNHWcKfC",
        "colab": {
          "base_uri": "https://localhost:8080/"
        },
        "outputId": "bf0eab60-20f2-4fa5-af00-5c5ee528086d"
      },
      "outputs": [
        {
          "output_type": "stream",
          "name": "stdout",
          "text": [
            "<function returnFunc at 0x7e14a38c4e50>\n",
            "8\n",
            "19\n",
            "16\n"
          ]
        }
      ],
      "source": [
        "# Normal defined function\n",
        "def multiply_test(num):\n",
        "  return num * 4\n",
        "\n",
        "# Function within a function\n",
        "def returnFunc():\n",
        "  test = 4\n",
        "  def multiply(num):\n",
        "    return num * 2\n",
        "  return multiply\n",
        "\n",
        "f_return = returnFunc()\n",
        "print(returnFunc)\n",
        "print(f_return(4))\n",
        "\n",
        "# Lambda function return from a regular function\n",
        "def returnLam(b,c):\n",
        "  return lambda x,a: x + a + b + c\n",
        "r_lamb = returnLam(4,5)\n",
        "print(r_lamb(5,5))\n",
        "print(r_lamb(3,4))\n"
      ]
    },
    {
      "cell_type": "markdown",
      "metadata": {
        "id": "3gXwFMJncKfC"
      },
      "source": [
        "#### If Statements within Lambdas"
      ]
    },
    {
      "cell_type": "code",
      "execution_count": 22,
      "metadata": {
        "id": "L-HNpJ06cKfD",
        "colab": {
          "base_uri": "https://localhost:8080/"
        },
        "outputId": "03440cea-09b9-41ca-caca-9aac308d7384"
      },
      "outputs": [
        {
          "output_type": "stream",
          "name": "stdout",
          "text": [
            "10\n",
            "36\n"
          ]
        }
      ],
      "source": [
        "# Lambda x: True if (condition) else False\n",
        "f_condition = lambda num : num * 2 if num > 10 else num + 2\n",
        "\n",
        "print(f_condition(8))\n",
        "print(f_condition(18))"
      ]
    },
    {
      "cell_type": "markdown",
      "metadata": {
        "id": "gd5s3BrFcKfD"
      },
      "source": [
        "#### In-Class Exercise #1 <br>\n",
        "<p>Write an anonymous function that cubes the arguments passed in and assign the anonymous function to a variable 'f'.</p>"
      ]
    },
    {
      "cell_type": "code",
      "execution_count": 25,
      "metadata": {
        "id": "dQz-WxducKfD",
        "colab": {
          "base_uri": "https://localhost:8080/"
        },
        "outputId": "d9e235b2-282e-446b-b90f-8ec955639939"
      },
      "outputs": [
        {
          "output_type": "execute_result",
          "data": {
            "text/plain": [
              "125"
            ]
          },
          "metadata": {},
          "execution_count": 25
        }
      ],
      "source": [
        "f = (lambda x: x * x * x)\n",
        "f(2)\n",
        "f(3)\n",
        "f(5)"
      ]
    },
    {
      "cell_type": "markdown",
      "metadata": {
        "id": "9F0D8UIwcKfD"
      },
      "source": [
        "## Map <br>\n",
        "<p>The map function allows you to iterate over an entire list while running a function on each item of the list. This is why the map function works well with lambda's, because it simplifies things and you write less lines of code.<br>The syntax for a map function is \"map(function to be used, list to be used)\"<br>However, you must be careful, as the map function returns a map object, not a list. To turn it into a list we use the list() type conversion.</p>"
      ]
    },
    {
      "cell_type": "markdown",
      "metadata": {
        "id": "hwvZnzDpcKfD"
      },
      "source": [
        "#### Syntax"
      ]
    },
    {
      "cell_type": "code",
      "execution_count": 29,
      "metadata": {
        "id": "sGLtodEEcKfE",
        "colab": {
          "base_uri": "https://localhost:8080/"
        },
        "outputId": "4c30693b-87f1-4e39-fbd2-381ddc574581"
      },
      "outputs": [
        {
          "output_type": "stream",
          "name": "stdout",
          "text": [
            "[(16, 16), (11, 10), (20, 3), (9, 4), (15, 6)]\n"
          ]
        }
      ],
      "source": [
        "# map(function, iterable)\n",
        "# an iterable is something you can loop over; such a list, tuple, set or string\n",
        "# Normally, the usage of map happens with a pre-defined function, but we can use lambdas as well.\n",
        "\n",
        "def squared(num, num2):\n",
        "  if num < 10 and num2 < 10:\n",
        "    return num ** 2, num2 ** 2\n",
        "  else:\n",
        "    return num, num2\n",
        "\n",
        "numbers = [4, 11, 20, 3, 15, 20]\n",
        "more_nums = [4, 10, 3, 2, 6]\n",
        "\n",
        "squared_nums_map = list(map(squared, numbers, more_nums))\n",
        "print(squared_nums_map)\n",
        "\n"
      ]
    },
    {
      "cell_type": "markdown",
      "metadata": {
        "id": "Xh9kSIqwcKfE"
      },
      "source": [
        "#### Using Lambda's with Map"
      ]
    },
    {
      "cell_type": "code",
      "execution_count": 31,
      "metadata": {
        "id": "70ceetcbcKfE",
        "colab": {
          "base_uri": "https://localhost:8080/"
        },
        "outputId": "d58d4f54-d1b7-4128-cc07-46914fe7b2a8"
      },
      "outputs": [
        {
          "output_type": "stream",
          "name": "stdout",
          "text": [
            "[(16, 16), (11, 10), (20, 3), (9, 4), (15, 6)]\n"
          ]
        }
      ],
      "source": [
        "# map(lambda x: do something, iterable)\n",
        "# using lambda in map usually all takes place on one line\n",
        "squared_nums_lamb = list(map(lambda x, y: (x ** 2, y ** 2) if x < 10 and y < 10 else (x,y), numbers, more_nums))\n",
        "print(squared_nums_lamb)"
      ]
    },
    {
      "cell_type": "markdown",
      "metadata": {
        "id": "0WRUE0TMcKfE"
      },
      "source": [
        "#### In-Class Exercise #2 <br>\n",
        "<p>Use the map function to double each number and minus it by one in the list by using a lambda function</p>"
      ]
    },
    {
      "cell_type": "code",
      "execution_count": 35,
      "metadata": {
        "id": "29pP4y9zcKfE",
        "colab": {
          "base_uri": "https://localhost:8080/"
        },
        "outputId": "4f44a56c-ed98-4d76-f583-40170240d136"
      },
      "outputs": [
        {
          "output_type": "stream",
          "name": "stdout",
          "text": [
            "[4, 11, 20, 3, 15, 20]\n",
            "[7, 21, 39, 5, 29, 39]\n"
          ]
        }
      ],
      "source": [
        "doubled_minus_one = list(map(lambda x: (x*2 - 1), numbers))\n",
        "print(numbers)\n",
        "print(doubled_minus_one)"
      ]
    },
    {
      "cell_type": "markdown",
      "metadata": {
        "id": "1jzOgmn7cKfE"
      },
      "source": [
        "## Filter() <br>\n",
        "<p>Filter's are similar to the map function, where you're able to pass a function argument and a list argument and filter out something from the list based on the conditions passed. Similar to the map function, it returns a filter object, so you need to type convert it to a list()</p>"
      ]
    },
    {
      "cell_type": "markdown",
      "metadata": {
        "id": "el5pxDTpcKfF"
      },
      "source": [
        "#### Syntax"
      ]
    },
    {
      "cell_type": "code",
      "execution_count": null,
      "metadata": {
        "id": "7U93TRmLcKfF"
      },
      "outputs": [],
      "source": []
    },
    {
      "cell_type": "markdown",
      "metadata": {
        "id": "-O9_CqFycKfF"
      },
      "source": [
        "#### Using Lambda's with Filter()"
      ]
    },
    {
      "cell_type": "code",
      "execution_count": null,
      "metadata": {
        "id": "9SIHWKfecKfF"
      },
      "outputs": [],
      "source": []
    },
    {
      "cell_type": "markdown",
      "metadata": {
        "id": "gI92D4GbcKfG"
      },
      "source": [
        "#### In-Class Exercise #3 <br>\n",
        "<p>Filter out all the numbers that are below the mean of the list.<br><b>Hint: Import the 'statistics' module</b></p>"
      ]
    },
    {
      "cell_type": "code",
      "execution_count": null,
      "metadata": {
        "id": "oiltAp8ycKfG"
      },
      "outputs": [],
      "source": []
    },
    {
      "cell_type": "markdown",
      "metadata": {
        "id": "qVImxP77cKfG"
      },
      "source": [
        "## Reduce() <br>\n",
        "<p>Be very careful when using this function, as of Python 3 it's been moved to the 'functools' library and no longer is a built-in function.<br>The creator of Python himself, says to just use a for loop instead.</p>"
      ]
    },
    {
      "cell_type": "markdown",
      "metadata": {
        "id": "ejmY56jXcKfG"
      },
      "source": [
        "#### Syntax"
      ]
    },
    {
      "cell_type": "code",
      "execution_count": null,
      "metadata": {
        "id": "YRX6zRB2cKfG"
      },
      "outputs": [],
      "source": []
    },
    {
      "cell_type": "markdown",
      "metadata": {
        "id": "MYTym1eDcKfG"
      },
      "source": [
        "#### Using Lambda's with Reduce()"
      ]
    },
    {
      "cell_type": "code",
      "execution_count": null,
      "metadata": {
        "id": "qwrc3CQ_cKfG"
      },
      "outputs": [],
      "source": []
    },
    {
      "cell_type": "markdown",
      "metadata": {
        "id": "QDVFrOApcKfG"
      },
      "source": [
        "#### In-Class Exercise #4 <br>\n",
        "<p>Use the reduce function to multiply the numbers in the list below together with a lambda function.</p>"
      ]
    },
    {
      "cell_type": "code",
      "execution_count": null,
      "metadata": {
        "id": "MAyTjv8hcKfH"
      },
      "outputs": [],
      "source": []
    },
    {
      "cell_type": "markdown",
      "metadata": {
        "id": "Gd0kfp-ncKfH"
      },
      "source": [
        "## Recursion <br>\n",
        "<p>Recursion means that a function is calling itself, so it contanstly executes until a base case is reached. It will then push the returning values back up the chain until the function is complete. A prime example of recursion is computing factorials... such that 5! (factorial) is 5*4*3*2*1 which equals 120.</p>"
      ]
    },
    {
      "cell_type": "markdown",
      "metadata": {
        "id": "kqGuEKD_cKfH"
      },
      "source": [
        "#### Implementing a Base Case"
      ]
    },
    {
      "cell_type": "code",
      "execution_count": null,
      "metadata": {
        "id": "iAMMOoKXcKfH"
      },
      "outputs": [],
      "source": []
    },
    {
      "cell_type": "markdown",
      "metadata": {
        "id": "GAyyj6KPcKfH"
      },
      "source": [
        "#### Writing a Factorial Function"
      ]
    },
    {
      "cell_type": "code",
      "execution_count": null,
      "metadata": {
        "id": "tsxP_dV_cKfH"
      },
      "outputs": [],
      "source": []
    },
    {
      "cell_type": "markdown",
      "metadata": {
        "id": "c19NdwLccKfH"
      },
      "source": [
        "#### In-Class Exercise #5 <br>\n",
        "<p>Write a recursive function that subtracts all numbers to the argument given.</p>"
      ]
    },
    {
      "cell_type": "code",
      "execution_count": null,
      "metadata": {
        "id": "yGIsY4JVcKfI"
      },
      "outputs": [],
      "source": []
    },
    {
      "cell_type": "markdown",
      "metadata": {
        "id": "IG6H7sjLcKfI"
      },
      "source": [
        "## Generators <br>\n",
        "<p>Generators are a type of iterable, like lists or tuples. They do not allow indexing, but they can still be iterated through with for loops. They are created using functions and the yield statement.</p>"
      ]
    },
    {
      "cell_type": "markdown",
      "metadata": {
        "id": "rKrWnTljcKfI"
      },
      "source": [
        "#### Yield Keyword <br>\n",
        "<p>The yield keyword denotes a generator, it doesn't return so it won't leave the function and reset all variables in the function scope, instead it yields the number back to the caller.</p>"
      ]
    },
    {
      "cell_type": "code",
      "execution_count": null,
      "metadata": {
        "id": "U80r2v-YcKfI"
      },
      "outputs": [],
      "source": []
    },
    {
      "cell_type": "markdown",
      "metadata": {
        "id": "MsyF4cgucKfI"
      },
      "source": [
        "#### Infinite Generator"
      ]
    },
    {
      "cell_type": "code",
      "execution_count": null,
      "metadata": {
        "id": "DWnG8NracKfI"
      },
      "outputs": [],
      "source": [
        "# bad, never create infinite loops"
      ]
    },
    {
      "cell_type": "markdown",
      "metadata": {
        "id": "Kk27Ca8AcKfJ"
      },
      "source": [
        "#### In-Class Exercise #6 <br>\n",
        "<p>Create a generator that takes a number argument and yields that number squared, then prints each number squared until zero is reached.</p>"
      ]
    },
    {
      "cell_type": "code",
      "execution_count": null,
      "metadata": {
        "id": "DIkHKfcocKfJ"
      },
      "outputs": [],
      "source": []
    },
    {
      "cell_type": "markdown",
      "metadata": {
        "id": "YOqEdZlQcKfJ"
      },
      "source": [
        "# Exercises"
      ]
    },
    {
      "cell_type": "markdown",
      "metadata": {
        "id": "dE913Dh6cKfJ"
      },
      "source": [
        "### Exercise #1 <br>\n",
        "<p>Filter out all of the empty strings from the list below</p>\n",
        "\n",
        "`Output: ['Argentina', 'San Diego', 'Boston', 'New York']`"
      ]
    },
    {
      "cell_type": "code",
      "execution_count": null,
      "metadata": {
        "id": "db6MXmDzcKfK"
      },
      "outputs": [],
      "source": [
        "places = [\" \",\"Argentina\", \" \", \"San Diego\",\"\",\"  \",\"\",\"Boston\",\"New York\"]\n",
        "\n"
      ]
    },
    {
      "cell_type": "markdown",
      "metadata": {
        "id": "QhJ_ydCdcKfK"
      },
      "source": [
        "### Exercise #2 <br>\n",
        "<p>Write an anonymous function that sorts this list by the last name...<br><b>Hint: Use the \".sort()\" method and access the key\"</b></p>\n",
        "\n",
        "`Output: ['Victor aNisimov', 'Gary A.J. Bernstein', 'Joel Carter', 'Andrew P. Garfield', 'David hassELHOFF']`"
      ]
    },
    {
      "cell_type": "code",
      "execution_count": null,
      "metadata": {
        "id": "dLXeJKcAcKfK"
      },
      "outputs": [],
      "source": [
        "author = [\"Joel Carter\", \"Victor aNisimov\", \"Andrew P. Garfield\",\"David hassELHOFF\",\"Gary A.J. Bernstein\"]\n",
        "\n"
      ]
    },
    {
      "cell_type": "markdown",
      "metadata": {
        "id": "P5RVSjeicKfK"
      },
      "source": [
        "### Exercise #3 <br>\n",
        "<p>Convert the list below from Celsius to Farhenheit, using the map function with a lambda...</p>\n",
        "\n",
        "`Output: [('Nashua', 89.6), ('Boston', 53.6), ('Los Angelos', 111.2), ('Miami', 84.2)]\n",
        "`"
      ]
    },
    {
      "cell_type": "code",
      "execution_count": null,
      "metadata": {
        "id": "BTFAFmFncKfL"
      },
      "outputs": [],
      "source": [
        "# F = (9/5)*C + 32\n",
        "places = [('Nashua',32),(\"Boston\",12),(\"Los Angelos\",44),(\"Miami\",29)]\n"
      ]
    },
    {
      "cell_type": "markdown",
      "metadata": {
        "id": "8Ixpf_eXcKfL"
      },
      "source": [
        "### Exercise #4 <br>\n",
        "<p>Write a recursion function to perform the fibonacci sequence up to the number passed in.</p>\n",
        "\n",
        "`Output for fib(5) =>\n",
        "Iteration 0: 1\n",
        "Iteration 1: 1\n",
        "Iteration 2: 2\n",
        "Iteration 3: 3\n",
        "Iteration 4: 5\n",
        "Iteration 5: 8`"
      ]
    },
    {
      "cell_type": "code",
      "execution_count": null,
      "metadata": {
        "scrolled": true,
        "id": "VhElMohMcKfL"
      },
      "outputs": [],
      "source": []
    }
  ],
  "metadata": {
    "kernelspec": {
      "display_name": "Python 3",
      "language": "python",
      "name": "python3"
    },
    "language_info": {
      "codemirror_mode": {
        "name": "ipython",
        "version": 3
      },
      "file_extension": ".py",
      "mimetype": "text/x-python",
      "name": "python",
      "nbconvert_exporter": "python",
      "pygments_lexer": "ipython3",
      "version": "3.7.6"
    },
    "colab": {
      "provenance": [],
      "include_colab_link": true
    }
  },
  "nbformat": 4,
  "nbformat_minor": 0
}