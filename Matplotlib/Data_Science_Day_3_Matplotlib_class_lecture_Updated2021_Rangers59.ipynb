{
  "cells": [
    {
      "cell_type": "markdown",
      "metadata": {
        "id": "view-in-github",
        "colab_type": "text"
      },
      "source": [
        "<a href=\"https://colab.research.google.com/github/somas1/CT/blob/main/Matplotlib/Data_Science_Day_3_Matplotlib_class_lecture_Updated2021_Rangers59.ipynb\" target=\"_parent\"><img src=\"https://colab.research.google.com/assets/colab-badge.svg\" alt=\"Open In Colab\"/></a>"
      ]
    },
    {
      "cell_type": "markdown",
      "metadata": {
        "id": "xMvRoWWIsECZ"
      },
      "source": [
        "# Data Science Visualization - Matplotlib"
      ]
    },
    {
      "cell_type": "markdown",
      "metadata": {
        "id": "lM2uiDYAsECb"
      },
      "source": [
        "## Tasks Today:\n",
        "\n",
        "1) <b>Matplotlib</b> <br>\n",
        " &nbsp;&nbsp;&nbsp;&nbsp; a) Data Visulation <br>\n",
        " &nbsp;&nbsp;&nbsp;&nbsp;&nbsp;&nbsp;&nbsp;&nbsp; - Importing <br>\n",
        " &nbsp;&nbsp;&nbsp;&nbsp; b) Different Types of Charts <br>\n",
        " &nbsp;&nbsp;&nbsp;&nbsp; c) Basics <br>\n",
        " &nbsp;&nbsp;&nbsp;&nbsp; d) Customization <br>\n",
        " &nbsp;&nbsp;&nbsp;&nbsp;&nbsp;&nbsp;&nbsp;&nbsp; - Axis Labels & Line Marks <br>\n",
        " &nbsp;&nbsp;&nbsp;&nbsp;&nbsp;&nbsp;&nbsp;&nbsp; - Legend & Line Labels <br>\n",
        " &nbsp;&nbsp;&nbsp;&nbsp; e) Subplots <br>\n",
        " &nbsp;&nbsp;&nbsp;&nbsp; f) <b>In-Class Exercise #1</b> <br>\n",
        " &nbsp;&nbsp;&nbsp;&nbsp; g) Presentation Worthiness <br>\n",
        " &nbsp;&nbsp;&nbsp;&nbsp; h) <b>In-Class Exercise #2</b> <br>\n",
        " &nbsp;&nbsp;&nbsp;&nbsp; i) Box Plot <br>\n",
        " &nbsp;&nbsp;&nbsp;&nbsp; j) Scatter Plot <br>\n",
        " &nbsp;&nbsp;&nbsp;&nbsp; k) Histograms <br>"
      ]
    },
    {
      "cell_type": "markdown",
      "metadata": {
        "id": "HTGWI1OvsECc"
      },
      "source": [
        "### Data Visualization <br>\n",
        "<p>Data visualization is one of the most powerful tools an analyst has for two main reasons. Firstly, it is unrivalled in it's ability to guide the analysts hand in determining 'what to look at next'. Often a visual is revealing of patterns in the data that are not easily discernable by just looking at dataframes. Secondly, they are an analysts greatest communication tool. Very often professional analysts need to present their results to groups of people responsible for taking action based on what the data says. Visuals can tell your story much better then raw numbers, so let's talk a little bit about how to make effective visuals that make a point.</p>"
      ]
    },
    {
      "cell_type": "markdown",
      "metadata": {
        "id": "zZidAx6WsECc"
      },
      "source": [
        "##### Importing"
      ]
    },
    {
      "cell_type": "code",
      "execution_count": null,
      "metadata": {
        "id": "Y5WNDeh9sECd"
      },
      "outputs": [],
      "source": [
        "!pip install matplotlib"
      ]
    },
    {
      "cell_type": "code",
      "execution_count": null,
      "metadata": {
        "id": "q2sH-BVnsECd"
      },
      "outputs": [],
      "source": [
        "import pandas as pd\n",
        "import numpy as np\n",
        "import matplotlib.pyplot as plt # standard"
      ]
    },
    {
      "cell_type": "markdown",
      "metadata": {
        "id": "gVdpOiV7sECe"
      },
      "source": [
        "### Different Types of Charts <br>\n",
        "<ul>\n",
        "    <li><b>Line Chart:</b> Exploring data over time</li>\n",
        "    <li><b>Bar Chart:</b> Comparing categories of data and tracks changes over time</li>\n",
        "    <li><b>Pie Chart:</b> Explore parts of a whole, i.e. fractions</li>\n",
        "    <li><b>Scatter Plot:</b> Similar to line charts, track correlations between two categories</li>\n",
        "    <li><b>Histogram:</b> Unrelated from bar charts, show distribution of variables</li>\n",
        "    <li><b>Candlestick Chart:</b> Used a lot in financial sector, i.e. can compare a stock over a period of time</li>\n",
        "    <li><b>Box Chart:</b> Looks identical to candlestick charts, compares minimum, 1st, medium, 3rd quartiles, and max values</li>\n",
        "</ul>\n",
        "\n",
        "<p>Depending on what you need to accomplish in conceptualizing your data, you will go with a specific type of chart to portray your data.</p>"
      ]
    },
    {
      "cell_type": "markdown",
      "metadata": {
        "id": "-BUUvCeVsECe"
      },
      "source": [
        "### Basics <br>\n",
        "<p>Plots can be as detailed as you'd like them to be, but the simplest plot to start with can be done in just a few lines:</p>"
      ]
    },
    {
      "cell_type": "code",
      "execution_count": null,
      "metadata": {
        "scrolled": true,
        "id": "b8zc0VeTsECf"
      },
      "outputs": [],
      "source": []
    },
    {
      "cell_type": "markdown",
      "metadata": {
        "id": "SQlBatNwsECf"
      },
      "source": [
        "### Customization <br>\n",
        "<p>There's many customizable options when using Matplotlib, such as; line types, colors, labels, figure size, etc. We'll go over a few of them here:</p>"
      ]
    },
    {
      "cell_type": "markdown",
      "metadata": {
        "id": "-I1M_G7lsECg"
      },
      "source": [
        "##### Axis Labels & Line Marks"
      ]
    },
    {
      "cell_type": "code",
      "execution_count": null,
      "metadata": {
        "id": "-ZHqornzsECg"
      },
      "outputs": [],
      "source": []
    },
    {
      "cell_type": "markdown",
      "metadata": {
        "id": "MPFUB2Y6sECh"
      },
      "source": [
        "##### Legend & Line Labels"
      ]
    },
    {
      "cell_type": "code",
      "execution_count": null,
      "metadata": {
        "id": "YZZ69va1sECh"
      },
      "outputs": [],
      "source": []
    },
    {
      "cell_type": "markdown",
      "metadata": {
        "id": "alWXxSiXsECh"
      },
      "source": [
        "### Subplots <br>\n",
        "<p>Using the subplots method, you're able to create multiple plots within a single cell.</p>"
      ]
    },
    {
      "cell_type": "code",
      "execution_count": null,
      "metadata": {
        "id": "eg0uYFh9sECh"
      },
      "outputs": [],
      "source": [
        "# first plot\n",
        "\n"
      ]
    },
    {
      "cell_type": "markdown",
      "metadata": {
        "id": "JS8IcWDlsECi"
      },
      "source": [
        "### In-Class Exercise #1 - Create a Graph that Depicts y = f(x)"
      ]
    },
    {
      "cell_type": "code",
      "execution_count": null,
      "metadata": {
        "id": "MDg2dzw5sECi"
      },
      "outputs": [],
      "source": [
        "import numpy as np\n",
        "\n",
        "# use matplotlib to plot f(x)\n"
      ]
    },
    {
      "cell_type": "markdown",
      "metadata": {
        "id": "zOQ-_iuvsECi"
      },
      "source": [
        "### Presentation Worthiness\n",
        "<p>Before we go into how to use this as a tool for data exploration, let's talk quickly about presentation-worthiness. In the next cell we're going to introduce customization of lines, colors, ticks, titles, fonts, and grids.</p>"
      ]
    },
    {
      "cell_type": "code",
      "execution_count": null,
      "metadata": {
        "id": "Z7jC7YxusECi"
      },
      "outputs": [],
      "source": [
        "fig, ax = plt.subplots(figsize = (20, 10))\n",
        "\n",
        "plt.plot(x_axis ** 2, y_axis ** 4,\n",
        "        lw = 5, # Line Width\n",
        "        ls = '--', # Line Style\n",
        "        color = 'r', # Line Color\n",
        "        marker = \"*\", #Pointer Marker\n",
        "        markersize = 15, # Marker size\n",
        "        markerfacecolor = 'b', # Marker Color\n",
        "        label = 'Data'\n",
        "        )\n",
        "\n",
        "plt.xlabel(r'$x$ Value', fontname = 'Times New Roman', fontsize = 32)\n",
        "plt.ylabel(r'$y$ Value', fontname = 'Times New Roman', fontsize = 32)\n",
        "\n",
        "plt.xticks(fontsize = 28)\n",
        "plt.yticks(fontsize = 28)\n",
        "\n",
        "plt.title('Quadratic Equation Visual', fontname = \"Times New Roman\", fontsize = 40, y = 1.05)\n",
        "\n",
        "plt.grid(True)\n",
        "\n",
        "plt.legend(loc = 'upper left', fontsize = 40)\n",
        "\n",
        "plt.tight_layout()\n"
      ]
    },
    {
      "cell_type": "markdown",
      "metadata": {
        "id": "3QivR4wIsECj"
      },
      "source": [
        "<p>It's sometimes nice to obsess a little bit over how your plots look. It's good practice paying attention to detail and it has huge payoff when you end up presenting your findings to other analysts and business parteners. Here's a more complex example of using the matplotlib api:</p>"
      ]
    },
    {
      "cell_type": "code",
      "execution_count": null,
      "metadata": {
        "id": "in-Ho0_gsECj"
      },
      "outputs": [],
      "source": [
        "markers = ['o', 'v', '^', '*', 's']\n",
        "styles = ['-', '--', '-.', ':', '-']\n",
        "colors = ['#588C7E', '#F2E394', '#F2AE72', '#D96459', '#8C4646']"
      ]
    },
    {
      "cell_type": "code",
      "execution_count": null,
      "metadata": {
        "id": "q0WQfPKBsECj"
      },
      "outputs": [],
      "source": [
        "x = np.linspace(0, 10, 50)\n",
        "\n",
        "for i in range(5):\n",
        "    plt.plot(x, x ** i,\n",
        "            lw = 5,\n",
        "            ls = styles[i],\n",
        "            color = colors[i],\n",
        "            marker = markers[i],\n",
        "            markersize = 15,\n",
        "            markerfacecolor = colors[i],\n",
        "            label = r'$x^{%s}$' % i # f'{i}'\n",
        "            )\n",
        "\n",
        "plt.xlim(0,10, 50)\n",
        "plt.ylim(0,100)\n",
        "\n",
        "plt.xlabel(r'$x$ Value', fontname = 'Times New Roman', fontsize = 32)\n",
        "plt.ylabel(f'y Value', fontname = 'Times New Roman', fontsize = 32)\n",
        "\n",
        "plt.xticks(fontsize = 28)\n",
        "plt.yticks(fontsize = 28)\n",
        "\n",
        "plt.title(r'$y = f(x) = x^2$', fontname = \"Times New Roman\", fontsize = 40, y = 1.05)\n",
        "\n",
        "plt.grid(True)\n",
        "\n",
        "plt.legend(loc = 'upper left', fontsize = 40)\n",
        "\n",
        "plt.tight_layout()\n",
        "\n"
      ]
    },
    {
      "cell_type": "markdown",
      "metadata": {
        "id": "iN4E0JiwsECj"
      },
      "source": [
        "### In-Class Exercise #2 - Customize the f(x) Plot Created Earlier <br>\n",
        "<p>Customize it however you would like...</p>"
      ]
    },
    {
      "cell_type": "code",
      "execution_count": null,
      "metadata": {
        "id": "sVsSIAu7sECk"
      },
      "outputs": [],
      "source": [
        "# students to do..."
      ]
    },
    {
      "cell_type": "markdown",
      "metadata": {
        "id": "8v7lhxgzsECl"
      },
      "source": [
        "### Scatter Plot"
      ]
    },
    {
      "cell_type": "code",
      "execution_count": null,
      "metadata": {
        "id": "soRhFtKFsECl"
      },
      "outputs": [],
      "source": [
        "import csv\n",
        "from  itertools import groupby\n",
        "\n"
      ]
    },
    {
      "cell_type": "markdown",
      "metadata": {
        "id": "LtardZvKsECl"
      },
      "source": [
        "### Box Plot"
      ]
    },
    {
      "cell_type": "code",
      "execution_count": null,
      "metadata": {
        "id": "3zLcjDFgsECl"
      },
      "outputs": [],
      "source": [
        "from itertools import groupby\n",
        "\n"
      ]
    },
    {
      "cell_type": "markdown",
      "metadata": {
        "id": "BVXSA-MvsECl"
      },
      "source": [
        "### Histograms <br>\n",
        "<p>While line plots are great for visualizing trends in time series data, histograms are the king of visualizing distributions. Often, the distribution of a variable is what you're interested in, and a visualization provides a lot more information than a group of summary statistics.</p>"
      ]
    },
    {
      "cell_type": "code",
      "execution_count": null,
      "metadata": {
        "id": "Vk5gnEs0sECm"
      },
      "outputs": [],
      "source": [
        "fig, ax = plt.subplots(figsize=(16, 9)) #Subplots makes a call in the background to create a plot area\n",
        "\n",
        "# generate random data\n",
        "data = np.random.uniform(0,10,100)\n"
      ]
    },
    {
      "cell_type": "markdown",
      "metadata": {
        "id": "4YsvtzwDsECm"
      },
      "source": [
        "<p>Let's take a look at a mystery/randomly generated DataFrame, and plot the results</p>"
      ]
    },
    {
      "cell_type": "code",
      "execution_count": null,
      "metadata": {
        "id": "cO7qvkresECm"
      },
      "outputs": [],
      "source": [
        "import pandas as pd\n",
        "import numpy as np\n",
        "\n",
        "def make_mystery_dataframe():\n",
        "    customer_id = np.random.randint(1000,1200,10000)\n",
        "\n",
        "    states = {1: 'California', 0: 'Colorado'}\n",
        "    statelist = []\n",
        "    agelist = []\n",
        "\n",
        "    for i in range(10000):\n",
        "        ind = np.random.randint(0,2)\n",
        "        if ind == 0:\n",
        "            statelist.append(states[ind])\n",
        "            agelist.append(np.random.normal(loc = 30, scale = 10))\n",
        "        elif ind == 1:\n",
        "            statelist.append(states[ind])\n",
        "            agelist.append(np.random.normal(loc = 40, scale = 20))\n",
        "\n",
        "    mystery_df = pd.DataFrame.from_dict({\n",
        "        'customer_id': customer_id,\n",
        "        'ages':agelist,\n",
        "        'state': statelist\n",
        "    })\n",
        "\n",
        "    return mystery_df\n",
        "\n",
        "df = make_mystery_dataframe()\n",
        "df.head(20)\n"
      ]
    },
    {
      "cell_type": "code",
      "execution_count": null,
      "metadata": {
        "id": "zdgLH4R1sECm"
      },
      "outputs": [],
      "source": [
        "fig, (ax1, ax2) = plt.subplots(1, 2, figsize=(20, 10))\n",
        "\n",
        "\n"
      ]
    },
    {
      "cell_type": "code",
      "execution_count": null,
      "metadata": {
        "id": "lNFmMrMKsECm"
      },
      "outputs": [],
      "source": []
    }
  ],
  "metadata": {
    "kernelspec": {
      "display_name": "Python 3",
      "language": "python",
      "name": "python3"
    },
    "language_info": {
      "codemirror_mode": {
        "name": "ipython",
        "version": 3
      },
      "file_extension": ".py",
      "mimetype": "text/x-python",
      "name": "python",
      "nbconvert_exporter": "python",
      "pygments_lexer": "ipython3",
      "version": "3.7.6"
    },
    "colab": {
      "provenance": [],
      "include_colab_link": true
    }
  },
  "nbformat": 4,
  "nbformat_minor": 0
}