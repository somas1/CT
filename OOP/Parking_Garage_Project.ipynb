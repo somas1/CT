{
  "cells": [
    {
      "cell_type": "markdown",
      "metadata": {
        "id": "view-in-github",
        "colab_type": "text"
      },
      "source": [
        "<a href=\"https://colab.research.google.com/github/somas1/CT/blob/main/OOP/Parking_Garage_Project.ipynb\" target=\"_parent\"><img src=\"https://colab.research.google.com/assets/colab-badge.svg\" alt=\"Open In Colab\"/></a>"
      ]
    },
    {
      "cell_type": "markdown",
      "metadata": {
        "id": "qOQpTJZy1V2_"
      },
      "source": [
        "# Parking Garage Project\n",
        "\n",
        "Your assignment for today is to create a parking garage class to get more familiar with Object Oriented Programming(OOP).\n",
        "\n",
        "Your parking gargage class should have the following methods:\n",
        "- takeTicket\n",
        "   - This should decrease the amount of tickets available by 1\n",
        "   - This should decrease the amount of parkingSpaces available by 1\n",
        "- payForParking\n",
        "   - Display an input that waits for an amount from the user and store it in a variable\n",
        "   - If the payment variable is not empty then ->  display a message to the user that their ticket has been paid and they have 15mins to leave\n",
        "   - This should update the \"currentTicket\" dictionary key \"paid\" to True\n",
        "-leaveGarage\n",
        "   - If the ticket has been paid, display a message of \"Thank You, have a nice day\"\n",
        "   - If the ticket has not been paid, display an input prompt for payment\n",
        "      - Once paid, display message \"Thank you, have a nice day!\"\n",
        "   - Update parkingSpaces list to increase by 1\n",
        "   - Update tickets list to increase by 1\n",
        "\n",
        "You will need a few attributes as well:\n",
        "- tickets -> list\n",
        "- parkingSpaces -> list\n",
        "- currentTicket -> dictionary"
      ]
    },
    {
      "cell_type": "code",
      "execution_count": 6,
      "metadata": {
        "colab": {
          "base_uri": "https://localhost:8080/"
        },
        "id": "K4lItRh_1V3B",
        "outputId": "b5508aff-2cbf-4216-e5cf-6105916bd107"
      },
      "outputs": [
        {
          "output_type": "stream",
          "name": "stdout",
          "text": [
            "How many parking spaces does your lot have?\n",
            "55\n",
            "Welcome, there are 55 spaces left.\n"
          ]
        }
      ],
      "source": [
        "from IPython.core.formatters import traceback\n",
        "from IPython.core.display import clear_output\n",
        "\n",
        "# create a parking garage class\n",
        "\n",
        "class ParkingLot():\n",
        "  '''\n",
        "  The ParkingLot class will have methods to keep track of parking lot capacity,\n",
        "  cars parked, payments due and payments made.\n",
        "\n",
        "  ParkingLot will do the following:\n",
        "  1. Takes input from user and sets number of parking spaces/tickets available.\n",
        "  2. Greets customer and displays the number of parking spaces available.\n",
        "  3. Takes input from customer and allows customer to reserve parking space.\n",
        "  4. Allows customer to pay for parking and gives them 15 minutes to leave.\n",
        "\n",
        "  Attributes:\n",
        "  tickets: expected to be a list.\n",
        "  parkingSpaces: expected to be a list.\n",
        "  currentTicket: expected to be a dictionary.\n",
        "  '''\n",
        "  def __init__(self, parkingSpaces):\n",
        "    self.tickets = [i for i in range(1, parkingSpaces+1)]\n",
        "    self.parkingSpaces = [i for i in range(1, parkingSpaces+1)]\n",
        "    self.currentTicket = {}\n",
        "\n",
        "  def greet(self):\n",
        "    print(f'Welcome, there are {len(self.parkingSpaces)} spaces left.')\n",
        "\n",
        "\n",
        "def main():\n",
        "  spaces = input('How many parking spaces does your lot have?\\n')\n",
        "  lot = ParkingLot(int(spaces))\n",
        "\n",
        "  lot.greet()\n",
        "\n",
        "main()"
      ]
    }
  ],
  "metadata": {
    "kernelspec": {
      "display_name": "Python 3",
      "language": "python",
      "name": "python3"
    },
    "language_info": {
      "codemirror_mode": {
        "name": "ipython",
        "version": 3
      },
      "file_extension": ".py",
      "mimetype": "text/x-python",
      "name": "python",
      "nbconvert_exporter": "python",
      "pygments_lexer": "ipython3",
      "version": "3.7.3"
    },
    "colab": {
      "provenance": [],
      "include_colab_link": true
    }
  },
  "nbformat": 4,
  "nbformat_minor": 0
}