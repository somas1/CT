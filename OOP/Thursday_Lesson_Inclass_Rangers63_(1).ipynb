{
  "cells": [
    {
      "cell_type": "markdown",
      "metadata": {
        "id": "view-in-github",
        "colab_type": "text"
      },
      "source": [
        "<a href=\"https://colab.research.google.com/github/somas1/CT/blob/main/OOP/Thursday_Lesson_Inclass_Rangers63_(1).ipynb\" target=\"_parent\"><img src=\"https://colab.research.google.com/assets/colab-badge.svg\" alt=\"Open In Colab\"/></a>"
      ]
    },
    {
      "cell_type": "markdown",
      "metadata": {
        "id": "dQS6C-ZwM4KV"
      },
      "source": [
        "# Object-Oriented-Programming (OOP)"
      ]
    },
    {
      "cell_type": "markdown",
      "metadata": {
        "id": "n3NO0M6BM4KX"
      },
      "source": [
        "## Tasks Today:\n",
        "\n",
        "   \n",
        "\n",
        "1) <b>Creating a Class (Initializing/Declaring)</b> <br>\n",
        "2) <b>Using a Class (Instantiating)</b> <br>\n",
        " &nbsp;&nbsp;&nbsp;&nbsp; a) Creating One Instance <br>\n",
        " &nbsp;&nbsp;&nbsp;&nbsp; b) Creating Multiple Instances <br>\n",
        " &nbsp;&nbsp;&nbsp;&nbsp; c) In-Class Exercise #1 - Create a Class 'Car' and instantiate three different makes of cars <br>\n",
        "3) <b>The \\__init\\__() Method</b> <br>\n",
        " &nbsp;&nbsp;&nbsp;&nbsp; a) The 'self' Attribute <br>\n",
        "4) <b>Class Attributes</b> <br>\n",
        " &nbsp;&nbsp;&nbsp;&nbsp; a) Initializing Attributes <br>\n",
        " &nbsp;&nbsp;&nbsp;&nbsp; b) Setting an Attribute Outside of the \\__init\\__() Method <br>\n",
        " &nbsp;&nbsp;&nbsp;&nbsp; c) Setting Defaults for Attributes <br>\n",
        " &nbsp;&nbsp;&nbsp;&nbsp; d) Accessing Class Attributes <br>\n",
        " &nbsp;&nbsp;&nbsp;&nbsp; e) Changing Class Attributes <br>\n",
        " &nbsp;&nbsp;&nbsp;&nbsp; f) In-Class Exercise #2 - Add a color and wheels attribute to your 'Car' class <br>\n",
        "5) <b>Class Methods</b> <br>\n",
        " &nbsp;&nbsp;&nbsp;&nbsp; a) Creating <br>\n",
        " &nbsp;&nbsp;&nbsp;&nbsp; b) Calling <br>\n",
        " &nbsp;&nbsp;&nbsp;&nbsp; c) Modifying an Attribute's Value Through a Method <br>\n",
        " &nbsp;&nbsp;&nbsp;&nbsp; d) Incrementing an Attribute's Value Through a Method <br>\n",
        " &nbsp;&nbsp;&nbsp;&nbsp; e) In-Class Exercise #3 - Add a method that prints the cars color and wheel number, then call them <br>\n",
        "6) <b>Inheritance</b> <br>\n",
        " &nbsp;&nbsp;&nbsp;&nbsp; a) Syntax for Inheriting from a Parent Class <br>\n",
        " &nbsp;&nbsp;&nbsp;&nbsp; b) The \\__init\\__() Method for a Child Class (super()) <br>\n",
        " &nbsp;&nbsp;&nbsp;&nbsp; c) Defining Attributes and Methods for the Child Class <br>\n",
        " &nbsp;&nbsp;&nbsp;&nbsp; d) Method Overriding <br>\n",
        " &nbsp;&nbsp;&nbsp;&nbsp; e) In-Class Exercise #4 - Create a class 'Ford' that inherits from 'Car' class and initialize it as a Blue Ford Explorer with 4 wheels using the super() method <br>\n",
        "7) <b>Classes as Attributes</b> <br>\n",
        "8) <b>Exercises</b> <br>\n",
        " &nbsp;&nbsp;&nbsp;&nbsp; a) Exercise #1 - Turn the shopping cart program from yesterday into an object-oriented program <br>"
      ]
    },
    {
      "cell_type": "markdown",
      "metadata": {
        "id": "cBwqLDX0M4KY"
      },
      "source": [
        "## Creating a Class (Initializing/Declaring)\n",
        "<p>When creating a class, function, or even a variable you are initializing that object. Initializing and Declaring occur at the same time in Python, whereas in lower level languages you have to declare an object before initializing it. This is the first step in the process of using a class.</p>"
      ]
    },
    {
      "cell_type": "code",
      "execution_count": null,
      "metadata": {
        "id": "nZHRYcCeM4KZ"
      },
      "outputs": [],
      "source": [
        "class Car():\n",
        "    wheels = 4\n",
        "    color = 'blue'"
      ]
    },
    {
      "cell_type": "markdown",
      "metadata": {
        "id": "oT17Jz5oM4KZ"
      },
      "source": [
        "## Using a Class (Instantiating)\n",
        "<p>The process of creating a class is called <i>Instantiating</i>. Each time you create a variable of that type of class, it is referred to as an <i>Instance</i> of that class. This is the second step in the process of using a class.</p>"
      ]
    },
    {
      "cell_type": "markdown",
      "metadata": {
        "id": "vrpbGjFhM4Ka"
      },
      "source": [
        "##### Creating One Instance"
      ]
    },
    {
      "cell_type": "code",
      "execution_count": null,
      "metadata": {
        "colab": {
          "base_uri": "https://localhost:8080/"
        },
        "id": "AzJ8Nj7fM4Ka",
        "outputId": "89c90bbc-28ee-480a-f364-ce0714d29bf1"
      },
      "outputs": [
        {
          "output_type": "stream",
          "name": "stdout",
          "text": [
            "4\n",
            "blue\n"
          ]
        }
      ],
      "source": [
        "ford = Car()\n",
        "print(ford.wheels)\n",
        "print(ford.color)"
      ]
    },
    {
      "cell_type": "markdown",
      "metadata": {
        "id": "NTxb9M_eM4Kb"
      },
      "source": [
        "##### Creating Multiple Instances"
      ]
    },
    {
      "cell_type": "code",
      "execution_count": null,
      "metadata": {
        "colab": {
          "base_uri": "https://localhost:8080/",
          "height": 236
        },
        "id": "ypQwugcaM4Kb",
        "outputId": "057f0d3c-90e9-4252-f1e5-9806cf5a5c02"
      },
      "outputs": [
        {
          "output_type": "stream",
          "name": "stdout",
          "text": [
            "<class 'str'>\n"
          ]
        },
        {
          "output_type": "error",
          "ename": "AttributeError",
          "evalue": "ignored",
          "traceback": [
            "\u001b[0;31m---------------------------------------------------------------------------\u001b[0m",
            "\u001b[0;31mAttributeError\u001b[0m                            Traceback (most recent call last)",
            "\u001b[0;32m<ipython-input-4-662f2bf0950d>\u001b[0m in \u001b[0;36m<cell line: 6>\u001b[0;34m()\u001b[0m\n\u001b[1;32m      4\u001b[0m \u001b[0;34m\u001b[0m\u001b[0m\n\u001b[1;32m      5\u001b[0m \u001b[0mprint\u001b[0m\u001b[0;34m(\u001b[0m\u001b[0mtype\u001b[0m\u001b[0;34m(\u001b[0m\u001b[0mporsche\u001b[0m\u001b[0;34m.\u001b[0m\u001b[0mcolor\u001b[0m\u001b[0;34m)\u001b[0m\u001b[0;34m)\u001b[0m\u001b[0;34m\u001b[0m\u001b[0;34m\u001b[0m\u001b[0m\n\u001b[0;32m----> 6\u001b[0;31m \u001b[0mprint\u001b[0m\u001b[0;34m(\u001b[0m\u001b[0mtype\u001b[0m\u001b[0;34m(\u001b[0m\u001b[0mporsche\u001b[0m\u001b[0;34m.\u001b[0m\u001b[0mbumper\u001b[0m\u001b[0;34m)\u001b[0m\u001b[0;34m)\u001b[0m\u001b[0;34m\u001b[0m\u001b[0;34m\u001b[0m\u001b[0m\n\u001b[0m",
            "\u001b[0;31mAttributeError\u001b[0m: 'Car' object has no attribute 'bumper'"
          ]
        }
      ],
      "source": [
        "chevy = Car()\n",
        "honda = Car()\n",
        "porsche = Car()\n",
        "\n",
        "print(type(porsche.color))\n",
        "print(type(porsche.bumper))"
      ]
    },
    {
      "cell_type": "markdown",
      "metadata": {
        "id": "yaiud8QqM4Kc"
      },
      "source": [
        "##### In-Class Exercise #1 - Create a Class 'Car' and Instantiate three different makes of cars"
      ]
    },
    {
      "cell_type": "code",
      "execution_count": null,
      "metadata": {
        "colab": {
          "base_uri": "https://localhost:8080/"
        },
        "id": "B25m-JNeM4Kd",
        "outputId": "df27c4c7-64dd-4353-8837-f145806a47d0"
      },
      "outputs": [
        {
          "output_type": "stream",
          "name": "stdout",
          "text": [
            "4\n",
            "blue\n",
            "blue\n"
          ]
        }
      ],
      "source": [
        "class Car():\n",
        "  wheels = 4\n",
        "  color = 'blue'\n",
        "\n",
        "toyota = Car()\n",
        "lexus = Car()\n",
        "mercedes = Car()\n",
        "\n",
        "print(toyota.wheels)\n",
        "print(lexus.color)\n",
        "print(mercedes.color)"
      ]
    },
    {
      "cell_type": "markdown",
      "metadata": {
        "id": "VpAlDOCjM4Kd"
      },
      "source": [
        "## The \\__init\\__() Method <br>\n",
        "<p>This method is used in almost every created class, and called only once upon the creation of the class instance. This method will initialize all variables needed for the object.</p>"
      ]
    },
    {
      "cell_type": "code",
      "execution_count": null,
      "metadata": {
        "colab": {
          "base_uri": "https://localhost:8080/"
        },
        "id": "7YfhYvExM4Ke",
        "outputId": "aa751c9d-574f-4d4a-8c0f-860f90ad5d5c"
      },
      "outputs": [
        {
          "output_type": "stream",
          "name": "stdout",
          "text": [
            "4\n",
            "6\n"
          ]
        }
      ],
      "source": [
        "class Car():\n",
        "  engine = '4.7L' # contant attribute\n",
        "  def __init__(self, wheels, color):\n",
        "     self.wheels = wheels\n",
        "     self.color = color\n",
        "\n",
        "ford = Car(4, 'red')\n",
        "chevy = Car(6, 'black')\n",
        "\n",
        "print(ford.wheels)\n",
        "print(chevy.wheels)"
      ]
    },
    {
      "cell_type": "markdown",
      "metadata": {
        "id": "wUGhc6xhM4Ke"
      },
      "source": [
        "##### The 'self' Attribute <br>\n",
        "<p>This attribute is required to keep track of specific instance's attributes. Without the self attribute, the program would not know how to reference or keep track of an instance's attributes.</p>"
      ]
    },
    {
      "cell_type": "code",
      "execution_count": null,
      "metadata": {
        "id": "hR74Cgv4M4Ke"
      },
      "outputs": [],
      "source": [
        "# see above"
      ]
    },
    {
      "cell_type": "markdown",
      "metadata": {
        "id": "97zRwIreM4Kf"
      },
      "source": [
        "## Class Attributes <br>\n",
        "<p>While variables are inside of a class, they are referred to as attributes and not variables. When someone says 'attribute' you know they're speaking about a class. Attributes can be initialized through the init method, or outside of it.</p>"
      ]
    },
    {
      "cell_type": "markdown",
      "metadata": {
        "id": "cB-WFgnsM4Kf"
      },
      "source": [
        "##### Initializing Attributes"
      ]
    },
    {
      "cell_type": "code",
      "execution_count": null,
      "metadata": {
        "id": "vY7zXZuPM4Kf"
      },
      "outputs": [],
      "source": [
        "# see above\n",
        "\n",
        "class Toy():\n",
        "  kind = 'car'\n",
        "\n",
        "  def __init__(self, rooftop, horn, wheels = 4):\n",
        "     self.rooftop = rooftop\n",
        "     self.horn = horn\n",
        "     self.wheels = wheels\n",
        "\n",
        "tonka_truck = Toy(1,1)\n",
        "hotwheels_car = Toy(2,3,8)"
      ]
    },
    {
      "cell_type": "markdown",
      "metadata": {
        "id": "dpm6gvbfM4Kf"
      },
      "source": [
        "##### Accessing Class Attributes"
      ]
    },
    {
      "cell_type": "code",
      "execution_count": null,
      "metadata": {
        "scrolled": true,
        "colab": {
          "base_uri": "https://localhost:8080/"
        },
        "id": "HX46VC0OM4Kf",
        "outputId": "fe35441c-4ab5-4241-b4de-9bb506f2acf2"
      },
      "outputs": [
        {
          "output_type": "stream",
          "name": "stdout",
          "text": [
            "1\n",
            "8\n"
          ]
        }
      ],
      "source": [
        "# See Above\n",
        "print(tonka_truck.horn)\n",
        "print(hotwheels_car.wheels)\n",
        "\n"
      ]
    },
    {
      "cell_type": "markdown",
      "metadata": {
        "id": "A3fqObq0M4Kg"
      },
      "source": [
        "##### Setting Defaults for Attributes"
      ]
    },
    {
      "cell_type": "code",
      "execution_count": null,
      "metadata": {
        "colab": {
          "base_uri": "https://localhost:8080/"
        },
        "id": "x1XGzHXyM4Kg",
        "outputId": "4bcc7962-83ad-46f1-a70f-dcfae95a3ac4"
      },
      "outputs": [
        {
          "output_type": "stream",
          "name": "stdout",
          "text": [
            "blue\n",
            "4\n"
          ]
        }
      ],
      "source": [
        "class Car():\n",
        "  engine = '4.7L' # contant attribute\n",
        "  def __init__(self, wheels):\n",
        "     self.wheels = wheels\n",
        "     self.color = 'blue' # Cannot overwrite\n",
        "\n",
        "honda = Car(4)\n",
        "print(honda.color)\n",
        "print(honda.wheels)"
      ]
    },
    {
      "cell_type": "markdown",
      "metadata": {
        "id": "q-cICAyoM4Kg"
      },
      "source": [
        "##### Changing Class Attributes <br>\n",
        "<p>Keep in mind there are global class attributes and then there are attributes only available to each class instance which won't effect other classes.</p>"
      ]
    },
    {
      "cell_type": "code",
      "execution_count": null,
      "metadata": {
        "id": "ibzEKpGBM4Kh"
      },
      "outputs": [],
      "source": [
        "# see above"
      ]
    },
    {
      "cell_type": "code",
      "execution_count": null,
      "metadata": {
        "id": "26YRo5glM4Kh"
      },
      "outputs": [],
      "source": []
    },
    {
      "cell_type": "markdown",
      "metadata": {
        "id": "A7u6A-lNM4Kh"
      },
      "source": [
        "##### In-Class Exercise #2 - Add a doors and seats attribute to your 'Car' class then print out two different instances with different doors and seats"
      ]
    },
    {
      "cell_type": "code",
      "execution_count": null,
      "metadata": {
        "colab": {
          "base_uri": "https://localhost:8080/"
        },
        "id": "306T_0csM4Kh",
        "outputId": "d4a10c80-b065-4ffc-d36c-fb94ec5a0d4e"
      },
      "outputs": [
        {
          "output_type": "stream",
          "name": "stdout",
          "text": [
            "4 blue 4 4\n",
            "4 red 2 2\n"
          ]
        }
      ],
      "source": [
        "class Car():\n",
        "  engine = '4.7L' # contant attribute\n",
        "  def __init__(self, wheels, color, doors, seats):\n",
        "     self.wheels = wheels\n",
        "     self.color = color\n",
        "     self.doors = doors\n",
        "     self.seats = seats\n",
        "\n",
        "ford = Car(4, 'blue', 4, 4)\n",
        "corvette = Car(4, 'red', 2, 2)\n",
        "\n",
        "print(ford.wheels, ford.color, ford.doors, ford.seats)\n",
        "print(corvette.wheels, corvette.color, corvette.doors, corvette.seats)"
      ]
    },
    {
      "cell_type": "markdown",
      "metadata": {
        "id": "6imec-0JM4Kh"
      },
      "source": [
        "## Class Methods <br>\n",
        "<p>While inside of a class, functions are referred to as 'methods'. If you hear someone mention methods, they're speaking about classes. Methods are essentially functions, but only callable on the instances of a class.</p>"
      ]
    },
    {
      "cell_type": "markdown",
      "metadata": {
        "id": "5TsZcxHPM4Kh"
      },
      "source": [
        "##### Creating"
      ]
    },
    {
      "cell_type": "code",
      "execution_count": 1,
      "metadata": {
        "id": "KQXMNsePM4Kh"
      },
      "outputs": [],
      "source": [
        "class ShoppingBag():\n",
        "  '''\n",
        "  The ShoppingBag class will have handles, capacity,\n",
        "  and items to place inside.\n",
        "\n",
        "  Attributes for the class:\n",
        "  - handles: expected to be an integer\n",
        "  - capacity: expected to be an integer\n",
        "  - items: expected to be a list\n",
        "  '''\n",
        "\n",
        "  def __init__(self, handles, items = [], capacity = 10):\n",
        "    self.handles = handles\n",
        "    self.items = items\n",
        "    self.capacity = capacity\n",
        "\n",
        "  def showShoppingBag(self):\n",
        "    if len(self.items) == 0:\n",
        "      print('You have no items')\n",
        "    else:\n",
        "      print('You have items in your bag!!!')\n",
        "      for item in self.items:\n",
        "        print(item)\n",
        "\n",
        "  def showCapacity(self):\n",
        "    print(f'Your remaining capacity is: {self.capacity - len(self.items)}')\n",
        "\n",
        "  def addToShoppingBag(self): # If capacity is full, reject new items.\n",
        "    if len(self.items) == self.capacity:\n",
        "      print('You have no room')\n",
        "    else:\n",
        "      product = input('What would you like to add? ')\n",
        "      self.items.append(product)\n",
        "\n",
        "  def showHandles(self):\n",
        "    print(f'You have {self.handles} handles on your bag')\n",
        "\n"
      ]
    },
    {
      "cell_type": "markdown",
      "metadata": {
        "id": "tsnPHhq7M4Ki"
      },
      "source": [
        "##### Calling"
      ]
    },
    {
      "cell_type": "code",
      "execution_count": 2,
      "metadata": {
        "id": "IAZ_eHz8M4Ki",
        "colab": {
          "base_uri": "https://localhost:8080/"
        },
        "outputId": "46611ed9-f894-40f6-d694-c239916200b9"
      },
      "outputs": [
        {
          "output_type": "stream",
          "name": "stdout",
          "text": [
            "What would you like to do?\n",
            "\n",
            "You may:\n",
            "-Add\n",
            "-Show\n",
            "-Quit\n",
            "GRAPES\n",
            "That is not a valid option. Please enter add, show or quit.\n",
            "What would you like to do?\n",
            "\n",
            "You may:\n",
            "-Add\n",
            "-Show\n",
            "-Quit\n",
            "add\n",
            "What would you like to add? GRAPES\n",
            "What would you like to do?\n",
            "\n",
            "You may:\n",
            "-Add\n",
            "-Show\n",
            "-Quit\n",
            "add\n",
            "What would you like to add? CHEESE\n",
            "What would you like to do?\n",
            "\n",
            "You may:\n",
            "-Add\n",
            "-Show\n",
            "-Quit\n",
            "show\n",
            "What would you like to see: \n",
            "-Capacity\n",
            "-Handles\n",
            "-Shopping Bag\n",
            "capacity\n",
            "Your remaining capacity is: 8\n",
            "What would you like to do?\n",
            "\n",
            "You may:\n",
            "-Add\n",
            "-Show\n",
            "-Quit\n",
            "add\n",
            "What would you like to add? gravy\n",
            "What would you like to do?\n",
            "\n",
            "You may:\n",
            "-Add\n",
            "-Show\n",
            "-Quit\n",
            "show\n",
            "What would you like to see: \n",
            "-Capacity\n",
            "-Handles\n",
            "-Shopping Bag\n",
            "shopping bag\n",
            "You have items in your bag!!!\n",
            "GRAPES\n",
            "CHEESE\n",
            "gravy\n",
            "What would you like to do?\n",
            "\n",
            "You may:\n",
            "-Add\n",
            "-Show\n",
            "-Quit\n",
            "show\n",
            "What would you like to see: \n",
            "-Capacity\n",
            "-Handles\n",
            "-Shopping Bag\n",
            "handles\n",
            "You have 2 handles on your bag\n",
            "What would you like to do?\n",
            "\n",
            "You may:\n",
            "-Add\n",
            "-Show\n",
            "-Quit\n",
            "quit\n",
            "You have items in your bag!!!\n",
            "GRAPES\n",
            "CHEESE\n",
            "gravy\n",
            "Thanks for shopping\n"
          ]
        }
      ],
      "source": [
        "# See Above\n",
        "wholeFoodsBag = ShoppingBag(2)\n",
        "\n",
        "def run():\n",
        "  while True:\n",
        "    response = input(\"What would you like to do?\\n\\nYou may:\\n-Add\\n-Show\\n-Quit\\n\")\n",
        "\n",
        "    if response.lower() == 'quit':\n",
        "      wholeFoodsBag.showShoppingBag()\n",
        "      print('Thanks for shopping')\n",
        "      break\n",
        "    elif response.lower() == 'add':\n",
        "      wholeFoodsBag.addToShoppingBag()\n",
        "    elif response.lower() == 'show':\n",
        "      showChoice = input('What would you like to see: \\n-Capacity\\n-Handles\\n-Shopping Bag\\n')\n",
        "      if showChoice.lower() == 'capacity':\n",
        "        wholeFoodsBag.showCapacity()\n",
        "      elif showChoice.lower() == 'handles':\n",
        "        wholeFoodsBag.showHandles()\n",
        "      else:\n",
        "        wholeFoodsBag.showShoppingBag()\n",
        "    else:\n",
        "      print('That is not a valid option. Please enter add, show or quit.')\n",
        "run()"
      ]
    },
    {
      "cell_type": "markdown",
      "metadata": {
        "id": "zHF54CIhM4Ki"
      },
      "source": [
        "##### Modifying an Attribute's Value Through a Method\n",
        "\n",
        "---\n",
        "\n"
      ]
    },
    {
      "cell_type": "code",
      "execution_count": null,
      "metadata": {
        "id": "e94wzCTYM4Ki"
      },
      "outputs": [],
      "source": []
    },
    {
      "cell_type": "markdown",
      "metadata": {
        "id": "6VMAJIIUM4Ki"
      },
      "source": [
        "##### Incrementing an Attribute's Value Through a Method"
      ]
    },
    {
      "cell_type": "code",
      "execution_count": null,
      "metadata": {
        "id": "4DBl63M-M4Kj"
      },
      "outputs": [],
      "source": []
    },
    {
      "cell_type": "markdown",
      "metadata": {
        "id": "CroOsMb8M4Kk"
      },
      "source": [
        "##### In-Class Exercise #3 - Add a method that takes in three parameters of year, doors and seats and prints out a formatted print statement with make, model, year, seats, and doors"
      ]
    },
    {
      "cell_type": "code",
      "execution_count": 11,
      "metadata": {
        "id": "BblLs1hFM4Kk",
        "colab": {
          "base_uri": "https://localhost:8080/"
        },
        "outputId": "2c13593d-a90a-418a-fc00-24acc6326244"
      },
      "outputs": [
        {
          "output_type": "stream",
          "name": "stdout",
          "text": [
            "This car is from 2019 and is a Ford Explorer and has 4 doors and 5 seats\n"
          ]
        }
      ],
      "source": [
        "# Create class with 2 paramters inside of the __init__ which are make and model\n",
        "\n",
        "# Inside of the Car class create a method that has 4 parameter in total (self,year,door,seats)\n",
        "\n",
        "# Output: This car is from 2019 and is a Ford Expolorer and has 4 doors and 5 seats\n",
        "\n",
        "class Car():\n",
        "  def __init__(self, make, model):\n",
        "    self.make = make\n",
        "    self.model = model\n",
        "\n",
        "  def yearDoorSeats(self, year, door, seats):\n",
        "    print(f'This car is from {year} and is a {self.make} {self.model} and has {door} doors and {seats} seats')\n",
        "\n",
        "ford = Car('Ford', 'Explorer').yearDoorSeats('2019', 4, 5)\n",
        "ford"
      ]
    },
    {
      "cell_type": "markdown",
      "metadata": {
        "id": "HbkElc8qM4Kk"
      },
      "source": [
        "## Inheritance <br>\n",
        "<p>You can create a child-parent relationship between two classes by using inheritance. What this allows you to do is have overriding methods, but also inherit traits from the parent class. Think of it as an actual parent and child, the child will inherit the parent's genes, as will the classes in OOP</p>"
      ]
    },
    {
      "cell_type": "markdown",
      "metadata": {
        "id": "zySndDy8M4Kk"
      },
      "source": [
        "##### Syntax for Inheriting from a Parent Class"
      ]
    },
    {
      "cell_type": "code",
      "execution_count": null,
      "metadata": {
        "id": "dKNwUO2JM4Kk"
      },
      "outputs": [],
      "source": []
    },
    {
      "cell_type": "markdown",
      "metadata": {
        "id": "V1CcgnNaM4Kl"
      },
      "source": [
        "##### The \\__init\\__() Method for a Child Class - super()"
      ]
    },
    {
      "cell_type": "code",
      "execution_count": null,
      "metadata": {
        "scrolled": true,
        "id": "q4hPDVZqM4Kl"
      },
      "outputs": [],
      "source": []
    },
    {
      "cell_type": "markdown",
      "metadata": {
        "id": "qM00AZRmM4Kl"
      },
      "source": [
        "##### Defining Attributes and Methods for the Child Class"
      ]
    },
    {
      "cell_type": "code",
      "execution_count": null,
      "metadata": {
        "id": "dC47CT1xM4Kl"
      },
      "outputs": [],
      "source": [
        "# See Above"
      ]
    },
    {
      "cell_type": "markdown",
      "metadata": {
        "id": "mxxAjgc9M4Km"
      },
      "source": [
        "##### Method Overriding"
      ]
    },
    {
      "cell_type": "code",
      "execution_count": null,
      "metadata": {
        "id": "JORNjYquM4Km"
      },
      "outputs": [],
      "source": [
        "# See Above"
      ]
    },
    {
      "cell_type": "markdown",
      "metadata": {
        "id": "gryWMHTtM4Km"
      },
      "source": [
        "## Classes as Attributes <br>\n",
        "<p>Classes can also be used as attributes within another class. This is useful in situations where you need to keep variables locally stored, instead of globally stored.</p>"
      ]
    },
    {
      "cell_type": "code",
      "execution_count": null,
      "metadata": {
        "id": "1LqspaS7M4Km"
      },
      "outputs": [],
      "source": []
    },
    {
      "cell_type": "markdown",
      "metadata": {
        "id": "zEpfEdvfM4Km"
      },
      "source": [
        "# Exercises"
      ]
    },
    {
      "cell_type": "markdown",
      "metadata": {
        "id": "cuKXNHyvM4Km"
      },
      "source": [
        "### Exercise 1 - Turn the shopping cart program from yesterday into an object-oriented program\n",
        "\n",
        "The comments in the cell below are there as a guide for thinking about the problem. However, if you feel a different way is best for you and your own thought process, please do what feels best for you by all means."
      ]
    },
    {
      "cell_type": "code",
      "execution_count": 22,
      "metadata": {
        "id": "mCOWwBTeM4Km",
        "colab": {
          "base_uri": "https://localhost:8080/"
        },
        "outputId": "764f6246-44fe-4398-a30b-6e31c2ea243a"
      },
      "outputs": [
        {
          "output_type": "stream",
          "name": "stdout",
          "text": [
            "What would you like to add?\n",
            "cheese\n",
            "Added cheese to your cart\n",
            "You have the following items in your cart: 1 -> chicken\n",
            "You have the following items in your cart: 2 -> beer\n",
            "You have the following items in your cart: 3 -> waffles\n",
            "You have the following items in your cart: 4 -> syrup\n",
            "You have the following items in your cart: 5 -> cheese\n",
            "\n",
            "What would you like to do? \n",
            "-Show/\n",
            "-Add/\n",
            "-Remove/\n",
            "-Clear \n",
            "-Quit?\n",
            "remove\n",
            "You have the following items in your cart: 1 -> chicken\n",
            "You have the following items in your cart: 2 -> beer\n",
            "You have the following items in your cart: 3 -> waffles\n",
            "You have the following items in your cart: 4 -> syrup\n",
            "You have the following items in your cart: 5 -> cheese\n",
            "Which numbered item would you like to remove?\n",
            "\n",
            "5\n",
            "Removed cheese from your cart.\n",
            "You have the following items in your cart: 1 -> chicken\n",
            "You have the following items in your cart: 2 -> beer\n",
            "You have the following items in your cart: 3 -> waffles\n",
            "You have the following items in your cart: 4 -> syrup\n",
            "\n",
            "What would you like to do? \n",
            "-Show/\n",
            "-Add/\n",
            "-Remove/\n",
            "-Clear \n",
            "-Quit?\n",
            "show\n",
            "You have the following items in your cart: 1 -> chicken\n",
            "You have the following items in your cart: 2 -> beer\n",
            "You have the following items in your cart: 3 -> waffles\n",
            "You have the following items in your cart: 4 -> syrup\n",
            "\n",
            "What would you like to do? \n",
            "-Show/\n",
            "-Add/\n",
            "-Remove/\n",
            "-Clear \n",
            "-Quit?\n",
            "quit\n",
            "You have the following items in your cart:\n",
            "\n",
            "You have the following items in your cart: 1 -> chicken\n",
            "You have the following items in your cart: 2 -> beer\n",
            "You have the following items in your cart: 3 -> waffles\n",
            "You have the following items in your cart: 4 -> syrup\n",
            "\n",
            "Goodbye!\n"
          ]
        }
      ],
      "source": [
        "from IPython.core.formatters import traceback\n",
        "from IPython.core.display import clear_output\n",
        "import traceback\n",
        "# Create a class called cart that retains items and has methods to add, remove, and show\n",
        "\n",
        "class Cart():\n",
        "    '''\n",
        "    The Cart class will have items and methods to add, remove and show these\n",
        "    items.\n",
        "\n",
        "    The Cart will do the following:\n",
        "      1) Takes in input\n",
        "      2) Stores user input into a dictionary\n",
        "      3) The User can add or remove items\n",
        "      4) The User can see items currently in cart\n",
        "      5) The program Loops until user 'quits'\n",
        "      6) Upon quiting the program, print out all items in the user's cart\n",
        "\n",
        "    Attributes for this class:\n",
        "    cart: expected to be a dictionary.\n",
        "    '''\n",
        "\n",
        "    def __init__(self, cart = {}):\n",
        "      self.cart = cart\n",
        "\n",
        "    def showCart(self):\n",
        "      if len(self.cart.items()) == 0:\n",
        "        print('You have no items in your cart.\\n')\n",
        "      else:\n",
        "        for key, value in self.cart.items():\n",
        "          print(f\"You have the following items in your cart: {key} -> {value}\")\n",
        "\n",
        "    def addItem(self):\n",
        "      clear_output()\n",
        "      item = input('What would you like to add?\\n')\n",
        "      self.cart[len(self.cart)+1] = item\n",
        "      print(f\"Added {item} to your cart\")\n",
        "      self.showCart()\n",
        "\n",
        "    def removeItem(self):\n",
        "      self.showCart()\n",
        "      if self.cart:\n",
        "        try:\n",
        "          item = input('Which numbered item would you like to remove?\\n\\n')\n",
        "          removed = self.cart.pop(int(item))\n",
        "          print(f'Removed {removed} from your cart.')\n",
        "        except:\n",
        "          traceback.print_exc()\n",
        "          print(\"Sorry, I can't do that. Try something else\")\n",
        "      else:\n",
        "        print('Your cart is empty!')\n",
        "\n",
        "      self.showCart()\n",
        "\n",
        "    def clear(self):\n",
        "      self.cart.clear()\n",
        "      print('Your cart has been cleared.')\n",
        "\n",
        "def main():\n",
        "  cart = Cart()\n",
        "  while True:\n",
        "    command = input('\\nWhat would you like to do? \\n-Show/\\n-Add/\\n-Remove/\\n-Clear \\n-Quit?\\n')\n",
        "\n",
        "    if command.lower() == 'show':\n",
        "      cart.showCart()\n",
        "    if command.lower() == 'add':\n",
        "      cart.addItem()\n",
        "    if command.lower() == 'remove':\n",
        "      cart.removeItem()\n",
        "    if command.lower() == 'clear':\n",
        "      cart.clear()\n",
        "    if command.lower() == 'quit':\n",
        "      if cart.cart:\n",
        "        print('You have the following items in your cart:\\n')\n",
        "        cart.showCart()\n",
        "      print('\\nGoodbye!')\n",
        "      break\n",
        "\n",
        "\n",
        "\n",
        "main()\n",
        "\n",
        "\n"
      ]
    },
    {
      "cell_type": "markdown",
      "metadata": {
        "id": "mIjKvMUkM4Km"
      },
      "source": [
        "### Exercise 2 - Write a Python class which has two methods get_String and print_String. get_String accept a string from the user and print_String print the string in upper case"
      ]
    },
    {
      "cell_type": "code",
      "execution_count": 26,
      "metadata": {
        "id": "wsQbfnhOM4Km",
        "colab": {
          "base_uri": "https://localhost:8080/"
        },
        "outputId": "456d482b-46b7-4610-d676-b5a1dadda416"
      },
      "outputs": [
        {
          "output_type": "stream",
          "name": "stdout",
          "text": [
            "What do you want to say?:\n",
            "My name is john\n",
            "MY NAME IS JOHN\n"
          ]
        }
      ],
      "source": [
        "class PrintStuff():\n",
        "  '''\n",
        "  The PrintStuff class will take a string from a user using a get_String() method\n",
        "  and will print the user string in upper case using the print_String() method.\n",
        "\n",
        "  Attributes:\n",
        "  userInput: expected to be a string\n",
        "  '''\n",
        "  def __init__(self, userInput = ''):\n",
        "    self.userInput = userInput\n",
        "\n",
        "  def get_String(self):\n",
        "    self.userInput = input('What do you want to say?:\\n')\n",
        "  def print_String(self):\n",
        "    print(self.userInput.upper())\n",
        "\n",
        "newString = PrintStuff()\n",
        "newString.get_String()\n",
        "newString.print_String()"
      ]
    }
  ],
  "metadata": {
    "kernelspec": {
      "display_name": "Python 3",
      "language": "python",
      "name": "python3"
    },
    "language_info": {
      "codemirror_mode": {
        "name": "ipython",
        "version": 3
      },
      "file_extension": ".py",
      "mimetype": "text/x-python",
      "name": "python",
      "nbconvert_exporter": "python",
      "pygments_lexer": "ipython3",
      "version": "3.8.5"
    },
    "colab": {
      "provenance": [],
      "include_colab_link": true
    }
  },
  "nbformat": 4,
  "nbformat_minor": 0
}