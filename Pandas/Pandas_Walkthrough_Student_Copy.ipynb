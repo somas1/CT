{
  "cells": [
    {
      "cell_type": "markdown",
      "metadata": {
        "id": "view-in-github",
        "colab_type": "text"
      },
      "source": [
        "<a href=\"https://colab.research.google.com/github/somas1/CT/blob/main/Pandas/Pandas_Walkthrough_Student_Copy.ipynb\" target=\"_parent\"><img src=\"https://colab.research.google.com/assets/colab-badge.svg\" alt=\"Open In Colab\"/></a>"
      ]
    },
    {
      "cell_type": "markdown",
      "metadata": {
        "id": "xi-nlb5ZkfFs"
      },
      "source": [
        "# Data Science Pandas"
      ]
    },
    {
      "cell_type": "markdown",
      "metadata": {
        "id": "iWsVGzc9kfFt"
      },
      "source": [
        "## Tasks Today:\n",
        "\n",
        "0) <b>Pre-Work</b> <br>\n",
        " &nbsp;&nbsp;&nbsp;&nbsp; a) Numpy Random Sampling\n",
        "\n",
        "1) <b>Pandas</b> <br>\n",
        " &nbsp;&nbsp;&nbsp;&nbsp; a) Importing <br>\n",
        " &nbsp;&nbsp;&nbsp;&nbsp; b) Tabular Data Structures <br>\n",
        " &nbsp;&nbsp;&nbsp;&nbsp;&nbsp;&nbsp;&nbsp;&nbsp; - from_dict() <br>\n",
        " &nbsp;&nbsp;&nbsp;&nbsp;&nbsp;&nbsp;&nbsp;&nbsp; - read_csv() <br>\n",
        " &nbsp;&nbsp;&nbsp;&nbsp; c) <b>In-Class Exercise #1</b> <br>\n",
        " &nbsp;&nbsp;&nbsp;&nbsp; d) Accessing Data <br>\n",
        " &nbsp;&nbsp;&nbsp;&nbsp;&nbsp;&nbsp;&nbsp;&nbsp; - Indexing <br>\n",
        " &nbsp;&nbsp;&nbsp;&nbsp;&nbsp;&nbsp;&nbsp;&nbsp; - df.loc <br>\n",
        " &nbsp;&nbsp;&nbsp;&nbsp;&nbsp;&nbsp;&nbsp;&nbsp; - keys() <br>\n",
        " &nbsp;&nbsp;&nbsp;&nbsp;&nbsp;&nbsp;&nbsp;&nbsp; - Slicing a DataFrame <br>\n",
        " &nbsp;&nbsp;&nbsp;&nbsp; e) Built-In Methods <br>\n",
        " &nbsp;&nbsp;&nbsp;&nbsp;&nbsp;&nbsp;&nbsp;&nbsp; - head() <br>\n",
        " &nbsp;&nbsp;&nbsp;&nbsp;&nbsp;&nbsp;&nbsp;&nbsp; - tail() <br>\n",
        " &nbsp;&nbsp;&nbsp;&nbsp;&nbsp;&nbsp;&nbsp;&nbsp; - shape <br>\n",
        " &nbsp;&nbsp;&nbsp;&nbsp;&nbsp;&nbsp;&nbsp;&nbsp; - describe() <br>\n",
        " &nbsp;&nbsp;&nbsp;&nbsp;&nbsp;&nbsp;&nbsp;&nbsp; - sort_values() <br>\n",
        " &nbsp;&nbsp;&nbsp;&nbsp;&nbsp;&nbsp;&nbsp;&nbsp; - .columns <br>\n",
        " &nbsp;&nbsp;&nbsp;&nbsp; f) <b>In-Class Exercise #2</b> <br>\n",
        " &nbsp;&nbsp;&nbsp;&nbsp; g) Filtration <br>\n",
        " &nbsp;&nbsp;&nbsp;&nbsp;&nbsp;&nbsp;&nbsp;&nbsp; - Conditionals <br>\n",
        " &nbsp;&nbsp;&nbsp;&nbsp;&nbsp;&nbsp;&nbsp;&nbsp; - Subsetting <br>\n",
        " &nbsp;&nbsp;&nbsp;&nbsp; h) Column Transformations <br>\n",
        " &nbsp;&nbsp;&nbsp;&nbsp;&nbsp;&nbsp;&nbsp;&nbsp; - Generating a New Column w/Data <br>\n",
        " &nbsp;&nbsp;&nbsp;&nbsp;&nbsp;&nbsp;&nbsp;&nbsp; - User Defined Function <br>\n",
        " &nbsp;&nbsp;&nbsp;&nbsp; i) Aggregations <br>\n",
        " &nbsp;&nbsp;&nbsp;&nbsp;&nbsp;&nbsp;&nbsp;&nbsp; - groupby() <br>\n",
        " &nbsp;&nbsp;&nbsp;&nbsp;&nbsp;&nbsp;&nbsp;&nbsp; - Type of groupby() <br>\n",
        " &nbsp;&nbsp;&nbsp;&nbsp;&nbsp;&nbsp;&nbsp;&nbsp; - mean() <br>\n",
        " &nbsp;&nbsp;&nbsp;&nbsp;&nbsp;&nbsp;&nbsp;&nbsp; - groupby() w/Multiple Columns <br>\n",
        " &nbsp;&nbsp;&nbsp;&nbsp;&nbsp;&nbsp;&nbsp;&nbsp; - drop_duplicates() <br>"
      ]
    },
    {
      "cell_type": "markdown",
      "metadata": {
        "id": "VTDD4uWGkfFu"
      },
      "source": [
        "## Numpy Random Sampling"
      ]
    },
    {
      "cell_type": "code",
      "execution_count": 8,
      "metadata": {
        "id": "8r0oaRi1kfFu",
        "colab": {
          "base_uri": "https://localhost:8080/"
        },
        "outputId": "ce1bca6d-190c-4db5-f687-ad4c6f099552"
      },
      "outputs": [
        {
          "output_type": "stream",
          "name": "stdout",
          "text": [
            "Here is a random number: 0.07346789998211134\n",
            "Here is a random number: 0.9219821704512818\n",
            "Here is a random number between 0 and 1 Million: 528469.8441577986\n",
            "Here are 3 random numbers between 0 and 10: [5.29617326 2.35931322 8.44232327]\n",
            "Here is a 3x3 matrix with numbers between 0 and 10: \n",
            " [[8.85678592 2.11929587 6.39482645]\n",
            " [2.8122567  3.99185388 4.41248124]\n",
            " [7.66665173 8.42651462 5.94961096]]\n",
            "Using Random Integer: [3 4 5 3]\n"
          ]
        }
      ],
      "source": [
        "import numpy as np\n",
        "\n",
        "# np.random.uniform()\n",
        "\n",
        "# A single call generates a single random number between 0 and 1\n",
        "\n",
        "print('Here is a random number: %s' % np.random.uniform())\n",
        "print(f'Here is a random number: {np.random.uniform()}')\n",
        "\n",
        "# You can also pass some parameters or bounds\n",
        "\n",
        "print('Here is a random number between 0 and 1 Million: %s' % np.random.uniform(0, 1e6))\n",
        "\n",
        "# You can also generate a bunch of random numbers all at once\n",
        "\n",
        "print('Here are 3 random numbers between 0 and 10: %s' % np.random.uniform(0, 10, 3))\n",
        "\n",
        "# Even matrices with shapes as a parameter\n",
        "\n",
        "print('Here is a 3x3 matrix with numbers between 0 and 10: \\n %s' % np.random.uniform(0, 10, (3, 3)))\n",
        "\n",
        "# Instead of float values, generating random integers\n",
        "print('Using Random Integer: %s' % np.random.randint(0, 10, 4))\n"
      ]
    },
    {
      "cell_type": "markdown",
      "metadata": {
        "id": "vVThqbgLkfFu"
      },
      "source": [
        "## Pandas <br>\n",
        "\n",
        "<p>Pandas is a flexible data analysis library built on top of NumPy that is excellent for working with tabular data. It is currently the de-facto standard for Python-based data analysis, and fluency in Pandas will do wonders for your productivity and frankly your resume. It is one of the fastest ways of getting from zero to answer in existence. </p>\n",
        "\n",
        "<ul>\n",
        "    <li>Pandas is a Python module, written in C. The Pandas module is a high performance, highly efficient, and high level data analysis library. It allows us to work with large sets of data called dataframes.</li>\n",
        "    <li>Series is a one-dimensional labeled array capable of holding data of any type (integer, string, float, python objects, etc.)</li>\n",
        "    <li>Dataframe = Spreadsheet (has column headers, index, etc.)</li>\n",
        "</ul>"
      ]
    },
    {
      "cell_type": "markdown",
      "metadata": {
        "id": "N27f3RAbkfFu"
      },
      "source": [
        "### Importing"
      ]
    },
    {
      "cell_type": "code",
      "execution_count": 9,
      "metadata": {
        "id": "LA2HMZoykfFv",
        "colab": {
          "base_uri": "https://localhost:8080/"
        },
        "outputId": "f7750255-0470-42df-a182-ff064b2ccacd"
      },
      "outputs": [
        {
          "output_type": "stream",
          "name": "stdout",
          "text": [
            "Requirement already satisfied: pandas in /usr/local/lib/python3.10/dist-packages (1.5.3)\n",
            "Requirement already satisfied: python-dateutil>=2.8.1 in /usr/local/lib/python3.10/dist-packages (from pandas) (2.8.2)\n",
            "Requirement already satisfied: pytz>=2020.1 in /usr/local/lib/python3.10/dist-packages (from pandas) (2023.3.post1)\n",
            "Requirement already satisfied: numpy>=1.21.0 in /usr/local/lib/python3.10/dist-packages (from pandas) (1.23.5)\n",
            "Requirement already satisfied: six>=1.5 in /usr/local/lib/python3.10/dist-packages (from python-dateutil>=2.8.1->pandas) (1.16.0)\n"
          ]
        }
      ],
      "source": [
        "!pip install pandas"
      ]
    },
    {
      "cell_type": "code",
      "execution_count": 10,
      "metadata": {
        "id": "ThONgtMAkfFv"
      },
      "outputs": [],
      "source": [
        "import pandas as pd\n",
        "\n",
        "# always use pd, standard for data science"
      ]
    },
    {
      "cell_type": "markdown",
      "metadata": {
        "id": "BwQhKpYckfFv"
      },
      "source": [
        "### Tabular data structures <br>\n",
        "<p>The central object of study in Pandas is the DataFrame, which is a tabular data structure with rows and columns like an excel spreadsheet. The first point of discussion is the creation of dataframes both from native Python dictionaries, and text files through the Pandas I/O system.</p>"
      ]
    },
    {
      "cell_type": "code",
      "execution_count": 15,
      "metadata": {
        "scrolled": true,
        "id": "5We-cGkvkfFv",
        "colab": {
          "base_uri": "https://localhost:8080/"
        },
        "outputId": "e37d5c7d-a260-4037-990c-4c4386d0e492"
      },
      "outputs": [
        {
          "output_type": "execute_result",
          "data": {
            "text/plain": [
              "{'names': ['Alice',\n",
              "  'Bob',\n",
              "  'James',\n",
              "  'Beth',\n",
              "  'John',\n",
              "  'Sally',\n",
              "  'Richard',\n",
              "  'Lauren',\n",
              "  'Brandon',\n",
              "  'Sabrina'],\n",
              " 'ages': array([33, 21, 30, 20, 20, 25, 34, 27, 34, 27])}"
            ]
          },
          "metadata": {},
          "execution_count": 15
        }
      ],
      "source": [
        "names = ['Alice', 'Bob', 'James', 'Beth', 'John', 'Sally', 'Richard', 'Lauren', 'Brandon', 'Sabrina']\n",
        "\n",
        "ages = np.random.randint(18,35,len(names))\n",
        "\n",
        "my_people = {\n",
        "    'names' : names,\n",
        "    'ages' : ages\n",
        "}\n",
        "\n",
        "my_people\n",
        "\n",
        "\n"
      ]
    },
    {
      "cell_type": "markdown",
      "metadata": {
        "id": "qXwpSOXYkfFv"
      },
      "source": [
        "##### from_dict()\n",
        "\n",
        "<p>Let's convert our not-so-useful-for-analysis dict into a Pandas dataframe. We can use the from_dict function to do this easily using Pandas:</p>"
      ]
    },
    {
      "cell_type": "code",
      "execution_count": 16,
      "metadata": {
        "scrolled": false,
        "id": "CmLxTVNRkfFw",
        "colab": {
          "base_uri": "https://localhost:8080/",
          "height": 359
        },
        "outputId": "bee68e5e-9539-475d-f404-0856abea4a8f"
      },
      "outputs": [
        {
          "output_type": "execute_result",
          "data": {
            "text/plain": [
              "     names  ages\n",
              "0    Alice    33\n",
              "1      Bob    21\n",
              "2    James    30\n",
              "3     Beth    20\n",
              "4     John    20\n",
              "5    Sally    25\n",
              "6  Richard    34\n",
              "7   Lauren    27\n",
              "8  Brandon    34\n",
              "9  Sabrina    27"
            ],
            "text/html": [
              "\n",
              "  <div id=\"df-e84dffd8-57a9-4228-b0c4-0ea93a45acdd\" class=\"colab-df-container\">\n",
              "    <div>\n",
              "<style scoped>\n",
              "    .dataframe tbody tr th:only-of-type {\n",
              "        vertical-align: middle;\n",
              "    }\n",
              "\n",
              "    .dataframe tbody tr th {\n",
              "        vertical-align: top;\n",
              "    }\n",
              "\n",
              "    .dataframe thead th {\n",
              "        text-align: right;\n",
              "    }\n",
              "</style>\n",
              "<table border=\"1\" class=\"dataframe\">\n",
              "  <thead>\n",
              "    <tr style=\"text-align: right;\">\n",
              "      <th></th>\n",
              "      <th>names</th>\n",
              "      <th>ages</th>\n",
              "    </tr>\n",
              "  </thead>\n",
              "  <tbody>\n",
              "    <tr>\n",
              "      <th>0</th>\n",
              "      <td>Alice</td>\n",
              "      <td>33</td>\n",
              "    </tr>\n",
              "    <tr>\n",
              "      <th>1</th>\n",
              "      <td>Bob</td>\n",
              "      <td>21</td>\n",
              "    </tr>\n",
              "    <tr>\n",
              "      <th>2</th>\n",
              "      <td>James</td>\n",
              "      <td>30</td>\n",
              "    </tr>\n",
              "    <tr>\n",
              "      <th>3</th>\n",
              "      <td>Beth</td>\n",
              "      <td>20</td>\n",
              "    </tr>\n",
              "    <tr>\n",
              "      <th>4</th>\n",
              "      <td>John</td>\n",
              "      <td>20</td>\n",
              "    </tr>\n",
              "    <tr>\n",
              "      <th>5</th>\n",
              "      <td>Sally</td>\n",
              "      <td>25</td>\n",
              "    </tr>\n",
              "    <tr>\n",
              "      <th>6</th>\n",
              "      <td>Richard</td>\n",
              "      <td>34</td>\n",
              "    </tr>\n",
              "    <tr>\n",
              "      <th>7</th>\n",
              "      <td>Lauren</td>\n",
              "      <td>27</td>\n",
              "    </tr>\n",
              "    <tr>\n",
              "      <th>8</th>\n",
              "      <td>Brandon</td>\n",
              "      <td>34</td>\n",
              "    </tr>\n",
              "    <tr>\n",
              "      <th>9</th>\n",
              "      <td>Sabrina</td>\n",
              "      <td>27</td>\n",
              "    </tr>\n",
              "  </tbody>\n",
              "</table>\n",
              "</div>\n",
              "    <div class=\"colab-df-buttons\">\n",
              "\n",
              "  <div class=\"colab-df-container\">\n",
              "    <button class=\"colab-df-convert\" onclick=\"convertToInteractive('df-e84dffd8-57a9-4228-b0c4-0ea93a45acdd')\"\n",
              "            title=\"Convert this dataframe to an interactive table.\"\n",
              "            style=\"display:none;\">\n",
              "\n",
              "  <svg xmlns=\"http://www.w3.org/2000/svg\" height=\"24px\" viewBox=\"0 -960 960 960\">\n",
              "    <path d=\"M120-120v-720h720v720H120Zm60-500h600v-160H180v160Zm220 220h160v-160H400v160Zm0 220h160v-160H400v160ZM180-400h160v-160H180v160Zm440 0h160v-160H620v160ZM180-180h160v-160H180v160Zm440 0h160v-160H620v160Z\"/>\n",
              "  </svg>\n",
              "    </button>\n",
              "\n",
              "  <style>\n",
              "    .colab-df-container {\n",
              "      display:flex;\n",
              "      gap: 12px;\n",
              "    }\n",
              "\n",
              "    .colab-df-convert {\n",
              "      background-color: #E8F0FE;\n",
              "      border: none;\n",
              "      border-radius: 50%;\n",
              "      cursor: pointer;\n",
              "      display: none;\n",
              "      fill: #1967D2;\n",
              "      height: 32px;\n",
              "      padding: 0 0 0 0;\n",
              "      width: 32px;\n",
              "    }\n",
              "\n",
              "    .colab-df-convert:hover {\n",
              "      background-color: #E2EBFA;\n",
              "      box-shadow: 0px 1px 2px rgba(60, 64, 67, 0.3), 0px 1px 3px 1px rgba(60, 64, 67, 0.15);\n",
              "      fill: #174EA6;\n",
              "    }\n",
              "\n",
              "    .colab-df-buttons div {\n",
              "      margin-bottom: 4px;\n",
              "    }\n",
              "\n",
              "    [theme=dark] .colab-df-convert {\n",
              "      background-color: #3B4455;\n",
              "      fill: #D2E3FC;\n",
              "    }\n",
              "\n",
              "    [theme=dark] .colab-df-convert:hover {\n",
              "      background-color: #434B5C;\n",
              "      box-shadow: 0px 1px 3px 1px rgba(0, 0, 0, 0.15);\n",
              "      filter: drop-shadow(0px 1px 2px rgba(0, 0, 0, 0.3));\n",
              "      fill: #FFFFFF;\n",
              "    }\n",
              "  </style>\n",
              "\n",
              "    <script>\n",
              "      const buttonEl =\n",
              "        document.querySelector('#df-e84dffd8-57a9-4228-b0c4-0ea93a45acdd button.colab-df-convert');\n",
              "      buttonEl.style.display =\n",
              "        google.colab.kernel.accessAllowed ? 'block' : 'none';\n",
              "\n",
              "      async function convertToInteractive(key) {\n",
              "        const element = document.querySelector('#df-e84dffd8-57a9-4228-b0c4-0ea93a45acdd');\n",
              "        const dataTable =\n",
              "          await google.colab.kernel.invokeFunction('convertToInteractive',\n",
              "                                                    [key], {});\n",
              "        if (!dataTable) return;\n",
              "\n",
              "        const docLinkHtml = 'Like what you see? Visit the ' +\n",
              "          '<a target=\"_blank\" href=https://colab.research.google.com/notebooks/data_table.ipynb>data table notebook</a>'\n",
              "          + ' to learn more about interactive tables.';\n",
              "        element.innerHTML = '';\n",
              "        dataTable['output_type'] = 'display_data';\n",
              "        await google.colab.output.renderOutput(dataTable, element);\n",
              "        const docLink = document.createElement('div');\n",
              "        docLink.innerHTML = docLinkHtml;\n",
              "        element.appendChild(docLink);\n",
              "      }\n",
              "    </script>\n",
              "  </div>\n",
              "\n",
              "\n",
              "<div id=\"df-6465abf1-fb83-4b15-b1dc-511e81deff3f\">\n",
              "  <button class=\"colab-df-quickchart\" onclick=\"quickchart('df-6465abf1-fb83-4b15-b1dc-511e81deff3f')\"\n",
              "            title=\"Suggest charts\"\n",
              "            style=\"display:none;\">\n",
              "\n",
              "<svg xmlns=\"http://www.w3.org/2000/svg\" height=\"24px\"viewBox=\"0 0 24 24\"\n",
              "     width=\"24px\">\n",
              "    <g>\n",
              "        <path d=\"M19 3H5c-1.1 0-2 .9-2 2v14c0 1.1.9 2 2 2h14c1.1 0 2-.9 2-2V5c0-1.1-.9-2-2-2zM9 17H7v-7h2v7zm4 0h-2V7h2v10zm4 0h-2v-4h2v4z\"/>\n",
              "    </g>\n",
              "</svg>\n",
              "  </button>\n",
              "\n",
              "<style>\n",
              "  .colab-df-quickchart {\n",
              "      --bg-color: #E8F0FE;\n",
              "      --fill-color: #1967D2;\n",
              "      --hover-bg-color: #E2EBFA;\n",
              "      --hover-fill-color: #174EA6;\n",
              "      --disabled-fill-color: #AAA;\n",
              "      --disabled-bg-color: #DDD;\n",
              "  }\n",
              "\n",
              "  [theme=dark] .colab-df-quickchart {\n",
              "      --bg-color: #3B4455;\n",
              "      --fill-color: #D2E3FC;\n",
              "      --hover-bg-color: #434B5C;\n",
              "      --hover-fill-color: #FFFFFF;\n",
              "      --disabled-bg-color: #3B4455;\n",
              "      --disabled-fill-color: #666;\n",
              "  }\n",
              "\n",
              "  .colab-df-quickchart {\n",
              "    background-color: var(--bg-color);\n",
              "    border: none;\n",
              "    border-radius: 50%;\n",
              "    cursor: pointer;\n",
              "    display: none;\n",
              "    fill: var(--fill-color);\n",
              "    height: 32px;\n",
              "    padding: 0;\n",
              "    width: 32px;\n",
              "  }\n",
              "\n",
              "  .colab-df-quickchart:hover {\n",
              "    background-color: var(--hover-bg-color);\n",
              "    box-shadow: 0 1px 2px rgba(60, 64, 67, 0.3), 0 1px 3px 1px rgba(60, 64, 67, 0.15);\n",
              "    fill: var(--button-hover-fill-color);\n",
              "  }\n",
              "\n",
              "  .colab-df-quickchart-complete:disabled,\n",
              "  .colab-df-quickchart-complete:disabled:hover {\n",
              "    background-color: var(--disabled-bg-color);\n",
              "    fill: var(--disabled-fill-color);\n",
              "    box-shadow: none;\n",
              "  }\n",
              "\n",
              "  .colab-df-spinner {\n",
              "    border: 2px solid var(--fill-color);\n",
              "    border-color: transparent;\n",
              "    border-bottom-color: var(--fill-color);\n",
              "    animation:\n",
              "      spin 1s steps(1) infinite;\n",
              "  }\n",
              "\n",
              "  @keyframes spin {\n",
              "    0% {\n",
              "      border-color: transparent;\n",
              "      border-bottom-color: var(--fill-color);\n",
              "      border-left-color: var(--fill-color);\n",
              "    }\n",
              "    20% {\n",
              "      border-color: transparent;\n",
              "      border-left-color: var(--fill-color);\n",
              "      border-top-color: var(--fill-color);\n",
              "    }\n",
              "    30% {\n",
              "      border-color: transparent;\n",
              "      border-left-color: var(--fill-color);\n",
              "      border-top-color: var(--fill-color);\n",
              "      border-right-color: var(--fill-color);\n",
              "    }\n",
              "    40% {\n",
              "      border-color: transparent;\n",
              "      border-right-color: var(--fill-color);\n",
              "      border-top-color: var(--fill-color);\n",
              "    }\n",
              "    60% {\n",
              "      border-color: transparent;\n",
              "      border-right-color: var(--fill-color);\n",
              "    }\n",
              "    80% {\n",
              "      border-color: transparent;\n",
              "      border-right-color: var(--fill-color);\n",
              "      border-bottom-color: var(--fill-color);\n",
              "    }\n",
              "    90% {\n",
              "      border-color: transparent;\n",
              "      border-bottom-color: var(--fill-color);\n",
              "    }\n",
              "  }\n",
              "</style>\n",
              "\n",
              "  <script>\n",
              "    async function quickchart(key) {\n",
              "      const quickchartButtonEl =\n",
              "        document.querySelector('#' + key + ' button');\n",
              "      quickchartButtonEl.disabled = true;  // To prevent multiple clicks.\n",
              "      quickchartButtonEl.classList.add('colab-df-spinner');\n",
              "      try {\n",
              "        const charts = await google.colab.kernel.invokeFunction(\n",
              "            'suggestCharts', [key], {});\n",
              "      } catch (error) {\n",
              "        console.error('Error during call to suggestCharts:', error);\n",
              "      }\n",
              "      quickchartButtonEl.classList.remove('colab-df-spinner');\n",
              "      quickchartButtonEl.classList.add('colab-df-quickchart-complete');\n",
              "    }\n",
              "    (() => {\n",
              "      let quickchartButtonEl =\n",
              "        document.querySelector('#df-6465abf1-fb83-4b15-b1dc-511e81deff3f button');\n",
              "      quickchartButtonEl.style.display =\n",
              "        google.colab.kernel.accessAllowed ? 'block' : 'none';\n",
              "    })();\n",
              "  </script>\n",
              "</div>\n",
              "    </div>\n",
              "  </div>\n"
            ]
          },
          "metadata": {},
          "execution_count": 16
        }
      ],
      "source": [
        "data = pd.DataFrame.from_dict(my_people)\n",
        "\n",
        "data"
      ]
    },
    {
      "cell_type": "markdown",
      "metadata": {
        "id": "Gg88mAIAkfFw"
      },
      "source": [
        "##### read_csv()"
      ]
    },
    {
      "cell_type": "code",
      "execution_count": null,
      "metadata": {
        "scrolled": true,
        "id": "ccN_7u0rkfFw"
      },
      "outputs": [],
      "source": [
        "# pd.set_option('display.max_columns', None)\n",
        "# pd.set_option('display.max_rows', None)\n",
        "\n"
      ]
    },
    {
      "cell_type": "markdown",
      "metadata": {
        "id": "1xIcrICTkfFw"
      },
      "source": [
        "### In-Class Exercise #1 - Read in Boston Red Sox Hitting Data <br>\n",
        "<p>Use the pandas read_csv() method to read in the statistics from the two files yesterday.</p>"
      ]
    },
    {
      "cell_type": "code",
      "execution_count": null,
      "metadata": {
        "id": "ROuu4l6TkfFw"
      },
      "outputs": [],
      "source": []
    },
    {
      "cell_type": "markdown",
      "metadata": {
        "id": "m6OHXrJKkfFw"
      },
      "source": [
        "### Accessing Data <br>"
      ]
    },
    {
      "cell_type": "markdown",
      "metadata": {
        "id": "ZJeIBzBXkfFw"
      },
      "source": [
        "##### Indexing\n",
        "\n",
        "<p>You can directly select a column of a dataframe just like you would a dict. The result is a Pandas 'Series' object.</p>"
      ]
    },
    {
      "cell_type": "code",
      "execution_count": null,
      "metadata": {
        "id": "AWfkbJ-RkfFw"
      },
      "outputs": [],
      "source": []
    },
    {
      "cell_type": "markdown",
      "metadata": {
        "id": "3jKnhvAqkfFw"
      },
      "source": [
        "##### df.loc"
      ]
    },
    {
      "cell_type": "markdown",
      "metadata": {
        "id": "_MB3xO2xkfFw"
      },
      "source": [
        "<p>Along the horizontal dimension, rows of Pandas DataFrames are Row objects. You will notice there is a third column present in the DataFrame - this is the $\\textit{index}$. It is automatically generated as a row number, but can be reassigned to a column of your choice using the DataFrame.set_index(colname) method. We can use it to access particular Pandas $\\textit{rows}$, which are also Series objects:</p>"
      ]
    },
    {
      "cell_type": "code",
      "execution_count": null,
      "metadata": {
        "id": "dhbbmXPBkfFw"
      },
      "outputs": [],
      "source": []
    },
    {
      "cell_type": "markdown",
      "metadata": {
        "id": "vi_HIQ5dkfFx"
      },
      "source": [
        "##### keys()"
      ]
    },
    {
      "cell_type": "code",
      "execution_count": null,
      "metadata": {
        "id": "67ZVdyrWkfFx"
      },
      "outputs": [],
      "source": [
        "# Access all of the keys/columns of the dataframe\n",
        "# Dataframe.keys()\n"
      ]
    },
    {
      "cell_type": "markdown",
      "metadata": {
        "id": "_SgchUevkfFx"
      },
      "source": [
        "##### Slicing a DataFrame"
      ]
    },
    {
      "cell_type": "code",
      "execution_count": null,
      "metadata": {
        "id": "jBkqddnekfFx"
      },
      "outputs": [],
      "source": [
        "# printing all data for context\n"
      ]
    },
    {
      "cell_type": "markdown",
      "metadata": {
        "id": "iVO4UxqDkfFx"
      },
      "source": [
        "### Built-In Methods <br>\n",
        "\n",
        "<p>These are methods that are frequently used when using Pandas to make your life easier. It is possible to spend a whole week simply exploring the built-in functions supported by DataFrames in Pandas. Here however, we will simply highlight a few ones that might be useful, to give you an idea of what's possible out of the box with Pandas:</p>"
      ]
    },
    {
      "cell_type": "markdown",
      "metadata": {
        "id": "WO7XqXgSkfFx"
      },
      "source": [
        "##### head()"
      ]
    },
    {
      "cell_type": "code",
      "execution_count": null,
      "metadata": {
        "scrolled": true,
        "id": "5s4buzAnkfFx"
      },
      "outputs": [],
      "source": [
        "# DataFrame.head()  -- Accepts integer parameter(gives access to more rows)\n"
      ]
    },
    {
      "cell_type": "markdown",
      "metadata": {
        "id": "9woEzVd1kfFx"
      },
      "source": [
        "##### tail()"
      ]
    },
    {
      "cell_type": "code",
      "execution_count": null,
      "metadata": {
        "scrolled": false,
        "id": "BOyv1neFkfFy"
      },
      "outputs": [],
      "source": [
        "# DataFrame.tail()  -- Accepts integer parameter(gives access to more rows)\n"
      ]
    },
    {
      "cell_type": "markdown",
      "metadata": {
        "id": "yz3kqT9lkfFy"
      },
      "source": [
        "##### shape"
      ]
    },
    {
      "cell_type": "code",
      "execution_count": null,
      "metadata": {
        "id": "iGxfHoPikfFy"
      },
      "outputs": [],
      "source": [
        "# The dataframe has a shape property, just like a NumPy matrix.\n",
        "# print(df.shape) -- DataFrame.shape -- No Parameter\n",
        "\n",
        "\n",
        "\n"
      ]
    },
    {
      "cell_type": "markdown",
      "metadata": {
        "id": "DxjYq4jBkfFy"
      },
      "source": [
        "##### describe() <br>\n",
        "<p>Probably one of the most important methods to understand...</p>"
      ]
    },
    {
      "cell_type": "code",
      "execution_count": null,
      "metadata": {
        "id": "L98mfOhOkfFy"
      },
      "outputs": [],
      "source": [
        "# Collect summary statistics in one line\n",
        "# DataFrame.describe() -- Accepts parameters (include, exclude)\n"
      ]
    },
    {
      "cell_type": "markdown",
      "metadata": {
        "id": "C16n1_txkfFy"
      },
      "source": [
        "##### sort_values()"
      ]
    },
    {
      "cell_type": "code",
      "execution_count": null,
      "metadata": {
        "id": "D2NtPUMTkfFy"
      },
      "outputs": [],
      "source": [
        "# Sort based on many labels, with left-to-right priority\n",
        "# sorted_data = data.sort_values('ages').reset_index()\n",
        "\n",
        "# DataFrame.sort_values('key')\n",
        "\n"
      ]
    },
    {
      "cell_type": "markdown",
      "metadata": {
        "id": "nBg5kDnykfFy"
      },
      "source": [
        "##### .columns"
      ]
    },
    {
      "cell_type": "code",
      "execution_count": null,
      "metadata": {
        "id": "FRWxxEhbkfFy"
      },
      "outputs": [],
      "source": [
        "# will show all cols headers\n",
        "# DataFrame.columns -- has no parameters\n",
        "\n",
        "\n",
        "# Keys brings back the 'index' of whatever data type we are working with\n"
      ]
    },
    {
      "cell_type": "markdown",
      "metadata": {
        "id": "sHDHTGd9kfFy"
      },
      "source": [
        "### In-Class Exercise #2 - Describe & Sort Boston Red Sox Hitting Data <br>\n",
        "<p>Take the data that you read in earlier from the Red Sox csv's and use the describe method to understand the data better. Compare the two years and decide which team is having the better year. Then sort the values based on Batting Average.</p>"
      ]
    },
    {
      "cell_type": "code",
      "execution_count": null,
      "metadata": {
        "id": "pcbqzla_kfFy"
      },
      "outputs": [],
      "source": []
    },
    {
      "cell_type": "markdown",
      "metadata": {
        "id": "V2LigfiNkfFz"
      },
      "source": [
        "### Filtration <br>\n",
        "<p>Let's look at how to filter dataframes for rows that fulfill a specific conditon.</p>"
      ]
    },
    {
      "cell_type": "markdown",
      "metadata": {
        "id": "Ab5C-x6jkfFz"
      },
      "source": [
        "##### Conditionals"
      ]
    },
    {
      "cell_type": "code",
      "execution_count": null,
      "metadata": {
        "id": "y3q5mgT4kfFz"
      },
      "outputs": [],
      "source": [
        "# Conditional boolean dataframe\n"
      ]
    },
    {
      "cell_type": "markdown",
      "metadata": {
        "id": "1SNXcy0HkfFz"
      },
      "source": [
        "##### Subsetting"
      ]
    },
    {
      "cell_type": "code",
      "execution_count": null,
      "metadata": {
        "id": "kgSVEAn3kfFz"
      },
      "outputs": [],
      "source": [
        "# exactly like numpy\n"
      ]
    },
    {
      "cell_type": "markdown",
      "metadata": {
        "id": "GTbbEKJVkfFz"
      },
      "source": [
        "### Column Transformations <br>\n",
        "<p>Rarely, if ever, will the columns in the original raw dataframe read from CSV or database table be the ones you actually need for your analysis. You will spend lots of time constantly transforming columns or groups of columns using general computational operations to produce new ones that are functions of the old ones. Pandas has full support for this: Consider the following dataframe containing membership term and renewal number for a group of customers:</p>"
      ]
    },
    {
      "cell_type": "code",
      "execution_count": null,
      "metadata": {
        "id": "9QFwRux-kfFz"
      },
      "outputs": [],
      "source": [
        "# Generate some fake data\n"
      ]
    },
    {
      "cell_type": "markdown",
      "metadata": {
        "id": "C72VxJeZkfFz"
      },
      "source": [
        "##### Generating a New Column w/Data"
      ]
    },
    {
      "cell_type": "code",
      "execution_count": null,
      "metadata": {
        "id": "3mn5sCRGkfFz"
      },
      "outputs": [],
      "source": [
        "# DataFrame['key'] = Some Calculation from our DataFrame Columns\n"
      ]
    },
    {
      "cell_type": "markdown",
      "metadata": {
        "id": "R1vZu8rxkfF0"
      },
      "source": [
        "##### User Defined Function\n",
        "\n",
        "<p>If what you want to do to a column that can't be represented by simple mathematical operations, you can write your own $\\textit{user defined function}$ with the full customizability available in Python and any external Python packages, then map it directly onto a column. Let's add some ages to our customer dataframe, and then classify them into our custom defined grouping scheme:</p>"
      ]
    },
    {
      "cell_type": "code",
      "execution_count": null,
      "metadata": {
        "scrolled": true,
        "id": "JcRsKNKWkfF0"
      },
      "outputs": [],
      "source": [
        "# use .apply to map over dataframe\n",
        "\n",
        "# Create a new column for ages\n",
        "# customers['ages'] = np.random.randint(18,70,10)\n",
        "\n",
        "# User defined function\n",
        "\n",
        "\n",
        "# print(make_age_groups)\n"
      ]
    },
    {
      "cell_type": "markdown",
      "metadata": {
        "id": "ccSbQAvBkfF0"
      },
      "source": [
        "<p>As a last example I'll show here how you would use a lambda function to create a UDF that depends on $\\textit{more than one}$ column:</p>\n",
        "\n",
        "<li>UDF = User Defined Function</li>"
      ]
    },
    {
      "cell_type": "code",
      "execution_count": null,
      "metadata": {
        "id": "HY_CHLV7kfF0"
      },
      "outputs": [],
      "source": [
        "#Axis for apply can only be 1 or 0 -- 1 being the X axis 0 being the Y axis\n"
      ]
    },
    {
      "cell_type": "markdown",
      "metadata": {
        "id": "Yb0bjrWZkfF0"
      },
      "source": [
        "### In-Class Exercise #3 - Create Your Own UDF <br>\n",
        "<p>Using the Boston Red Sox data, create your own UDF which creates a new column called 'All-Star' and puts every player with either a batting average over .280 or an on base percentage of over .360 with a result of 'Yes' in the column and 'No' if not.</p>"
      ]
    },
    {
      "cell_type": "code",
      "execution_count": null,
      "metadata": {
        "id": "BlDazQMokfF0"
      },
      "outputs": [],
      "source": [
        "\"\"\"\n",
        "    Name  BA OBP AllStar\n",
        "    --------------------\n",
        "    Name .233 .360 Yes\n",
        "    Name .150 .288 No\n",
        "\"\"\"\n"
      ]
    },
    {
      "cell_type": "markdown",
      "metadata": {
        "id": "5QZKjzWXkfF0"
      },
      "source": [
        "### Aggregations <br>\n",
        "<p>The raw data plus some transformations is generally only half the story. Your objective is to extract actual insights and actionable conclusions from the data, and that means reducing it from potentially billions of rows to some summary statistics via aggregation functions.</p>"
      ]
    },
    {
      "cell_type": "markdown",
      "metadata": {
        "id": "fyTYd1tNkfF0"
      },
      "source": [
        "##### groupby() <br>\n",
        "<p>The .groupby() function is in some ways a 'master' aggregation.</p>\n",
        "\n",
        "<p>Data tables will usually reserve one column as a primary key - that is, a column for which each row has a unique value. This is to facilitate access to the exact rows of a data table that a user wants to view. The other columns will often have repeated values, such as the age groups in the above examples. We can use these columns to explore the data using the Pandas API:</p>"
      ]
    },
    {
      "cell_type": "code",
      "execution_count": null,
      "metadata": {
        "id": "w9RmzJt5kfF0"
      },
      "outputs": [],
      "source": [
        "# also introducing .count() here, exact same as to how it's used in SQL\n",
        "\n",
        "# Using the groupby with the column intact as a column/key\n",
        "# customers.groupby('age_group', as_index = False).count()[['customer_id','age_group']]\n",
        "\n",
        "\n",
        "\n"
      ]
    },
    {
      "cell_type": "markdown",
      "metadata": {
        "id": "dj8ObR8YkfF0"
      },
      "source": [
        "##### Type of groupby()\n",
        "\n",
        "<p>The result is a new dataframe, the columns of which all contain the counts of the grouped field. Notice the type of a grouped dataframe:</p>"
      ]
    },
    {
      "cell_type": "code",
      "execution_count": null,
      "metadata": {
        "id": "GD6NLcj6kfF0"
      },
      "outputs": [],
      "source": []
    },
    {
      "cell_type": "markdown",
      "metadata": {
        "id": "23DjGHd8kfF0"
      },
      "source": [
        "<p>This is because simply grouping data doesn't quite make sense without an aggregation function like count() to pair with. In this case, we're counting occurances of the grouped field, but that's not all we can do. We can take averages, standard deviations, mins, maxes and much more! Let's see how this works a bit more:</p>"
      ]
    },
    {
      "cell_type": "markdown",
      "metadata": {
        "id": "F32-7kXbkfF0"
      },
      "source": [
        "##### mean()"
      ]
    },
    {
      "cell_type": "code",
      "execution_count": null,
      "metadata": {
        "id": "cLMDte3CkfF1"
      },
      "outputs": [],
      "source": [
        "# mean = average\n"
      ]
    },
    {
      "cell_type": "markdown",
      "metadata": {
        "id": "O9d5xNkkkfF1"
      },
      "source": [
        "##### groupby() w/Multiple Columns\n",
        "\n",
        "<p>We end up with the average age of the groups in the last column, the average tenure in the tenure column, and so on and so forth. You can even split the groups more finely by passing a list of columns to group by:</p>"
      ]
    },
    {
      "cell_type": "code",
      "execution_count": null,
      "metadata": {
        "id": "iwcxm3CGkfF1"
      },
      "outputs": [],
      "source": []
    },
    {
      "cell_type": "markdown",
      "metadata": {
        "id": "PBYkF_2VkfF1"
      },
      "source": [
        "##### drop_duplicates()\n",
        "\n",
        "<p>Drops all duplicates from the current dataframe</p>"
      ]
    },
    {
      "cell_type": "code",
      "execution_count": null,
      "metadata": {
        "id": "_MwoZ6RTkfF1"
      },
      "outputs": [],
      "source": []
    },
    {
      "cell_type": "code",
      "execution_count": null,
      "metadata": {
        "scrolled": true,
        "id": "SfAx6ryYkfF1"
      },
      "outputs": [],
      "source": []
    },
    {
      "cell_type": "code",
      "execution_count": null,
      "metadata": {
        "id": "Yz8FawwDkfF1"
      },
      "outputs": [],
      "source": [
        "# Send customer data into a CSV file\n"
      ]
    },
    {
      "cell_type": "markdown",
      "metadata": {
        "id": "9qGG-sHwkfF1"
      },
      "source": [
        "<p>Thus the groupby operation allows you to rapidly make summary observations about the state of your entire dataset at flexible granularity. In one line above, we actually did something very complicated - that's the power of the dataframe. In fact, the process often consists of several iterative groupby operations, each revealing greater insight than the last - if you don't know where to start with a dataset, try a bunch of groupbys!</p>"
      ]
    },
    {
      "cell_type": "markdown",
      "metadata": {
        "id": "JLB1TDJVkfF1"
      },
      "source": [
        "### Homework Excersise #1 - Find the Total Number of Runs and RBIs for the Red Sox <br>\n",
        "<p>Get total number of home runs and rbi's</p>"
      ]
    },
    {
      "cell_type": "code",
      "execution_count": null,
      "metadata": {
        "scrolled": true,
        "id": "hnd0IbdpkfF1"
      },
      "outputs": [],
      "source": [
        "# step 1: Add a new column with the key 'Team' and all column values should be 'BOS'\n",
        "\n",
        "# step 2: Group by the 'Team' column and get total home runs and rbi's\n",
        "\n",
        "# Produce data for both 2017 and 2018 (ie print both seperated by a newline character \\n)\n",
        "\n",
        "\"\"\"\n",
        "TEAM    HR   RBI\n",
        "----------------\n",
        "BOS     144  538\n",
        "\"\"\"\n"
      ]
    },
    {
      "cell_type": "markdown",
      "metadata": {
        "id": "HleuyErBkfF1"
      },
      "source": [
        "## Find the average age of runners in the 2017 Boston Marathon"
      ]
    },
    {
      "cell_type": "code",
      "execution_count": null,
      "metadata": {
        "id": "KHMfYgfUkfF1"
      },
      "outputs": [],
      "source": []
    }
  ],
  "metadata": {
    "kernelspec": {
      "display_name": "Python 3 (ipykernel)",
      "language": "python",
      "name": "python3"
    },
    "language_info": {
      "codemirror_mode": {
        "name": "ipython",
        "version": 3
      },
      "file_extension": ".py",
      "mimetype": "text/x-python",
      "name": "python",
      "nbconvert_exporter": "python",
      "pygments_lexer": "ipython3",
      "version": "3.9.7"
    },
    "colab": {
      "provenance": [],
      "include_colab_link": true
    }
  },
  "nbformat": 4,
  "nbformat_minor": 0
}