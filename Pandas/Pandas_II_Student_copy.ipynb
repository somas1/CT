{
  "cells": [
    {
      "cell_type": "markdown",
      "metadata": {
        "id": "view-in-github",
        "colab_type": "text"
      },
      "source": [
        "<a href=\"https://colab.research.google.com/github/somas1/CT/blob/main/Pandas/Pandas_II_Student_copy.ipynb\" target=\"_parent\"><img src=\"https://colab.research.google.com/assets/colab-badge.svg\" alt=\"Open In Colab\"/></a>"
      ]
    },
    {
      "cell_type": "markdown",
      "metadata": {
        "id": "wMptkgnWfm1g"
      },
      "source": [
        "# Data Science Pandas - Joins, Time Series & Rolling Statistics, SQL"
      ]
    },
    {
      "cell_type": "markdown",
      "metadata": {
        "id": "vTn2x3mpfm1j"
      },
      "source": [
        "## Tasks Today:\n",
        "\n",
        "1) <b>Pandas</b> <br>\n",
        " &nbsp;&nbsp;&nbsp;&nbsp; a) Joins <br>\n",
        " &nbsp;&nbsp;&nbsp;&nbsp;&nbsp;&nbsp;&nbsp;&nbsp; - merge() <br>\n",
        " &nbsp;&nbsp;&nbsp;&nbsp;&nbsp;&nbsp;&nbsp;&nbsp; - Breaking Down the Inner Join <br>\n",
        " &nbsp;&nbsp;&nbsp;&nbsp; b) Outer Joins <br>\n",
        " &nbsp;&nbsp;&nbsp;&nbsp;&nbsp;&nbsp;&nbsp;&nbsp; - Use Case Example <br>\n",
        " &nbsp;&nbsp;&nbsp;&nbsp; c) Rolling Statistics and Time Series w/Pandas <br>\n",
        " &nbsp;&nbsp;&nbsp;&nbsp;&nbsp;&nbsp;&nbsp;&nbsp; - read_csv() <br>\n",
        " &nbsp;&nbsp;&nbsp;&nbsp;&nbsp;&nbsp;&nbsp;&nbsp; - shift() <br>\n",
        " 2) <b> SQL </b> <br>\n",
        "      - Adding DataFrame to Database Table\n",
        "      - Reading SQL Query Result into DataFrame"
      ]
    },
    {
      "cell_type": "code",
      "execution_count": null,
      "metadata": {
        "id": "1n_guL5ofm1j"
      },
      "outputs": [],
      "source": [
        "import pandas as pd\n",
        "import numpy as np"
      ]
    },
    {
      "cell_type": "markdown",
      "metadata": {
        "id": "gLWDtr7Tfm1l"
      },
      "source": [
        "### Joins <br>\n",
        "<p>Very often you will have to combine data from several different sources to obtain the actual dataset you need for your exploration or modeling. Pandas draws heavily on SQL in its API design for joins, and if you are familiar with SQL joins, then Pandas will come naturally. Imagine you have two tables, one with customer name and gender, and the other with their purchases:</p>"
      ]
    },
    {
      "cell_type": "code",
      "execution_count": null,
      "metadata": {
        "id": "uB_GTwlPfm1l"
      },
      "outputs": [],
      "source": [
        "# Generate some fake data\n",
        "\n"
      ]
    },
    {
      "cell_type": "markdown",
      "metadata": {
        "id": "r1S9evj-fm1l"
      },
      "source": [
        "<p>Let's assume we have a dataset containing the customer ID's cities, and ages for a set of customers. Suppose further, that we have a second table, containing some customer ID's, and a feedback survey rating from those customers. Suppose finally, that you as an analyst are asked the following question: What city tends to give the best feedback for our product? We'll need a join operation to get the answer.</p>"
      ]
    },
    {
      "cell_type": "code",
      "execution_count": null,
      "metadata": {
        "id": "jU_DLVFlfm1m"
      },
      "outputs": [],
      "source": []
    },
    {
      "cell_type": "code",
      "execution_count": null,
      "metadata": {
        "id": "hnV6mxQNfm1m"
      },
      "outputs": [],
      "source": [
        "# Generate some other fake data\n"
      ]
    },
    {
      "cell_type": "markdown",
      "metadata": {
        "id": "QY2Lndbcfm1m"
      },
      "source": [
        "##### merge()\n",
        "\n",
        "<p>We can zip the two dataframes up with an inner join, using the Pandas API as follows:</p>"
      ]
    },
    {
      "cell_type": "code",
      "execution_count": null,
      "metadata": {
        "id": "HuphWvrmfm1m"
      },
      "outputs": [],
      "source": []
    },
    {
      "cell_type": "code",
      "execution_count": null,
      "metadata": {
        "id": "DMzRVMzQfm1m"
      },
      "outputs": [],
      "source": []
    },
    {
      "cell_type": "markdown",
      "metadata": {
        "id": "Q01av3OPfm1m"
      },
      "source": [
        "**.join() method**"
      ]
    },
    {
      "cell_type": "code",
      "execution_count": null,
      "metadata": {
        "id": "YC0sYDPKfm1n"
      },
      "outputs": [],
      "source": [
        "# join() is used to combine two DataFrames on the index but not on\n",
        "# columns whereas merge() is primarily used to specify the columns\n",
        "# you wanted to join on, this also supports joining on indexes and combination of index and columns\n",
        "\n"
      ]
    },
    {
      "cell_type": "markdown",
      "metadata": {
        "id": "5ZIMXwItfm1n"
      },
      "source": [
        "<p>Now it's a simple groupby operation to reveal the answer:</p>"
      ]
    },
    {
      "cell_type": "code",
      "execution_count": null,
      "metadata": {
        "id": "IgCRfaxufm1n"
      },
      "outputs": [],
      "source": []
    },
    {
      "cell_type": "markdown",
      "metadata": {
        "id": "paG1meFGfm1n"
      },
      "source": [
        "But what if we didn't drop the customer_id duplicates...would we get the same city result??"
      ]
    },
    {
      "cell_type": "code",
      "execution_count": null,
      "metadata": {
        "id": "Zx8YMb6xfm1o"
      },
      "outputs": [],
      "source": []
    },
    {
      "cell_type": "markdown",
      "metadata": {
        "id": "8fjL296Zfm1o"
      },
      "source": [
        "What would be the total mean for the US customers?\n"
      ]
    },
    {
      "cell_type": "code",
      "execution_count": null,
      "metadata": {
        "id": "L4jcUFgcfm1o"
      },
      "outputs": [],
      "source": []
    },
    {
      "cell_type": "markdown",
      "metadata": {
        "id": "AuloJ6R8fm1o"
      },
      "source": [
        "##### Breaking Down the Inner Join <br>\n",
        "<p>Let's take a closer look at the actual mechanics here however. There is some subtlety and nuance that is best understood by thinking of an inner join as two steps: a cartesian product, and then a filter. Observe the result of the following inner join:</p>"
      ]
    },
    {
      "cell_type": "code",
      "execution_count": null,
      "metadata": {
        "id": "qxTlnngFfm1o"
      },
      "outputs": [],
      "source": []
    },
    {
      "cell_type": "code",
      "execution_count": null,
      "metadata": {
        "id": "kSCv92o8fm1o"
      },
      "outputs": [],
      "source": [
        "\n"
      ]
    },
    {
      "cell_type": "code",
      "execution_count": null,
      "metadata": {
        "id": "ZzVOYCtmfm1o"
      },
      "outputs": [],
      "source": []
    },
    {
      "cell_type": "markdown",
      "metadata": {
        "id": "3MykYOLefm1p"
      },
      "source": [
        "<p>Somehow, we ended up with more rows in the result than either of the original tables! This is because we joined on a $\\textit{non-unique index}$. The join starts by computing all the possible combinations of rows, and then filters them based on the condition. Because of the duplicates, multiple combinations of rows make it through!</p>"
      ]
    },
    {
      "cell_type": "markdown",
      "metadata": {
        "id": "V0-Ywtglfm1p"
      },
      "source": [
        "### Outer Joins <br>\n",
        "<p>An $\\textit{outer join}$ produces all of the rows from the left table, and joins whatever rows it can to the right table, filling anywhere it cant with NaN's or None values. Below is a brief example, and then we will discuss a possible use case for this type of join.</p>"
      ]
    },
    {
      "cell_type": "code",
      "execution_count": null,
      "metadata": {
        "id": "TwwakapKfm1p"
      },
      "outputs": [],
      "source": []
    },
    {
      "cell_type": "code",
      "execution_count": null,
      "metadata": {
        "id": "fX_glAM1fm1p"
      },
      "outputs": [],
      "source": []
    },
    {
      "cell_type": "code",
      "execution_count": null,
      "metadata": {
        "id": "u4Fk8oFPfm1p"
      },
      "outputs": [],
      "source": []
    },
    {
      "cell_type": "code",
      "execution_count": null,
      "metadata": {
        "id": "QwnhGlGVfm1p"
      },
      "outputs": [],
      "source": []
    },
    {
      "cell_type": "code",
      "execution_count": null,
      "metadata": {
        "id": "78Ka_100fm1p"
      },
      "outputs": [],
      "source": [
        "# LEFT JOIN MERGE\n"
      ]
    },
    {
      "cell_type": "code",
      "execution_count": null,
      "metadata": {
        "id": "6xfUXq_lfm1p"
      },
      "outputs": [],
      "source": [
        "# RIGHT JOIN MERGE\n"
      ]
    },
    {
      "cell_type": "markdown",
      "metadata": {
        "id": "NmrLc3mUfm1q"
      },
      "source": [
        "##### Use Case Example\n",
        "\n",
        "<p>As an example use case, let's imagine we have again the demographics and survey response tables from above:</p>"
      ]
    },
    {
      "cell_type": "code",
      "execution_count": null,
      "metadata": {
        "id": "QNTaE3zRfm1q"
      },
      "outputs": [],
      "source": []
    },
    {
      "cell_type": "code",
      "execution_count": null,
      "metadata": {
        "id": "MaalM-bRfm1q"
      },
      "outputs": [],
      "source": []
    },
    {
      "cell_type": "markdown",
      "metadata": {
        "id": "5ovqIO3cfm1q"
      },
      "source": [
        "<p>Now, you are asked as an analyst to compare the demographics of survey responders to the demographics of all your customers combined.</p>"
      ]
    },
    {
      "cell_type": "code",
      "execution_count": null,
      "metadata": {
        "id": "7Qg5w1nHfm1r"
      },
      "outputs": [],
      "source": []
    },
    {
      "cell_type": "code",
      "execution_count": null,
      "metadata": {
        "id": "Tv2XYRMSfm1r"
      },
      "outputs": [],
      "source": [
        "# Count all survey responders against the total number of customers we have\n",
        "# (Specifically the customers that haven't taken the survey yet)\n",
        "\n",
        "\n",
        "# Producing similar result with .count()\n"
      ]
    },
    {
      "cell_type": "code",
      "execution_count": null,
      "metadata": {
        "id": "W2y6n4Xmfm1r"
      },
      "outputs": [],
      "source": [
        "# average age of people that answered the survey\n",
        "\n",
        "\n",
        "# demo_ratings_outer['customer_rating'] != 'N/A'\n"
      ]
    },
    {
      "cell_type": "code",
      "execution_count": null,
      "metadata": {
        "id": "fT3tc2dUfm1s"
      },
      "outputs": [],
      "source": [
        "# find the average age of people that did not answer the survey\n"
      ]
    },
    {
      "cell_type": "markdown",
      "metadata": {
        "id": "9gI-WP_Ofm1s"
      },
      "source": [
        "### Rolling Statistics and Time Series with Pandas"
      ]
    },
    {
      "cell_type": "markdown",
      "metadata": {
        "id": "fXlNzhfRfm1s"
      },
      "source": [
        "##### read_csv()"
      ]
    },
    {
      "cell_type": "code",
      "execution_count": null,
      "metadata": {
        "id": "nU_TTQ-Kfm1t"
      },
      "outputs": [],
      "source": []
    },
    {
      "cell_type": "code",
      "execution_count": null,
      "metadata": {
        "id": "qAb6OK7zfm1t"
      },
      "outputs": [],
      "source": []
    },
    {
      "cell_type": "code",
      "execution_count": null,
      "metadata": {
        "id": "6_jbg75gfm1u"
      },
      "outputs": [],
      "source": []
    },
    {
      "cell_type": "code",
      "execution_count": null,
      "metadata": {
        "id": "fczKdtCNfm1u"
      },
      "outputs": [],
      "source": []
    },
    {
      "cell_type": "markdown",
      "metadata": {
        "id": "ybHIY7fdfm1u"
      },
      "source": [
        "##### shift() <br>\n",
        "<p>Shift index by desired number of periods with an optional time freq</p>"
      ]
    },
    {
      "cell_type": "code",
      "execution_count": null,
      "metadata": {
        "id": "1ppaP-1Ffm1u"
      },
      "outputs": [],
      "source": [
        "# Print all keys for easier use\n"
      ]
    },
    {
      "cell_type": "code",
      "execution_count": null,
      "metadata": {
        "id": "jmEisu8Jfm1u"
      },
      "outputs": [],
      "source": []
    },
    {
      "cell_type": "code",
      "execution_count": null,
      "metadata": {
        "id": "tXco_5Xmfm1v"
      },
      "outputs": [],
      "source": []
    },
    {
      "cell_type": "code",
      "execution_count": null,
      "metadata": {
        "id": "nLGWRuZqfm1v"
      },
      "outputs": [],
      "source": [
        "# create a new column that takes the difference in temperature from the previous day as an absolute value\n"
      ]
    },
    {
      "cell_type": "code",
      "execution_count": null,
      "metadata": {
        "id": "aw1Lr6BUfm1v"
      },
      "outputs": [],
      "source": [
        "# Pip install for both psycopg2 and SQLAlchemy\n",
        "import sys\n",
        "!{sys.executable} -m pip install psycopg2-binary SQLAlchemy # the -binary is for mac users"
      ]
    },
    {
      "cell_type": "code",
      "execution_count": null,
      "metadata": {
        "id": "4vTC619Vfm1v"
      },
      "outputs": [],
      "source": [
        "# databaselanguage(postgresql)://user:password@url:port/database_name\n",
        "\n"
      ]
    },
    {
      "cell_type": "code",
      "execution_count": null,
      "metadata": {
        "id": "L2w4liZffm1v"
      },
      "outputs": [],
      "source": []
    },
    {
      "cell_type": "code",
      "execution_count": null,
      "metadata": {
        "id": "RQoYn4h0fm1v"
      },
      "outputs": [],
      "source": [
        "# Writing a DataFrame to PostGreSQL database\n",
        "# from sqlalchemy.types import Integer, Text,String,DateTime,Float\n"
      ]
    },
    {
      "cell_type": "code",
      "execution_count": null,
      "metadata": {
        "id": "B6eg2hurfm1v"
      },
      "outputs": [],
      "source": []
    }
  ],
  "metadata": {
    "kernelspec": {
      "display_name": "Python 3 (ipykernel)",
      "language": "python",
      "name": "python3"
    },
    "language_info": {
      "codemirror_mode": {
        "name": "ipython",
        "version": 3
      },
      "file_extension": ".py",
      "mimetype": "text/x-python",
      "name": "python",
      "nbconvert_exporter": "python",
      "pygments_lexer": "ipython3",
      "version": "3.9.7"
    },
    "colab": {
      "provenance": [],
      "include_colab_link": true
    }
  },
  "nbformat": 4,
  "nbformat_minor": 0
}