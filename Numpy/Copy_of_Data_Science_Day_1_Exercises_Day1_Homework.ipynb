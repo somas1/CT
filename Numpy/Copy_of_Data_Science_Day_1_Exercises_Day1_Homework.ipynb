{
  "cells": [
    {
      "cell_type": "markdown",
      "metadata": {
        "id": "view-in-github",
        "colab_type": "text"
      },
      "source": [
        "<a href=\"https://colab.research.google.com/github/somas1/CT/blob/main/Numpy/Copy_of_Data_Science_Day_1_Exercises_Day1_Homework.ipynb\" target=\"_parent\"><img src=\"https://colab.research.google.com/assets/colab-badge.svg\" alt=\"Open In Colab\"/></a>"
      ]
    },
    {
      "cell_type": "markdown",
      "metadata": {
        "id": "KdERlTpFuL5V"
      },
      "source": [
        "# Exercises"
      ]
    },
    {
      "cell_type": "markdown",
      "metadata": {
        "id": "to-gsrQyuL5Z"
      },
      "source": [
        "### #1 - Calculate the BMI (body mass index) on the two lists below using NDArrays..."
      ]
    },
    {
      "cell_type": "code",
      "execution_count": 35,
      "metadata": {
        "id": "iZlf9DzeuL5a",
        "colab": {
          "base_uri": "https://localhost:8080/"
        },
        "outputId": "a101f43e-6175-4299-c848-59a99d22cdc7"
      },
      "outputs": [
        {
          "output_type": "stream",
          "name": "stdout",
          "text": [
            "A height of 69 and a weight of 110 yields a bmi of 16.866204578869986\n",
            "A height of 70 and a weight of 120 yields a bmi of 17.877551020408163\n",
            "A height of 71 and a weight of 130 yields a bmi of 18.825629835350128\n",
            "A height of 72 and a weight of 140 yields a bmi of 19.714506172839506\n",
            "A height of 73 and a weight of 150 yields a bmi of 20.54794520547945\n",
            "A height of 74 and a weight of 160 yields a bmi of 21.329437545653764\n",
            "A height of 75 and a weight of 170 yields a bmi of 22.06222222222222\n"
          ]
        }
      ],
      "source": [
        "import numpy as np\n",
        "# formula = weight / (height**2) * 730\n",
        "height = [69, 70, 71, 72, 73, 74, 75]\n",
        "weight = [110, 120, 130, 140, 150, 160, 170]\n",
        "\n",
        "\n",
        "\n",
        "#convert given lists to NDArrays\n",
        "nd_height = np.array(height)\n",
        "nd_weight = np.array(weight)\n",
        "\n",
        "bmis = nd_weight/(nd_height**2) * 730\n",
        "zipped_bmis = list(zip(nd_height, nd_weight, bmis))\n",
        "#print(zipped_bmis)\n",
        "\n",
        "for entry in range(len(zipped_bmis)):\n",
        "  print('A height of {} and a weight of {} yields a bmi of {}'.format(zipped_bmis[entry][0],\n",
        "                                                                      zipped_bmis[entry][1],\n",
        "                                                                      zipped_bmis[entry][2]))\n"
      ]
    },
    {
      "cell_type": "markdown",
      "metadata": {
        "id": "RSsT8w8ouL5b"
      },
      "source": [
        "### #2 - Create a function that will take in two parameters and will create a random matrix based off of those parameters. Extra: Have additional parameters taken in that allow the user to choose the shape and data type of the matrix."
      ]
    },
    {
      "cell_type": "code",
      "execution_count": 47,
      "metadata": {
        "id": "ygFvj0aeuL5b",
        "colab": {
          "base_uri": "https://localhost:8080/"
        },
        "outputId": "bb5e2bc3-0a06-47c1-c13e-b4ed790d74db"
      },
      "outputs": [
        {
          "output_type": "stream",
          "name": "stdout",
          "text": [
            "[[13 30 25]\n",
            " [ 1  9  5]\n",
            " [46  6  2]]\n",
            "[[3.38694373 4.95856452 7.34198456 5.45091724 6.84191124]\n",
            " [3.60031087 6.34245431 7.59260973 7.98954053 4.33942569]\n",
            " [7.62519189 6.49979962 8.35307618 6.51296195 6.25725747]\n",
            " [5.47166044 3.60668715 7.60437357 3.969721   8.87942594]\n",
            " [8.72639215 7.91783548 5.13251446 8.18542754 7.08809172]]\n"
          ]
        }
      ],
      "source": [
        "def random_matrix(x, y, shape=(3,3), kind='int64'):\n",
        "  '''\n",
        "  enter the x and y values you would like for a matrix.\n",
        "  optionally, indicate the shape of the matrix or the data type.\n",
        "  '''\n",
        "  return np.random.uniform(x, y, shape).astype(kind)\n",
        "\n",
        "print(random_matrix(1,55,(3,3)))\n",
        "print(random_matrix(3,9, (5,5), 'float64'))"
      ]
    },
    {
      "cell_type": "markdown",
      "metadata": {
        "id": "e5mP1UX9uL5c"
      },
      "source": [
        "### #3 - Extra: Open and load the data in the two text files that have the Boston Red Sox hitting data for the past seasons. Compare the difference in the two years by putting the data into an NDArray and running a differencial operation on it. The column to look for will be SLG.\n",
        "\n",
        "Your output should display which year (either 2017 or 2018) was a better year based on SLG"
      ]
    },
    {
      "cell_type": "code",
      "execution_count": null,
      "metadata": {
        "id": "iAExC-SjuL5c"
      },
      "outputs": [],
      "source": [
        "import csv\n",
        "import numpy as np\n",
        "\n",
        "\n"
      ]
    },
    {
      "cell_type": "code",
      "execution_count": null,
      "metadata": {
        "id": "P8Rwr8lmuL5e"
      },
      "outputs": [],
      "source": [
        "FIELDS = ['Rk', 'Pos', 'Name', 'Age', 'G', 'PA', 'AB', 'R', 'H', '2B', '3B', 'HR', 'RBI', 'SB', 'CS',\n",
        "          'BB', 'SO', 'BA', 'OBP', 'SLG', 'OPS', 'OPS+', 'TB', 'GDP', 'HBP', 'SH', 'SF', 'IBB']\n",
        "\n",
        "DATATYPES = [('rk', 'i'), ('pos', '|S25'), ('name', '|S25'), ('age', 'i'), ('g', 'i'), ('pa', 'i'), ('ab', 'i'),\n",
        "                ('r', 'i'), ('h', 'i'), ('2b', 'i'), ('3b', 'i'), ('hr', 'i'), ('rbi', 'i'), ('sb', 'i'), ('cs', 'i'),\n",
        "                ('bb', 'i'), ('so', 'i'), ('ba', 'f'), ('obp', 'f'), ('slg', 'f'), ('ops', 'f'), ('opsp', 'i'),\n",
        "                ('tb', 'i'), ('gdp', 'i'), ('hbp', 'i'), ('sh', 'i'), ('sf', 'i'), ('ibb', 'i')]\n",
        "\n",
        "#Use this function to actually open the data inside of a NDArray\n",
        "\n",
        "\n"
      ]
    }
  ],
  "metadata": {
    "kernelspec": {
      "display_name": "Python 3",
      "language": "python",
      "name": "python3"
    },
    "language_info": {
      "codemirror_mode": {
        "name": "ipython",
        "version": 3
      },
      "file_extension": ".py",
      "mimetype": "text/x-python",
      "name": "python",
      "nbconvert_exporter": "python",
      "pygments_lexer": "ipython3",
      "version": "3.7.3"
    },
    "colab": {
      "provenance": [],
      "include_colab_link": true
    }
  },
  "nbformat": 4,
  "nbformat_minor": 0
}