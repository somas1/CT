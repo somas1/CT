{
  "cells": [
    {
      "cell_type": "markdown",
      "metadata": {
        "id": "view-in-github",
        "colab_type": "text"
      },
      "source": [
        "<a href=\"https://colab.research.google.com/github/somas1/CT/blob/main/Numpy/Copy_of_Data_Science_Day_1_Exercises_Day1_Homework.ipynb\" target=\"_parent\"><img src=\"https://colab.research.google.com/assets/colab-badge.svg\" alt=\"Open In Colab\"/></a>"
      ]
    },
    {
      "cell_type": "markdown",
      "metadata": {
        "id": "KdERlTpFuL5V"
      },
      "source": [
        "# Exercises"
      ]
    },
    {
      "cell_type": "markdown",
      "metadata": {
        "id": "to-gsrQyuL5Z"
      },
      "source": [
        "### #1 - Calculate the BMI (body mass index) on the two lists below using NDArrays..."
      ]
    },
    {
      "cell_type": "code",
      "execution_count": 1,
      "metadata": {
        "id": "iZlf9DzeuL5a",
        "colab": {
          "base_uri": "https://localhost:8080/"
        },
        "outputId": "dd9139dd-5cbb-4738-d1a1-fe44fef0ec24"
      },
      "outputs": [
        {
          "output_type": "stream",
          "name": "stdout",
          "text": [
            "A height of 69 and a weight of 110 yields a bmi of 16.866204578869986\n",
            "A height of 70 and a weight of 120 yields a bmi of 17.877551020408163\n",
            "A height of 71 and a weight of 130 yields a bmi of 18.825629835350128\n",
            "A height of 72 and a weight of 140 yields a bmi of 19.714506172839506\n",
            "A height of 73 and a weight of 150 yields a bmi of 20.54794520547945\n",
            "A height of 74 and a weight of 160 yields a bmi of 21.329437545653764\n",
            "A height of 75 and a weight of 170 yields a bmi of 22.06222222222222\n"
          ]
        }
      ],
      "source": [
        "import numpy as np\n",
        "# formula = weight / (height**2) * 730\n",
        "height = [69, 70, 71, 72, 73, 74, 75]\n",
        "weight = [110, 120, 130, 140, 150, 160, 170]\n",
        "\n",
        "\n",
        "\n",
        "#convert given lists to NDArrays\n",
        "nd_height = np.array(height)\n",
        "nd_weight = np.array(weight)\n",
        "\n",
        "bmis = nd_weight/(nd_height**2) * 730\n",
        "zipped_bmis = list(zip(nd_height, nd_weight, bmis))\n",
        "#print(zipped_bmis)\n",
        "\n",
        "for entry in range(len(zipped_bmis)):\n",
        "  print('A height of {} and a weight of {} yields a bmi of {}'.format(zipped_bmis[entry][0],\n",
        "                                                                      zipped_bmis[entry][1],\n",
        "                                                                      zipped_bmis[entry][2]))\n"
      ]
    },
    {
      "cell_type": "markdown",
      "metadata": {
        "id": "RSsT8w8ouL5b"
      },
      "source": [
        "### #2 - Create a function that will take in two parameters and will create a random matrix based off of those parameters. Extra: Have additional parameters taken in that allow the user to choose the shape and data type of the matrix."
      ]
    },
    {
      "cell_type": "code",
      "execution_count": 2,
      "metadata": {
        "id": "ygFvj0aeuL5b",
        "colab": {
          "base_uri": "https://localhost:8080/"
        },
        "outputId": "789728cd-8882-4dc9-ec19-3e0727bcd377"
      },
      "outputs": [
        {
          "output_type": "stream",
          "name": "stdout",
          "text": [
            "[[15 45 46]\n",
            " [18 41 29]\n",
            " [47 44  6]]\n",
            "[[5.81115695 4.26598877 7.243521   5.62141541 4.2679078 ]\n",
            " [5.06553171 5.96755112 6.32734621 6.69307431 8.78620103]\n",
            " [7.85563107 8.19694613 6.5585216  7.64241099 8.68703614]\n",
            " [6.40164501 7.11088189 5.95836984 4.06663275 3.74119226]\n",
            " [4.77745247 7.61870511 6.96542165 8.8298893  6.57546266]]\n",
            "[[2 3 4]\n",
            " [2 3 3]\n",
            " [3 2 3]]\n"
          ]
        }
      ],
      "source": [
        "def random_matrix(x, y, shape=(3,3), kind='int64'):\n",
        "  '''\n",
        "  enter the x and y values you would like for a matrix.\n",
        "  optionally, indicate the shape of the matrix or the data type.\n",
        "  '''\n",
        "  return np.random.uniform(x, y, shape).astype(kind)\n",
        "\n",
        "print(random_matrix(1,55,(3,3)))\n",
        "print(random_matrix(3,9, (5,5), 'float64'))\n",
        "print(random_matrix(2,5))"
      ]
    },
    {
      "cell_type": "markdown",
      "metadata": {
        "id": "e5mP1UX9uL5c"
      },
      "source": [
        "### #3 - Extra: Open and load the data in the two text files that have the Boston Red Sox hitting data for the past seasons. Compare the difference in the two years by putting the data into an NDArray and running a differencial operation on it. The column to look for will be SLG.\n",
        "\n",
        "Your output should display which year (either 2017 or 2018) was a better year based on SLG"
      ]
    },
    {
      "cell_type": "code",
      "execution_count": 3,
      "metadata": {
        "id": "iAExC-SjuL5c"
      },
      "outputs": [],
      "source": [
        "import csv\n",
        "import numpy as np\n",
        "\n",
        "\n"
      ]
    },
    {
      "cell_type": "code",
      "execution_count": 39,
      "metadata": {
        "id": "P8Rwr8lmuL5e",
        "colab": {
          "base_uri": "https://localhost:8080/"
        },
        "outputId": "8d58f232-0fcc-4de3-f9f3-bb12126519b0"
      },
      "outputs": [
        {
          "output_type": "stream",
          "name": "stdout",
          "text": [
            "['Rk', 'Pos', 'Name', 'Age', 'G', 'PA', 'AB', 'R', 'H', '2B', '3B', 'HR', 'RBI', 'SB', 'CS', 'BB', 'SO', 'BA', 'OBP', 'SLG', 'OPS', 'OPS+', 'TB', 'GDP', 'HBP', 'SH', 'SF', 'IBB']\n",
            "[( 1, b'C', b'Christian Vazquez', 26,  99, 345, 324,  43,  94, 18, 2,  5,  32,  7, 2, 17,  64, 0.29 , 0.33 , 0.404, 0.735,  91, 131, 14)\n",
            " ( 2, b'1B', b'Mitch Moreland', 31, 149, 576, 508,  73, 125, 34, 0, 22,  79,  0, 1, 57, 120, 0.246, 0.326, 0.443, 0.769,  99, 225, 14)\n",
            " ( 3, b'2B', b'Dustin Pedroia', 33, 105, 463, 406,  46, 119, 19, 0,  7,  62,  4, 3, 49,  48, 0.293, 0.369, 0.392, 0.76 , 100, 159, 11)\n",
            " ( 4, b'SS', b'Xander Bogaerts', 24, 148, 635, 571,  94, 156, 32, 6, 10,  62, 15, 1, 56, 116, 0.273, 0.343, 0.403, 0.746,  95, 230, 17)\n",
            " ( 5, b'3B', b'Rafael Devers', 20,  58, 240, 222,  34,  63, 14, 0, 10,  30,  3, 1, 18,  57, 0.284, 0.338, 0.482, 0.819, 111, 107,  5)\n",
            " ( 6, b'LF', b'Andrew Benintendi', 22, 151, 658, 573,  84, 155, 26, 1, 20,  90, 20, 5, 70, 112, 0.271, 0.352, 0.424, 0.776, 102, 243, 16)\n",
            " ( 7, b'CF', b'Jackie Bradley Jr.', 27, 133, 541, 482,  58, 118, 19, 3, 17,  63,  8, 3, 48, 124, 0.245, 0.323, 0.402, 0.726,  89, 194,  8)\n",
            " ( 8, b'RF', b'Mookie Betts', 24, 153, 712, 628, 101, 166, 46, 2, 24, 102, 26, 3, 77,  79, 0.264, 0.344, 0.459, 0.803, 108, 288,  9)\n",
            " ( 9, b'DH', b'Hanley Ramirez', 33, 133, 553, 496,  58, 120, 24, 0, 23,  62,  1, 3, 51, 116, 0.242, 0.32 , 0.429, 0.75 ,  94, 213, 15)\n",
            " (10, b'C', b'Sandy Leon', 28,  85, 301, 271,  32,  61, 14, 0,  7,  39,  0, 0, 25,  74, 0.225, 0.29 , 0.354, 0.644,  68,  96,  5)\n",
            " (11, b'UT', b'Chris Young', 33,  90, 276, 243,  30,  57, 12, 2,  7,  25,  3, 2, 30,  55, 0.235, 0.322, 0.387, 0.709,  85,  94,  4)\n",
            " (12, b'3B', b'Deven Marrero', 26,  71, 188, 171,  32,  36,  9, 0,  4,  27,  5, 0, 12,  61, 0.211, 0.259, 0.333, 0.593,  54,  57,  8)\n",
            " (13, b'2B', b'Eduardo Nunez', 30,  38, 173, 165,  23,  53, 12, 0,  8,  27,  6, 2,  6,  25, 0.321, 0.353, 0.539, 0.892, 128,  89,  3)\n",
            " (14, b'2B', b'Brock Holt', 29,  64, 164, 140,  20,  28,  6, 0,  0,   7,  2, 1, 19,  34, 0.2  , 0.305, 0.243, 0.548,  47,  34,  3)\n",
            " (15, b'IF', b'Josh Rutledge', 28,  37, 118, 107,  10,  24,  2, 1,  0,   9,  1, 0,  9,  31, 0.224, 0.297, 0.262, 0.558,  49,  28,  1)\n",
            " (16, b'3B', b'Pablo Sandoval', 30,  32, 108,  99,  10,  21,  2, 0,  4,  12,  0, 1,  8,  24, 0.212, 0.269, 0.354, 0.622,  61,  35,  4)\n",
            " (17, b'UT', b'Sam Travis', 23,  33,  83,  76,  13,  20,  6, 0,  0,   1,  1, 0,  6,  23, 0.263, 0.325, 0.342, 0.667,  75,  26,  2)\n",
            " (18, b'UT', b'Tzu-Wei Lin', 23,  25,  66,  56,   7,  15,  0, 2,  0,   2,  1, 1,  9,  17, 0.268, 0.369, 0.339, 0.709,  88,  19,  0)\n",
            " (19, b'IF', b'Marco Hernandez', 24,  21,  60,  58,   7,  16,  3, 0,  0,   2,  0, 1,  1,  15, 0.276, 0.3  , 0.328, 0.628,  65,  19,  0)\n",
            " (20, b'UT', b'Rajai Davis', 36,  17,  38,  36,   7,   9,  2, 0,  0,   2,  3, 1,  1,  13, 0.25 , 0.289, 0.306, 0.595,  56,  11,  2)\n",
            " (21, b'UT', b'Steve Selsky', 27,   8,   9,   9,   0,   1,  1, 0,  0,   0,  0, 0,  0,   5, 0.111, 0.111, 0.222, 0.333, -16,   2,  0)\n",
            " (22, b'UT', b'Blake Swihart', 25,   6,   7,   5,   1,   1,  0, 0,  0,   0,  0, 0,  2,   3, 0.2  , 0.429, 0.2  , 0.629,  74,   1,  0)\n",
            " (23, b'2B', b\"Chase d'Arnaud\", 30,   2,   1,   1,   2,   1,  0, 0,  0,   0,  0, 0,  0,   0, 1.   , 1.   , 1.   , 2.   , 428,   1,  0)]\n",
            "[('Christian Vazquez', 0.404), ('Mitch Moreland', 0.443), ('Dustin Pedroia', 0.392), ('Xander Bogaerts', 0.403), ('Rafael Devers', 0.482), ('Andrew Benintendi', 0.424), ('Jackie Bradley Jr.', 0.402), ('Mookie Betts', 0.459), ('Hanley Ramirez', 0.429), ('Sandy Leon', 0.354), ('Chris Young', 0.387), ('Deven Marrero', 0.333), ('Eduardo Nunez', 0.539), ('Brock Holt', 0.243), ('Josh Rutledge', 0.262), ('Pablo Sandoval', 0.354), ('Sam Travis', 0.342), ('Tzu-Wei Lin', 0.339), ('Marco Hernandez', 0.328), ('Rajai Davis', 0.306), ('Steve Selsky', 0.222), ('Blake Swihart', 0.2), (\"Chase d'Arnaud\", 1.0)]\n",
            "[('Sandy Leon', 0.279), ('Mitch Moreland', 0.433), ('Eduardo Nunez', 0.388), ('Xander Bogaerts', 0.522), ('Rafael Devers', 0.433), ('Andrew Benintendi', 0.465), ('Jackie Bradley Jr.', 0.403), ('Mookie Betts', 0.64), ('J.D. Martinez', 0.629), ('Brock Holt', 0.411), ('Christian Vazquez', 0.283), ('Blake Swihart', 0.328), ('Hanley Ramirez', 0.395), ('Steve Pearce', 0.507), ('Ian Kinsler', 0.311), ('Tzu-Wei Lin', 0.415), ('Sam Travis', 0.389), ('Brandon Phillips', 0.261), ('Dustin Pedroia', 0.091), ('Dan Butler', 0.167)]\n"
          ]
        }
      ],
      "source": [
        "FIELDS = ['Rk', 'Pos', 'Name', 'Age', 'G', 'PA', 'AB', 'R', 'H', '2B', '3B', 'HR', 'RBI', 'SB', 'CS',\n",
        "          'BB', 'SO', 'BA', 'OBP', 'SLG', 'OPS', 'OPS+', 'TB', 'GDP', 'HBP', 'SH', 'SF', 'IBB']\n",
        "\n",
        "DATATYPES = [('rk', 'i'), ('pos', '|S25'), ('name', '|S25'), ('age', 'i'), ('g', 'i'), ('pa', 'i'), ('ab', 'i'),\n",
        "                ('r', 'i'), ('h', 'i'), ('2b', 'i'), ('3b', 'i'), ('hr', 'i'), ('rbi', 'i'), ('sb', 'i'), ('cs', 'i'),\n",
        "                ('bb', 'i'), ('so', 'i'), ('ba', 'f'), ('obp', 'f'), ('slg', 'f'), ('ops', 'f'), ('opsp', 'i'),\n",
        "                ('tb', 'i'), ('gdp', 'i'), ('hbp', 'i'), ('sh', 'i'), ('sf', 'i'), ('ibb', 'i')]\n",
        "\n",
        "#Use this function to actually open the data inside of a NDArray\n",
        "def load_data(filename, d = ','):\n",
        "    data = np.genfromtxt(filename,delimiter = d, skip_header = 1,\n",
        "                        usecols = np.arange(0,24),invalid_raise=False,\n",
        "                        names = FIELDS, dtype = DATATYPES)\n",
        "    return data\n",
        "\n",
        "bs2017 = load_data('redsox_2017_hitting.txt')\n",
        "bs2018 = load_data('redsox_2018_hitting.txt')\n",
        "\n",
        "print(FIELDS)\n",
        "print(bs2017)\n",
        "players2017 = [name.decode('utf-8') for name in bs2017['Name']]\n",
        "players2018 = [name.decode('utf-8') for name in bs2018['Name']]\n",
        "zipped2017 = list(zip(players2017, bs2017['SLG']))\n",
        "zipped2018 = list(zip(players2018, bs2018['SLG']))\n",
        "print(zipped2017)\n",
        "print(zipped2018)"
      ]
    }
  ],
  "metadata": {
    "kernelspec": {
      "display_name": "Python 3",
      "language": "python",
      "name": "python3"
    },
    "language_info": {
      "codemirror_mode": {
        "name": "ipython",
        "version": 3
      },
      "file_extension": ".py",
      "mimetype": "text/x-python",
      "name": "python",
      "nbconvert_exporter": "python",
      "pygments_lexer": "ipython3",
      "version": "3.7.3"
    },
    "colab": {
      "provenance": [],
      "include_colab_link": true
    }
  },
  "nbformat": 4,
  "nbformat_minor": 0
}