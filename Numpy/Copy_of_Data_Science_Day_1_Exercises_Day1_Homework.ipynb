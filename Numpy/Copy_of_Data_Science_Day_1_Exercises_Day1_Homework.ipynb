{
  "cells": [
    {
      "cell_type": "markdown",
      "metadata": {
        "id": "view-in-github",
        "colab_type": "text"
      },
      "source": [
        "<a href=\"https://colab.research.google.com/github/somas1/CT/blob/main/Numpy/Copy_of_Data_Science_Day_1_Exercises_Day1_Homework.ipynb\" target=\"_parent\"><img src=\"https://colab.research.google.com/assets/colab-badge.svg\" alt=\"Open In Colab\"/></a>"
      ]
    },
    {
      "cell_type": "markdown",
      "metadata": {
        "id": "KdERlTpFuL5V"
      },
      "source": [
        "# Exercises"
      ]
    },
    {
      "cell_type": "markdown",
      "metadata": {
        "id": "to-gsrQyuL5Z"
      },
      "source": [
        "### #1 - Calculate the BMI (body mass index) on the two lists below using NDArrays..."
      ]
    },
    {
      "cell_type": "code",
      "execution_count": 1,
      "metadata": {
        "id": "iZlf9DzeuL5a",
        "colab": {
          "base_uri": "https://localhost:8080/"
        },
        "outputId": "dd9139dd-5cbb-4738-d1a1-fe44fef0ec24"
      },
      "outputs": [
        {
          "output_type": "stream",
          "name": "stdout",
          "text": [
            "A height of 69 and a weight of 110 yields a bmi of 16.866204578869986\n",
            "A height of 70 and a weight of 120 yields a bmi of 17.877551020408163\n",
            "A height of 71 and a weight of 130 yields a bmi of 18.825629835350128\n",
            "A height of 72 and a weight of 140 yields a bmi of 19.714506172839506\n",
            "A height of 73 and a weight of 150 yields a bmi of 20.54794520547945\n",
            "A height of 74 and a weight of 160 yields a bmi of 21.329437545653764\n",
            "A height of 75 and a weight of 170 yields a bmi of 22.06222222222222\n"
          ]
        }
      ],
      "source": [
        "import numpy as np\n",
        "# formula = weight / (height**2) * 730\n",
        "height = [69, 70, 71, 72, 73, 74, 75]\n",
        "weight = [110, 120, 130, 140, 150, 160, 170]\n",
        "\n",
        "\n",
        "\n",
        "#convert given lists to NDArrays\n",
        "nd_height = np.array(height)\n",
        "nd_weight = np.array(weight)\n",
        "\n",
        "bmis = nd_weight/(nd_height**2) * 730\n",
        "zipped_bmis = list(zip(nd_height, nd_weight, bmis))\n",
        "#print(zipped_bmis)\n",
        "\n",
        "for entry in range(len(zipped_bmis)):\n",
        "  print('A height of {} and a weight of {} yields a bmi of {}'.format(zipped_bmis[entry][0],\n",
        "                                                                      zipped_bmis[entry][1],\n",
        "                                                                      zipped_bmis[entry][2]))\n"
      ]
    },
    {
      "cell_type": "markdown",
      "metadata": {
        "id": "RSsT8w8ouL5b"
      },
      "source": [
        "### #2 - Create a function that will take in two parameters and will create a random matrix based off of those parameters. Extra: Have additional parameters taken in that allow the user to choose the shape and data type of the matrix."
      ]
    },
    {
      "cell_type": "code",
      "execution_count": 2,
      "metadata": {
        "id": "ygFvj0aeuL5b",
        "colab": {
          "base_uri": "https://localhost:8080/"
        },
        "outputId": "789728cd-8882-4dc9-ec19-3e0727bcd377"
      },
      "outputs": [
        {
          "output_type": "stream",
          "name": "stdout",
          "text": [
            "[[15 45 46]\n",
            " [18 41 29]\n",
            " [47 44  6]]\n",
            "[[5.81115695 4.26598877 7.243521   5.62141541 4.2679078 ]\n",
            " [5.06553171 5.96755112 6.32734621 6.69307431 8.78620103]\n",
            " [7.85563107 8.19694613 6.5585216  7.64241099 8.68703614]\n",
            " [6.40164501 7.11088189 5.95836984 4.06663275 3.74119226]\n",
            " [4.77745247 7.61870511 6.96542165 8.8298893  6.57546266]]\n",
            "[[2 3 4]\n",
            " [2 3 3]\n",
            " [3 2 3]]\n"
          ]
        }
      ],
      "source": [
        "def random_matrix(x, y, shape=(3,3), kind='int64'):\n",
        "  '''\n",
        "  enter the x and y values you would like for a matrix.\n",
        "  optionally, indicate the shape of the matrix or the data type.\n",
        "  '''\n",
        "  return np.random.uniform(x, y, shape).astype(kind)\n",
        "\n",
        "print(random_matrix(1,55,(3,3)))\n",
        "print(random_matrix(3,9, (5,5), 'float64'))\n",
        "print(random_matrix(2,5))"
      ]
    },
    {
      "cell_type": "markdown",
      "metadata": {
        "id": "e5mP1UX9uL5c"
      },
      "source": [
        "### #3 - Extra: Open and load the data in the two text files that have the Boston Red Sox hitting data for the past seasons. Compare the difference in the two years by putting the data into an NDArray and running a differencial operation on it. The column to look for will be SLG.\n",
        "\n",
        "Your output should display which year (either 2017 or 2018) was a better year based on SLG"
      ]
    },
    {
      "cell_type": "code",
      "execution_count": 4,
      "metadata": {
        "id": "iAExC-SjuL5c"
      },
      "outputs": [],
      "source": [
        "import csv\n",
        "import numpy as np\n",
        "\n",
        "\n"
      ]
    },
    {
      "cell_type": "code",
      "execution_count": 7,
      "metadata": {
        "id": "P8Rwr8lmuL5e",
        "colab": {
          "base_uri": "https://localhost:8080/"
        },
        "outputId": "54c3b836-d64b-4be9-9791-a2c49e7026c4"
      },
      "outputs": [
        {
          "output_type": "execute_result",
          "data": {
            "text/plain": [
              "(8, 12)"
            ]
          },
          "metadata": {},
          "execution_count": 7
        }
      ],
      "source": [
        "FIELDS = ['Rk', 'Pos', 'Name', 'Age', 'G', 'PA', 'AB', 'R', 'H', '2B', '3B', 'HR', 'RBI', 'SB', 'CS',\n",
        "          'BB', 'SO', 'BA', 'OBP', 'SLG', 'OPS', 'OPS+', 'TB', 'GDP', 'HBP', 'SH', 'SF', 'IBB']\n",
        "\n",
        "DATATYPES = [('rk', 'i'), ('pos', '|S25'), ('name', '|S25'), ('age', 'i'), ('g', 'i'), ('pa', 'i'), ('ab', 'i'),\n",
        "                ('r', 'i'), ('h', 'i'), ('2b', 'i'), ('3b', 'i'), ('hr', 'i'), ('rbi', 'i'), ('sb', 'i'), ('cs', 'i'),\n",
        "                ('bb', 'i'), ('so', 'i'), ('ba', 'f'), ('obp', 'f'), ('slg', 'f'), ('ops', 'f'), ('opsp', 'i'),\n",
        "                ('tb', 'i'), ('gdp', 'i'), ('hbp', 'i'), ('sh', 'i'), ('sf', 'i'), ('ibb', 'i')]\n",
        "\n",
        "#Use this function to actually open the data inside of a NDArray\n",
        "def load_data(filename, d = ','):\n",
        "    data = np.genfromtxt(filename,delimiter = d, skip_header = 1,\n",
        "                        usecols = np.arange(0,24),invalid_raise=False,\n",
        "                        names = FIELDS, dtype = DATATYPES)\n",
        "    return data\n",
        "\n",
        "bs2017 = load_data('redsox_2017_hitting.txt')\n",
        "bs2018 = load_data('redsox_2018_hitting.txt')\n",
        "\n",
        "\n",
        "players2017 = [name.decode('utf-8') for name in bs2017['Name']]\n",
        "players2018 = [name.decode('utf-8') for name in bs2018['Name']]\n",
        "zipped2017 = list(zip(players2017, bs2017['SLG']))\n",
        "zipped2018 = list(zip(players2018, bs2018['SLG']))\n",
        "# sort by highest SLG\n",
        "sorted2017 = sorted(zipped2017, key = lambda x: x[1], reverse = True)\n",
        "sorted2018 = sorted(zipped2018, key = lambda x: x[1], reverse = True)\n",
        "#print(sorted2017)\n",
        "#print(sorted2018)\n",
        "\n",
        "def compareYears(year1, year2):\n",
        "  '''\n",
        "  Submit two csv text files to compare. The 'SLG' data will be sorted and the\n",
        "  larger column of 'SLG' data will be trimmed to match the number of entries of\n",
        "  the smaller of the two columns.\n",
        "\n",
        "  The total number of times a similarly ranked player had a greater 'SLG' in a\n",
        "  given year will be returned.\n",
        "  '''\n",
        "  year1wins = 0\n",
        "  year2wins = 0\n",
        "\n",
        "  zippedYears = list(zip(year1,year2))\n",
        "  #print(zippedYears[0])\n",
        "  #print(zippedYears[0][0][1],zippedYears[0][1][1])\n",
        "\n",
        "  for value in zippedYears:\n",
        "    #print(value[0][1],value[1][1])\n",
        "    if value[0][1] > value[1][1]:\n",
        "      year1wins += 1\n",
        "    if value[0][1] < value[1][1]:\n",
        "      year2wins += 1\n",
        "\n",
        "  return year1wins, year2wins\n",
        "\n",
        "compareYears(sorted2017,sorted2018)"
      ]
    }
  ],
  "metadata": {
    "kernelspec": {
      "display_name": "Python 3",
      "language": "python",
      "name": "python3"
    },
    "language_info": {
      "codemirror_mode": {
        "name": "ipython",
        "version": 3
      },
      "file_extension": ".py",
      "mimetype": "text/x-python",
      "name": "python",
      "nbconvert_exporter": "python",
      "pygments_lexer": "ipython3",
      "version": "3.7.3"
    },
    "colab": {
      "provenance": [],
      "include_colab_link": true
    }
  },
  "nbformat": 4,
  "nbformat_minor": 0
}