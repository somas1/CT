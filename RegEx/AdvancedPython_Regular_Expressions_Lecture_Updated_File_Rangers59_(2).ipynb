{
  "cells": [
    {
      "cell_type": "markdown",
      "metadata": {
        "id": "view-in-github",
        "colab_type": "text"
      },
      "source": [
        "<a href=\"https://colab.research.google.com/github/somas1/CT/blob/main/RegEx/AdvancedPython_Regular_Expressions_Lecture_Updated_File_Rangers59_(2).ipynb\" target=\"_parent\"><img src=\"https://colab.research.google.com/assets/colab-badge.svg\" alt=\"Open In Colab\"/></a>"
      ]
    },
    {
      "cell_type": "markdown",
      "metadata": {
        "id": "8jByEprCXAhK"
      },
      "source": [
        "# Regular Expressions"
      ]
    },
    {
      "cell_type": "markdown",
      "metadata": {
        "id": "GPqklYsqXAhM"
      },
      "source": [
        "# Tasks today:\n",
        "1) <b>Importing</b> <br>\n",
        "2) <b>Using Regular Expressions</b> <br>\n",
        " &nbsp;&nbsp;&nbsp;&nbsp; a) re.compile() <br>\n",
        " &nbsp;&nbsp;&nbsp;&nbsp; b) re.match() <br>\n",
        " &nbsp;&nbsp;&nbsp;&nbsp; c) re.findall() <br>\n",
        " &nbsp;&nbsp;&nbsp;&nbsp; d) re.search() <br>\n",
        "3) <b>Sets</b> <br>\n",
        " &nbsp;&nbsp;&nbsp;&nbsp; a) Integer Ranges <br>\n",
        " &nbsp;&nbsp;&nbsp;&nbsp; b) Character Ranges <br>\n",
        "4) <b>Counting Occurences</b> <br>\n",
        " &nbsp;&nbsp;&nbsp;&nbsp; a) {x} <br>\n",
        " &nbsp;&nbsp;&nbsp;&nbsp; b) {, x} <br>\n",
        " &nbsp;&nbsp;&nbsp;&nbsp; c) {?} <br>\n",
        " &nbsp;&nbsp;&nbsp;&nbsp; d) {*} <br>\n",
        " &nbsp;&nbsp;&nbsp;&nbsp; e) {+} <br>\n",
        "5) <b>In-Class Exercise #1</b> <br>\n",
        "6) <b>Escaping Characters</b> <br>\n",
        "7) <b>Grouping</b> <br>\n",
        "8) <b>In-Class Exercise #2</b> <br>\n",
        "9) <b>Opening a File</b> <br>\n",
        " &nbsp;&nbsp;&nbsp;&nbsp; a) open() <br>\n",
        " &nbsp;&nbsp;&nbsp;&nbsp; b) with open() <br>\n",
        " &nbsp;&nbsp;&nbsp;&nbsp; c) re.match() <br>\n",
        " &nbsp;&nbsp;&nbsp;&nbsp; d) re.search() <br>\n",
        " &nbsp;&nbsp;&nbsp;&nbsp; e) Store the String in a Variable <br>\n",
        "10) <b>Regex Project</b> <br>"
      ]
    },
    {
      "cell_type": "markdown",
      "metadata": {
        "id": "lDW93E4sXAhN"
      },
      "source": [
        "### Importing <br>\n",
        "<p>Regular Expressions are universal throughout most programming languages... They are generally imported through the module 're'.</p>"
      ]
    },
    {
      "cell_type": "code",
      "execution_count": 1,
      "metadata": {
        "id": "AjixGxtOXAhO"
      },
      "outputs": [],
      "source": [
        "# import re\n",
        "import re"
      ]
    },
    {
      "cell_type": "markdown",
      "metadata": {
        "id": "b1thk8ZhXAhO"
      },
      "source": [
        "### Using Regular Expressions <br>\n",
        "<p>Regular expressions give us the ability to search for patterns within text, strings, files, etc. They serve several uses, such as; security measures, searching, filtering, pattern recognition, and more...</p>"
      ]
    },
    {
      "cell_type": "markdown",
      "metadata": {
        "id": "6iBoyhMSXAhP"
      },
      "source": [
        "##### re.compile()"
      ]
    },
    {
      "cell_type": "code",
      "execution_count": 2,
      "metadata": {
        "id": "31W5L1SJXAhP"
      },
      "outputs": [],
      "source": [
        "# using compile, pre determines the string to be used in regular expression methods\n",
        "pattern = re.compile('abcd')\n"
      ]
    },
    {
      "cell_type": "markdown",
      "metadata": {
        "id": "DpjpRn4VXAhP"
      },
      "source": [
        "##### re.match()"
      ]
    },
    {
      "cell_type": "code",
      "execution_count": 3,
      "metadata": {
        "id": "yCJ1kvdLXAhQ",
        "colab": {
          "base_uri": "https://localhost:8080/"
        },
        "outputId": "06da6c6e-5370-454a-ce56-410071754d16"
      },
      "outputs": [
        {
          "output_type": "stream",
          "name": "stdout",
          "text": [
            "<re.Match object; span=(0, 4), match='abcd'>\n",
            "(0, 4)\n"
          ]
        }
      ],
      "source": [
        "match = pattern.match('abcd123')\n",
        "print(match)\n",
        "\n",
        "# Accessing the span of the match\n",
        "print(match.span())"
      ]
    },
    {
      "cell_type": "markdown",
      "metadata": {
        "id": "GWjJOW-SXAhR"
      },
      "source": [
        "##### re.findall()"
      ]
    },
    {
      "cell_type": "code",
      "execution_count": 4,
      "metadata": {
        "id": "e06BkTZpXAhR",
        "colab": {
          "base_uri": "https://localhost:8080/"
        },
        "outputId": "ecbcd872-535c-4304-9a56-e2a9c2d7130f"
      },
      "outputs": [
        {
          "output_type": "stream",
          "name": "stdout",
          "text": [
            "['abcd', 'abcd', 'abcd']\n"
          ]
        }
      ],
      "source": [
        "finders = pattern.findall('123abcd abcd123 abcd abcabc acb')\n",
        "print(finders)"
      ]
    },
    {
      "cell_type": "markdown",
      "metadata": {
        "id": "cZmUR7DKXAhR"
      },
      "source": [
        "##### re.search()"
      ]
    },
    {
      "cell_type": "code",
      "execution_count": 5,
      "metadata": {
        "id": "7lug_2xXXAhR",
        "colab": {
          "base_uri": "https://localhost:8080/"
        },
        "outputId": "92942402-23d1-4e2d-f5c4-4e650d29213b"
      },
      "outputs": [
        {
          "output_type": "stream",
          "name": "stdout",
          "text": [
            "<re.Match object; span=(12, 16), match='abcd'>\n",
            "(12, 16) <class 'tuple'>\n",
            "abcd\n"
          ]
        }
      ],
      "source": [
        "random_string = '123 123 234 abcd abc'\n",
        "search = pattern.search(random_string)\n",
        "print(search)\n",
        "\n",
        "span = search.span()\n",
        "print(span, type(span))\n",
        "print(random_string[span[0]: span[1]])"
      ]
    },
    {
      "cell_type": "markdown",
      "metadata": {
        "id": "6tl7nv0wXAhS"
      },
      "source": [
        "### Sets <br>\n",
        "<p>The following cells will allow you to use regular expressions to search for certain values within a range such as numbers 1 through 4.</p>"
      ]
    },
    {
      "cell_type": "markdown",
      "metadata": {
        "id": "SaOPTQtzXAhS"
      },
      "source": [
        "##### [a-z] or [A-Z] - any lowercase/uppercase letters from a to z<br/>[^2] - anything that's not 2"
      ]
    },
    {
      "cell_type": "markdown",
      "metadata": {
        "id": "YRhHkkxTXAhT"
      },
      "source": [
        "##### Integer Ranges"
      ]
    },
    {
      "cell_type": "code",
      "execution_count": 6,
      "metadata": {
        "id": "wJKuF6NYXAhT",
        "colab": {
          "base_uri": "https://localhost:8080/"
        },
        "outputId": "81afac63-6e73-486c-8d51-49d4769f4a98"
      },
      "outputs": [
        {
          "output_type": "stream",
          "name": "stdout",
          "text": [
            "673\n"
          ]
        }
      ],
      "source": [
        "pattern_int = re.compile('[0-7][7-9][0-3]')\n",
        "# ('[0-7][7-9][0-3]') This is looking for a 3 digit\n",
        "# sequence where the first number is between 0-7\n",
        "# second number is between 7-9 and third number\n",
        "# is between 0-3\n",
        "\n",
        "random_numbers = pattern_int.search('67383')\n",
        "span = random_numbers.span()\n",
        "print(random_numbers[span[0]])"
      ]
    },
    {
      "cell_type": "markdown",
      "metadata": {
        "id": "2zBtmAFrXAhT"
      },
      "source": [
        "##### Character Ranges"
      ]
    },
    {
      "cell_type": "code",
      "execution_count": 7,
      "metadata": {
        "id": "oNP14c6wXAhT",
        "colab": {
          "base_uri": "https://localhost:8080/"
        },
        "outputId": "ac959a69-a4cb-41aa-9a78-1f66fda68137"
      },
      "outputs": [
        {
          "output_type": "stream",
          "name": "stdout",
          "text": [
            "['He', 'Mr', 'An']\n"
          ]
        }
      ],
      "source": [
        "char_pattern = re.compile('[A-Z][a-z]')\n",
        "found = char_pattern.findall('Hello there Mr.Anderson')\n",
        "print(found)"
      ]
    },
    {
      "cell_type": "markdown",
      "metadata": {
        "id": "UbMlP-DaXAhT"
      },
      "source": [
        "### Counting Occurences"
      ]
    },
    {
      "cell_type": "markdown",
      "metadata": {
        "id": "nniBV3AfXAhT"
      },
      "source": [
        "##### {x} - something that occurs {num_of_times}"
      ]
    },
    {
      "cell_type": "code",
      "execution_count": 10,
      "metadata": {
        "id": "5Cl1kaLbXAhU",
        "colab": {
          "base_uri": "https://localhost:8080/"
        },
        "outputId": "f7e4cbb1-df03-459f-d0aa-8699517e2008"
      },
      "outputs": [
        {
          "output_type": "stream",
          "name": "stdout",
          "text": [
            "['An33']\n"
          ]
        }
      ],
      "source": [
        "char_pattern_count = re.compile('[A-Z][a-z][0-3]{2}')\n",
        "# The above is looking for a capital letter followed by a lowercase\n",
        "# letter followed by 2 digits in a row of a number between 0-3\n",
        "\n",
        "found_count = char_pattern_count.findall('Hello Mr. An33derson')\n",
        "print(found_count)"
      ]
    },
    {
      "cell_type": "markdown",
      "metadata": {
        "id": "vfJIPq0CXAhU"
      },
      "source": [
        "##### {x, x} - something that occurs between x and x times"
      ]
    },
    {
      "cell_type": "code",
      "execution_count": 13,
      "metadata": {
        "id": "hMpWNID_XAhU",
        "colab": {
          "base_uri": "https://localhost:8080/"
        },
        "outputId": "6db3ba7d-6041-444f-d48d-f86d5c67fd44"
      },
      "outputs": [
        {
          "output_type": "stream",
          "name": "stdout",
          "text": [
            "['m', 'm', 'm', 'mmm', 'mmmmm']\n"
          ]
        }
      ],
      "source": [
        "random_pattern = re.compile('m{1,5}')\n",
        "# finds 'm' when it occurs between 1 and 5 times.\n",
        "\n",
        "random_statement = random_pattern.findall('This is an example of a regular expression trying to find one m, more than one mmm or five mmmmm')\n",
        "print(random_statement)"
      ]
    },
    {
      "cell_type": "markdown",
      "metadata": {
        "id": "HgDyy4lKXAhU"
      },
      "source": [
        "##### ? - something that occurs 0 or 1 time"
      ]
    },
    {
      "cell_type": "code",
      "execution_count": 14,
      "metadata": {
        "id": "R2uKIcA1XAhV",
        "colab": {
          "base_uri": "https://localhost:8080/"
        },
        "outputId": "8d4b4b62-9e4c-4667-a349-13270af4ad97"
      },
      "outputs": [
        {
          "output_type": "stream",
          "name": "stdout",
          "text": [
            "['Mrs']\n"
          ]
        }
      ],
      "source": [
        "pattern = re.compile('Mrss?')\n",
        "\n",
        "found_pat = pattern.findall('Hello M there Mr. Anderson, Mid how is Mrs.Anderson, and Ms.Anderson')\n",
        "print(found_pat)"
      ]
    },
    {
      "cell_type": "markdown",
      "metadata": {
        "id": "4fX74P6cXAhV"
      },
      "source": [
        "##### * - something that occurs at least 0 times"
      ]
    },
    {
      "cell_type": "code",
      "execution_count": 16,
      "metadata": {
        "id": "1N7ILRUXXAhV",
        "colab": {
          "base_uri": "https://localhost:8080/"
        },
        "outputId": "7439d467-9d38-4649-b02c-7d9064c5e7cd"
      },
      "outputs": [
        {
          "output_type": "stream",
          "name": "stdout",
          "text": [
            "['MMMs', 's', 'Ms', 's', 's', 'Ms', 's', 's', 's', 's']\n"
          ]
        }
      ],
      "source": [
        "pattern_m = re.compile('M*s')\n",
        "# The 'M' above is optional. It must occurs at least 0 times.\n",
        "\n",
        "found_m = pattern_m.findall('MMMs name is Ms.Smith. This is Msssss')\n",
        "print(found_m)"
      ]
    },
    {
      "cell_type": "markdown",
      "metadata": {
        "id": "p2OlMiZWXAhV"
      },
      "source": [
        "##### + - something that occurs at least once"
      ]
    },
    {
      "cell_type": "code",
      "execution_count": 17,
      "metadata": {
        "id": "aepvS3MKXAhV",
        "colab": {
          "base_uri": "https://localhost:8080/"
        },
        "outputId": "8e1155ee-2a70-453d-e611-c67ea7900d0c"
      },
      "outputs": [
        {
          "output_type": "stream",
          "name": "stdout",
          "text": [
            "['Ms', 'MMMMMMs']\n"
          ]
        }
      ],
      "source": [
        "pattern_again = re.compile('M+s')\n",
        "\n",
        "found_pattern = pattern_again.findall('My name is Ms.Smith. This is MMMMMMssssss')\n",
        "print(found_pattern)"
      ]
    },
    {
      "cell_type": "markdown",
      "metadata": {
        "id": "acUGrVi2XAhV"
      },
      "source": [
        "##### In-class exercise 1:\n",
        "\n",
        "Use a regular expression to find every number in the given string"
      ]
    },
    {
      "cell_type": "code",
      "execution_count": 19,
      "metadata": {
        "id": "8V2S3HcTXAhV",
        "colab": {
          "base_uri": "https://localhost:8080/"
        },
        "outputId": "dd1116e6-1b13-40dd-fd68-45b2440fa695"
      },
      "outputs": [
        {
          "output_type": "stream",
          "name": "stdout",
          "text": [
            "['10909090', '1', '2']\n"
          ]
        }
      ],
      "source": [
        "my_string = 'This string has 10909090 numbers, bit it is only 1 string. I hope you solve this 2day.'\n",
        "\n",
        "patterned_numbers = re.compile('[0-9]+')\n",
        "found_numbers = patterned_numbers.findall(my_string)\n",
        "print(found_numbers)\n"
      ]
    },
    {
      "cell_type": "markdown",
      "metadata": {
        "id": "LR3OQPDaXAhW"
      },
      "source": [
        "### Escaping Characters"
      ]
    },
    {
      "cell_type": "markdown",
      "metadata": {
        "id": "Fzcafs1UXAhW"
      },
      "source": [
        "##### \\w - look for any Unicode character<br/>\\W - look for anything that isnt a Unicode character\n",
        "\n",
        "[History on Unicode](http://unicode.org/standard/WhatIsUnicode.html)\n",
        "\n",
        "[More on Unicode Characters](https://en.wikipedia.org/wiki/List_of_Unicode_characters)"
      ]
    },
    {
      "cell_type": "code",
      "execution_count": 24,
      "metadata": {
        "id": "pGL9WYr1XAhW",
        "colab": {
          "base_uri": "https://localhost:8080/"
        },
        "outputId": "668aeb36-fe4d-43d4-cd22-f6eabd7a47f7"
      },
      "outputs": [
        {
          "output_type": "stream",
          "name": "stdout",
          "text": [
            "🔥\n",
            "['This', 'is', 'a', 'sentence', 'With', 'an', 'exclamation', 'mark', 'at', 'the', 'end']\n",
            "[' ', ' ', ' ', '. ', ' ', ', ', ' ', ' ', ' ', ' ', '!']\n"
          ]
        }
      ],
      "source": [
        "print('\\U0001F525')\n",
        "\n",
        "pattern_1 = re.compile('[\\w]+')\n",
        "pattern_2 = re.compile('[\\W]+')\n",
        "\n",
        "found_1 = pattern_1.findall('This is a sentence. With an, exclamation mark at the end!')\n",
        "found_2 = pattern_2.findall('This is a sentence. With an, exclamation mark at the end!')\n",
        "\n",
        "print(found_1)\n",
        "print(found_2)\n",
        "\n"
      ]
    },
    {
      "cell_type": "markdown",
      "metadata": {
        "id": "xOBF6uMcXAhW"
      },
      "source": [
        "##### \\d - look for any digit 0-9<br/>\\D - look for anything that isnt a digit"
      ]
    },
    {
      "cell_type": "code",
      "execution_count": 25,
      "metadata": {
        "id": "W2HI-Tm1XAhW",
        "colab": {
          "base_uri": "https://localhost:8080/"
        },
        "outputId": "af1f5670-2e42-416d-c540-06027e494b73"
      },
      "outputs": [
        {
          "output_type": "stream",
          "name": "stdout",
          "text": [
            "['7th', '27th', '3rd', '1st', '30th']\n"
          ]
        }
      ],
      "source": [
        "# ('\\d{1,2}') looks for 1 or 2 digits\n",
        "# ('[a-z]{2}) looks for two lower case letters\n",
        "pattern_nums = re.compile('\\d{1,2}[a-z]{2}')\n",
        "\n",
        "found_date = pattern_nums.findall('Today is the 7th, in 20 days it will be the 27th. 3rd 1st, 30th')\n",
        "print(found_date)"
      ]
    },
    {
      "cell_type": "markdown",
      "metadata": {
        "id": "H4BVo4rFXAhW"
      },
      "source": [
        "##### \\s - look for any white space<br/>\\S - look for anything that isnt whitespace"
      ]
    },
    {
      "cell_type": "code",
      "execution_count": 27,
      "metadata": {
        "id": "IPL1hBOjXAhW",
        "colab": {
          "base_uri": "https://localhost:8080/"
        },
        "outputId": "81e98ceb-41be-4d77-de81-cf1f3f7f484b"
      },
      "outputs": [
        {
          "output_type": "stream",
          "name": "stdout",
          "text": [
            "[' ', ' ', ' ', ' ', ' ']\n",
            "['Are', 'you', 'afraid', 'of', 'the', 'dark']\n"
          ]
        }
      ],
      "source": [
        "pattern_no_space = re.compile('\\S[a-z]+')\n",
        "pattern_space = re.compile('\\s+')\n",
        "found_space = pattern_space.findall('Are you afraid of the dark?')\n",
        "print(found_space)\n",
        "\n",
        "found_dark = pattern_no_space.findall('Are you afraid of the dark?')\n",
        "print(found_dark)"
      ]
    },
    {
      "cell_type": "markdown",
      "metadata": {
        "id": "tStZNu9pXAhW"
      },
      "source": [
        "##### \\b - look for boundaries or edges of a word<br/>\\B - look for anything that isnt a boundary"
      ]
    },
    {
      "cell_type": "code",
      "execution_count": 29,
      "metadata": {
        "id": "j3RTEHM-XAhW",
        "colab": {
          "base_uri": "https://localhost:8080/"
        },
        "outputId": "cd9384c0-7be6-4d0a-ef7f-ae1387e15bd2"
      },
      "outputs": [
        {
          "output_type": "stream",
          "name": "stdout",
          "text": [
            "[]\n",
            "['TheCodingTemple']\n"
          ]
        }
      ],
      "source": [
        "pattern_bound = re.compile(r'\\bTheCodingTemple\\b')\n",
        "pattern_bound_none = re.compile(r'\\BTheCodingTemple\\B')\n",
        "\n",
        "no_found_bound = pattern_bound_none.findall('TheCodingTemple')\n",
        "print(no_found_bound)\n",
        "\n",
        "found_bound = pattern_bound.findall('TheCodingTemple')\n",
        "print(found_bound)"
      ]
    },
    {
      "cell_type": "markdown",
      "metadata": {
        "id": "OM1dt7v_XAhW"
      },
      "source": [
        "### Grouping"
      ]
    },
    {
      "cell_type": "code",
      "execution_count": 44,
      "metadata": {
        "id": "QYM43LQ2XAhW",
        "colab": {
          "base_uri": "https://localhost:8080/"
        },
        "outputId": "857d4ce6-94a6-4222-f40b-e00a73d50413"
      },
      "outputs": [
        {
          "output_type": "stream",
          "name": "stdout",
          "text": [
            "[('Max', 'Smith'), ('Sam', 'Darnold'), ('LeBron', 'James'), ('Michael', 'Jordan'), ('Kevin', 'Durant'), ('Patrick', 'McCormick')]\n",
            "('Max', 'Smith')\n",
            "not a name\n",
            "('Sam', 'Darnold')\n",
            "('LeBron', 'James')\n",
            "('Michael', 'Jordan')\n",
            "('Kevin', 'Durant')\n",
            "('Patrick', 'McCormick')\n"
          ]
        }
      ],
      "source": [
        "my_string_again = 'Max Smith, aaron rogers, Sam Darnold, LeBron James, Michael Jordan, Kevin Durant, Patrick McCormick'\n",
        "\n",
        "# Group of names regular expression compiler.\n",
        "pattern_name = re.compile('([A-Z][a-zA-za-z]+) ([A-Z][A-Za-z]+)')\n",
        "found_names = pattern_name.findall(my_string_again)\n",
        "print(found_names)\n",
        "\n",
        "for name in my_string_again.split(','):\n",
        "  match = pattern_name.search(name)\n",
        "\n",
        "  if match:\n",
        "    print(match.groups(2))\n",
        "  else:\n",
        "    print('not a name')\n"
      ]
    },
    {
      "cell_type": "markdown",
      "metadata": {
        "id": "T8QW9WjxXAhW"
      },
      "source": [
        "##### In-class Exercise 2:\n",
        "\n",
        "Write a function using regular expressions to find the domain name in the given email addresses (and return None for the invalid email addresses)<br><b>HINT: Use '|' for either or</b>"
      ]
    },
    {
      "cell_type": "code",
      "execution_count": 52,
      "metadata": {
        "id": "iMVnTQeeXAhX",
        "colab": {
          "base_uri": "https://localhost:8080/",
          "height": 236
        },
        "outputId": "7b7c6514-8cba-4d62-e1a3-1d22638190ad"
      },
      "outputs": [
        {
          "output_type": "error",
          "ename": "TypeError",
          "evalue": "ignored",
          "traceback": [
            "\u001b[0;31m---------------------------------------------------------------------------\u001b[0m",
            "\u001b[0;31mTypeError\u001b[0m                                 Traceback (most recent call last)",
            "\u001b[0;32m<ipython-input-52-b755a4ae7803>\u001b[0m in \u001b[0;36m<cell line: 17>\u001b[0;34m()\u001b[0m\n\u001b[1;32m     15\u001b[0m \u001b[0mpattern_email\u001b[0m \u001b[0;34m=\u001b[0m \u001b[0mre\u001b[0m\u001b[0;34m.\u001b[0m\u001b[0mcompile\u001b[0m\u001b[0;34m(\u001b[0m\u001b[0;34m'[\\W]?'\u001b[0m\u001b[0;34m)\u001b[0m\u001b[0;34m\u001b[0m\u001b[0;34m\u001b[0m\u001b[0m\n\u001b[1;32m     16\u001b[0m \u001b[0;34m\u001b[0m\u001b[0m\n\u001b[0;32m---> 17\u001b[0;31m \u001b[0memail\u001b[0m \u001b[0;34m=\u001b[0m \u001b[0mpattern_email\u001b[0m\u001b[0;34m.\u001b[0m\u001b[0mfindall\u001b[0m\u001b[0;34m(\u001b[0m\u001b[0mmy_emails\u001b[0m\u001b[0;34m)\u001b[0m\u001b[0;34m\u001b[0m\u001b[0;34m\u001b[0m\u001b[0m\n\u001b[0m\u001b[1;32m     18\u001b[0m \u001b[0mprint\u001b[0m\u001b[0;34m(\u001b[0m\u001b[0memail\u001b[0m\u001b[0;34m)\u001b[0m\u001b[0;34m\u001b[0m\u001b[0;34m\u001b[0m\u001b[0m\n",
            "\u001b[0;31mTypeError\u001b[0m: expected string or bytes-like object"
          ]
        }
      ],
      "source": [
        "my_emails = [\"jordanw@codingtemple.orgcom\", \"pocohontas1776@gmail.com\", \"helloworld@aol..com\",\n",
        "             \"yourfavoriteband@g6.org\", \"@codingtemple.com\"]\n",
        "\n",
        "# You can also use the $ at the end of your compile expression -- this stops the search\n",
        "\n",
        "#.com OR .org => com|org\n",
        "\n",
        "#Expected output:\n",
        "#None\n",
        "#pocohontas1776@gmail.com\n",
        "#None\n",
        "#yourfavoriteband@g6.org\n",
        "#None\n",
        "\n",
        "pattern_email = re.compile('[\\W]')\n",
        "\n",
        "email = pattern_email.findall(my_emails)\n",
        "print(email)\n"
      ]
    },
    {
      "cell_type": "markdown",
      "metadata": {
        "id": "04PP4fk2XAhX"
      },
      "source": [
        "### Opening a File <br>\n",
        "<p>Python gives us a couple ways to import files, below are the two used most often.</p>"
      ]
    },
    {
      "cell_type": "markdown",
      "metadata": {
        "id": "dp_KeqnUXAhX"
      },
      "source": [
        "##### open()"
      ]
    },
    {
      "cell_type": "code",
      "execution_count": null,
      "metadata": {
        "id": "34Vdnv5vXAhX"
      },
      "outputs": [],
      "source": []
    },
    {
      "cell_type": "markdown",
      "metadata": {
        "id": "ehGLeKLuXAhX"
      },
      "source": [
        "##### with open()"
      ]
    },
    {
      "cell_type": "code",
      "execution_count": null,
      "metadata": {
        "id": "o3cEjoHyXAhY"
      },
      "outputs": [],
      "source": []
    },
    {
      "cell_type": "markdown",
      "metadata": {
        "id": "AU-F1AxSXAhY"
      },
      "source": [
        "##### re.match()"
      ]
    },
    {
      "cell_type": "code",
      "execution_count": null,
      "metadata": {
        "id": "MlyEdezlXAhY"
      },
      "outputs": [],
      "source": []
    },
    {
      "cell_type": "markdown",
      "metadata": {
        "id": "4raYkzbmXAhY"
      },
      "source": [
        "##### re.search()"
      ]
    },
    {
      "cell_type": "code",
      "execution_count": null,
      "metadata": {
        "id": "2TPPczVWXAhY"
      },
      "outputs": [],
      "source": []
    },
    {
      "cell_type": "markdown",
      "metadata": {
        "id": "QQDGtDSJXAhY"
      },
      "source": [
        "##### Store the String to a Variable"
      ]
    },
    {
      "cell_type": "code",
      "execution_count": null,
      "metadata": {
        "id": "VI16oo_EXAhY"
      },
      "outputs": [],
      "source": []
    },
    {
      "cell_type": "markdown",
      "metadata": {
        "id": "xEBUZw6aXAhY"
      },
      "source": [
        "### In-Class Exercise #3 <br>\n",
        "<p>Print each persons name and twitter handle, using groups, should look like:</p>\n",
        "<p>==============<br>\n",
        "   Full Name / Twitter<br>\n",
        "   ==============</p>\n",
        "Derek Hawkins / @derekhawkins\n",
        "\n",
        " Erik Sven-Osterberg / @sverik\n",
        "\n",
        " Ryan Butz / @ryanbutz\n",
        "\n",
        " Example Exampleson / @example\n",
        "\n",
        " Ripal Pael / @ripalp\n",
        "\n",
        " Darth Vader / @darthvader"
      ]
    },
    {
      "cell_type": "code",
      "execution_count": null,
      "metadata": {
        "scrolled": true,
        "id": "zv2ujWMUXAhZ"
      },
      "outputs": [],
      "source": []
    },
    {
      "cell_type": "markdown",
      "metadata": {
        "id": "jAGodiz9XAhZ"
      },
      "source": [
        "### Regex project\n",
        "\n",
        "Use python to read the file regex_test.txt and print the last name on each line using regular expressions and groups (return None for names with no first and last name, or names that aren't properly capitalized)\n",
        "##### Hint: use with open() and readlines()"
      ]
    },
    {
      "cell_type": "code",
      "execution_count": null,
      "metadata": {
        "id": "p_31b9XtXAhZ"
      },
      "outputs": [],
      "source": [
        "\"\"\"\n",
        "Expected Output\n",
        "Abraham Lincoln\n",
        "Andrew P Garfield\n",
        "Connor Milliken\n",
        "Jordan Alexander Williams\n",
        "None\n",
        "None\n",
        "\"\"\""
      ]
    },
    {
      "cell_type": "code",
      "execution_count": null,
      "metadata": {
        "id": "i7U4tT7PXAhZ"
      },
      "outputs": [],
      "source": []
    }
  ],
  "metadata": {
    "kernelspec": {
      "display_name": "Python 3",
      "language": "python",
      "name": "python3"
    },
    "language_info": {
      "codemirror_mode": {
        "name": "ipython",
        "version": 3
      },
      "file_extension": ".py",
      "mimetype": "text/x-python",
      "name": "python",
      "nbconvert_exporter": "python",
      "pygments_lexer": "ipython3",
      "version": "3.7.6"
    },
    "colab": {
      "provenance": [],
      "include_colab_link": true
    }
  },
  "nbformat": 4,
  "nbformat_minor": 0
}